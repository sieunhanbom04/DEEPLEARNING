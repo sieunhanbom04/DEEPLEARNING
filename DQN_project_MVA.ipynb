{
 "cells": [
  {
   "cell_type": "markdown",
   "metadata": {},
   "source": [
    "**You may need to install [OpenCV](https://pypi.python.org/pypi/opencv-python) and [scikit-video](http://www.scikit-video.org/stable/).**"
   ]
  },
  {
   "cell_type": "code",
   "execution_count": 1,
   "metadata": {},
   "outputs": [
    {
     "data": {
      "text/plain": [
       "'\\nfrom tensorflow.keras.models import Sequential,model_from_json\\nfrom keras.layers.core import Dense\\nfrom keras.optimizers import sgd\\nfrom tensorflow.keras.layers import Conv2D, MaxPooling2D, Activation, AveragePooling2D,Reshape,BatchNormalization\\n'"
      ]
     },
     "execution_count": 1,
     "metadata": {},
     "output_type": "execute_result"
    }
   ],
   "source": [
    "#import keras\n",
    "import numpy as np\n",
    "import io\n",
    "import base64\n",
    "from IPython.display import HTML\n",
    "import skvideo.io\n",
    "import cv2\n",
    "import json\n",
    "import tensorflow as tf\n",
    "\n",
    "from tensorflow.keras.models import Sequential, model_from_json\n",
    "from tensorflow.keras.layers import Embedding, LSTM, Dense, Activation, Reshape, Conv2D, Flatten\n",
    "from tensorflow.keras.optimizers import SGD\n",
    "\"\"\"\n",
    "from tensorflow.keras.models import Sequential,model_from_json\n",
    "from keras.layers.core import Dense\n",
    "from keras.optimizers import sgd\n",
    "from tensorflow.keras.layers import Conv2D, MaxPooling2D, Activation, AveragePooling2D,Reshape,BatchNormalization\n",
    "\"\"\""
   ]
  },
  {
   "cell_type": "markdown",
   "metadata": {},
   "source": [
    "# MiniProject on Deep Reinforcement Learning"
   ]
  },
  {
   "cell_type": "markdown",
   "metadata": {},
   "source": [
    "__Notations__: $E_p$ is the expectation under probability $p$. Please justify each of your answer and widely comment your code."
   ]
  },
  {
   "cell_type": "markdown",
   "metadata": {},
   "source": [
    "# Context"
   ]
  },
  {
   "cell_type": "markdown",
   "metadata": {},
   "source": [
    "In a reinforcement learning algorithm, we modelize each step $t$ as an action $a_t$ obtained from a state $s_t$, i.e. $\\{(a_{t},s_{t})_{t\\leq T}\\}$ having the Markov property. We consider a discount factor $\\gamma \\in [0,1]$ that ensures convergence. The goal is to find among all the policies $\\pi$, one that maximizes the expected reward:\n",
    "\n",
    "\\begin{equation*}\n",
    "R(\\pi)=\\sum_{t\\leq T}E_{p^{\\pi}}[\\gamma^t r(s_{t},a_{t})] \\> ,\n",
    "\\end{equation*}\n",
    "\n",
    "where: \n",
    "\\begin{equation*}p^{\\pi}(a_{0},a_{1},s_{1},...,a_{T},s_{T})=p(a_{0})\\prod_{t=1}^{T}\\pi(a_{t}|s_{t})p(s_{t+1}|s_{t},a_{t}) \\> .\n",
    "\\end{equation*}\n",
    "\n",
    "We note the $Q$-function:\n",
    "\n",
    "\\begin{equation*}Q^\\pi(s,a)=E_{p^{\\pi}}[\\sum_{t\\leq T}\\gamma^{t}r(s_{t},a_{t})|s_{0}=s,a_{0}=a] \\> .\n",
    "\\end{equation*}\n",
    "\n",
    "Thus, the optimal Q function is:\n",
    "\\begin{equation*}\n",
    "Q^*(s,a)=\\max_{\\pi}Q^\\pi(s,a) \\> .\n",
    "\\end{equation*}\n",
    "\n",
    "In this project, we will apply the deep reinforcement learning techniques to a simple game: an agent will have to learn from scratch a policy that will permit it maximizing a reward."
   ]
  },
  {
   "cell_type": "markdown",
   "metadata": {},
   "source": [
    "## The environment, the agent and the game"
   ]
  },
  {
   "cell_type": "markdown",
   "metadata": {},
   "source": [
    "### The environment"
   ]
  },
  {
   "cell_type": "markdown",
   "metadata": {},
   "source": [
    "```Environment``` is an abstract class that represents the states, rewards, and actions to obtain the new state."
   ]
  },
  {
   "cell_type": "code",
   "execution_count": 2,
   "metadata": {},
   "outputs": [],
   "source": [
    "class Environment(object):\n",
    "    def __init__(self):\n",
    "        pass\n",
    "\n",
    "    def act(self, act):\n",
    "        \"\"\"\n",
    "        One can act on the environment and obtain its reaction:\n",
    "        - the new state\n",
    "        - the reward of the new state\n",
    "        - should we continue the game?\n",
    "\n",
    "        :return: state, reward, game_over\n",
    "        \"\"\"\n",
    "        pass\n",
    "\n",
    "\n",
    "    def reset(self):\n",
    "        \"\"\"\n",
    "        Reinitialize the environment to a random state and returns\n",
    "        the original state\n",
    "\n",
    "        :return: state\n",
    "        \"\"\"\n",
    "        pass\n",
    "    \n",
    "    def draw(self):\n",
    "        \"\"\"\n",
    "        Visualize in the console or graphically the current state\n",
    "        \"\"\"\n",
    "        pass"
   ]
  },
  {
   "cell_type": "markdown",
   "metadata": {},
   "source": [
    "The method ```act``` allows to act on the environment at a given state $s_t$ (stored internally), via action $a_t$. The method will return the new state $s_{t+1}$, the reward $r(s_{t},a_{t})$ and determines if $t\\leq T$ (*game_over*).\n",
    "\n",
    "The method ```reset``` simply reinitializes the environment to a random state $s_0$.\n",
    "\n",
    "The method ```draw``` displays the current state $s_t$ (this is useful to check the behavior of the Agent).\n",
    "\n",
    "We modelize $s_t$ as a tensor, while $a_t$ is an integer."
   ]
  },
  {
   "cell_type": "markdown",
   "metadata": {},
   "source": [
    "### The Agent"
   ]
  },
  {
   "cell_type": "markdown",
   "metadata": {},
   "source": [
    "The goal of the ```Agent``` is to interact with the ```Environment``` by proposing actions $a_t$ obtained from a given state $s_t$ to attempt to maximize its __reward__ $r(s_t,a_t)$. We propose the following abstract class:"
   ]
  },
  {
   "cell_type": "code",
   "execution_count": 3,
   "metadata": {},
   "outputs": [],
   "source": [
    "class Agent(object):\n",
    "    def __init__(self, epsilon=0.1, n_action=4):\n",
    "        self.epsilon = epsilon\n",
    "        self.n_action = n_action\n",
    "    \n",
    "    def set_epsilon(self,e):\n",
    "        self.epsilon = e\n",
    "\n",
    "    def act(self,s,train=True):\n",
    "        \"\"\" This function should return the next action to do:\n",
    "        an integer between 0 and 4 (not included) with a random exploration of epsilon\"\"\"\n",
    "        if train:\n",
    "            if np.random.rand() <= self.epsilon:\n",
    "                a = np.random.randint(0, self.n_action, size=1)[0]\n",
    "            else:\n",
    "                a = self.learned_act(s)\n",
    "        else: # in some cases, this can improve the performance.. remove it if poor performances\n",
    "            a = self.learned_act(s)\n",
    "\n",
    "        return a\n",
    "\n",
    "    def learned_act(self,s):\n",
    "        \"\"\" Act via the policy of the agent, from a given state s\n",
    "        it proposes an action a\"\"\"\n",
    "        pass\n",
    "\n",
    "    def reinforce(self, s, n_s, a, r, game_over_):\n",
    "        \"\"\" This function is the core of the learning algorithm. \n",
    "        It takes as an input the current state s_, the next state n_s_\n",
    "        the action a_ used to move from s_ to n_s_ and the reward r_.\n",
    "        \n",
    "        Its goal is to learn a policy.\n",
    "        \"\"\"\n",
    "        pass\n",
    "\n",
    "    def save(self):\n",
    "        \"\"\" This function returns basic stats if applicable: the\n",
    "        loss and/or the model\"\"\"\n",
    "        pass\n",
    "\n",
    "    def load(self):\n",
    "        \"\"\" This function allows to restore a model\"\"\"\n",
    "        pass"
   ]
  },
  {
   "cell_type": "markdown",
   "metadata": {},
   "source": [
    "***\n",
    "__Question 1__:\n",
    "Explain the function act. Why is ```epsilon``` essential?"
   ]
  },
  {
   "cell_type": "markdown",
   "metadata": {},
   "source": [
    "1) Function __act__ is to decide the action to take when receiving a configuration from the environment. Indeed, __act__ behaves differently according to the phase:\n",
    "\n",
    "- During the training process, __act__ returns a uniformly random action with probability $\\epsilon$ and the best action (with respect to the current $Q$ function) with probability $1 - \\epsilon$.\n",
    "\n",
    "- During the testing time, __act__ always returns the best action w.r.t its current $Q$ estimation.\n",
    "\n",
    "2) $\\epsilon$ is important since it controls the exploration-exploitation tradeoff. If $\\epsilon$ is too small, the algorithm will not explore enough and converge to suboptimal solution. On the other hand, it is be hard for the algorithm to converge with too large $\\epsilon$.   "
   ]
  },
  {
   "cell_type": "markdown",
   "metadata": {},
   "source": [
    "***\n",
    "### The Game"
   ]
  },
  {
   "cell_type": "markdown",
   "metadata": {},
   "source": [
    "The ```Agent``` and the ```Environment``` work in an interlaced way as in the following (take some time to understand this code as it is the core of the project)\n",
    "\n",
    "```python\n",
    "\n",
    "epoch = 300\n",
    "env = Environment()\n",
    "agent = Agent()\n",
    "\n",
    "\n",
    "# Number of won games\n",
    "score = 0\n",
    "loss = 0\n",
    "\n",
    "\n",
    "for e in range(epoch):\n",
    "    # At each epoch, we restart to a fresh game and get the initial state\n",
    "    state = env.reset()\n",
    "    # This assumes that the games will end\n",
    "    game_over = False\n",
    "\n",
    "    win = 0\n",
    "    lose = 0\n",
    "    \n",
    "    while not game_over:\n",
    "        # The agent performs an action\n",
    "        action = agent.act(state)\n",
    "\n",
    "        # Apply an action to the environment, get the next state, the reward\n",
    "        # and if the games end\n",
    "        prev_state = state\n",
    "        state, reward, game_over = env.act(action)\n",
    "\n",
    "        # Update the counters\n",
    "        if reward > 0:\n",
    "            win = win + reward\n",
    "        if reward < 0:\n",
    "            lose = lose -reward\n",
    "\n",
    "        # Apply the reinforcement strategy\n",
    "        loss = agent.reinforce(prev_state, state,  action, reward, game_over)\n",
    "\n",
    "    # Save as a mp4\n",
    "    if e % 10 == 0:\n",
    "        env.draw(e)\n",
    "\n",
    "    # Update stats\n",
    "    score += win-lose\n",
    "\n",
    "    print(\"Epoch {:03d}/{:03d} | Loss {:.4f} | Win/lose count {}/{} ({})\"\n",
    "          .format(e, epoch, loss, win, lose, win-lose))\n",
    "    agent.save()\n",
    "```"
   ]
  },
  {
   "cell_type": "markdown",
   "metadata": {},
   "source": [
    "# The game, *eat cheese*"
   ]
  },
  {
   "cell_type": "markdown",
   "metadata": {},
   "source": [
    "A rat runs on an island and tries to eat as much as possible. The island is subdivided into $N\\times N$ cells, in which there are cheese (+0.5) and poisonous cells (-1). The rat has a visibility of 2 cells (thus it can see $5^2$ cells). The rat is given a time $T$ to accumulate as much food as possible. It can perform 4 actions: going up, down, left, right. \n",
    "\n",
    "The goal is to code an agent to solve this task that will learn by trial and error. We propose the following environment:"
   ]
  },
  {
   "cell_type": "code",
   "execution_count": 4,
   "metadata": {},
   "outputs": [],
   "source": [
    "class Environment(object):\n",
    "    def __init__(self, grid_size=10, max_time=500, temperature=0.1):\n",
    "        grid_size = grid_size+4\n",
    "        self.grid_size = grid_size\n",
    "        self.max_time = max_time\n",
    "        self.temperature = temperature\n",
    "\n",
    "        #board on which one plays\n",
    "        self.board = np.zeros((grid_size,grid_size))\n",
    "        self.position = np.zeros((grid_size,grid_size))\n",
    "\n",
    "        # coordinate of the cat\n",
    "        self.x = 0\n",
    "        self.y = 1\n",
    "\n",
    "        # self time\n",
    "        self.t = 0\n",
    "\n",
    "        self.scale=16\n",
    "\n",
    "        self.to_draw = np.zeros((max_time+2, grid_size*self.scale, grid_size*self.scale, 3))\n",
    "\n",
    "\n",
    "    def draw(self,e):\n",
    "        skvideo.io.vwrite(str(e) + '.mp4', self.to_draw)\n",
    "\n",
    "    def get_frame(self,t):\n",
    "        b = np.zeros((self.grid_size,self.grid_size,3))+128\n",
    "        b[self.board>0,0] = 256\n",
    "        b[self.board < 0, 2] = 256\n",
    "        b[self.x,self.y,:]=256\n",
    "        b[-2:,:,:]=0\n",
    "        b[:,-2:,:]=0\n",
    "        b[:2,:,:]=0\n",
    "        b[:,:2,:]=0\n",
    "        \n",
    "        b =  cv2.resize(b, None, fx=self.scale, fy=self.scale, interpolation=cv2.INTER_NEAREST)\n",
    "\n",
    "        self.to_draw[t,:,:,:]=b\n",
    "\n",
    "\n",
    "    def act(self, action):\n",
    "        \"\"\"This function returns the new state, reward and decides if the\n",
    "        game ends.\"\"\"\n",
    "\n",
    "        self.get_frame(int(self.t))\n",
    "\n",
    "        self.position = np.zeros((self.grid_size, self.grid_size))\n",
    "\n",
    "        self.position[0:2,:]= -1\n",
    "        self.position[:,0:2] = -1\n",
    "        self.position[-2:, :] = -1\n",
    "        self.position[:, -2:] = -1\n",
    "\n",
    "        self.position[self.x, self.y] = 1\n",
    "        if action == 0:\n",
    "            if self.x == self.grid_size-3:\n",
    "                self.x = self.x-1\n",
    "            else:\n",
    "                self.x = self.x + 1\n",
    "        elif action == 1:\n",
    "            if self.x == 2:\n",
    "                self.x = self.x+1\n",
    "            else:\n",
    "                self.x = self.x-1\n",
    "        elif action == 2:\n",
    "            if self.y == self.grid_size - 3:\n",
    "                self.y = self.y - 1\n",
    "            else:\n",
    "                self.y = self.y + 1\n",
    "        elif action == 3:\n",
    "            if self.y == 2:\n",
    "                self.y = self.y + 1\n",
    "            else:\n",
    "                self.y = self.y - 1\n",
    "        else:\n",
    "            RuntimeError('Error: action not recognized')\n",
    "\n",
    "        self.t = self.t + 1\n",
    "        reward = self.board[self.x, self.y]\n",
    "        self.board[self.x, self.y] = 0\n",
    "        game_over = self.t > self.max_time\n",
    "        state = np.concatenate((self.board.reshape(self.grid_size, self.grid_size,1),\n",
    "                        self.position.reshape(self.grid_size, self.grid_size,1)),axis=2)\n",
    "        state = state[self.x-2:self.x+3,self.y-2:self.y+3,:]\n",
    "\n",
    "        return state, reward, game_over\n",
    "\n",
    "    def reset(self):\n",
    "        \"\"\"This function resets the game and returns the initial state\"\"\"\n",
    "\n",
    "        self.x = np.random.randint(3, self.grid_size-3, size=1)[0]\n",
    "        self.y = np.random.randint(3, self.grid_size-3, size=1)[0]\n",
    "\n",
    "\n",
    "        bonus = 0.5*np.random.binomial(1,self.temperature,size=self.grid_size**2)\n",
    "        bonus = bonus.reshape(self.grid_size,self.grid_size)\n",
    "\n",
    "        malus = -1.0*np.random.binomial(1,self.temperature,size=self.grid_size**2)\n",
    "        malus = malus.reshape(self.grid_size, self.grid_size)\n",
    "\n",
    "        self.to_draw = np.zeros((self.max_time+2, self.grid_size*self.scale, self.grid_size*self.scale, 3))\n",
    "\n",
    "\n",
    "        malus[bonus>0]=0\n",
    "\n",
    "        self.board = bonus + malus\n",
    "\n",
    "        self.position = np.zeros((self.grid_size, self.grid_size))\n",
    "        self.position[0:2,:]= -1\n",
    "        self.position[:,0:2] = -1\n",
    "        self.position[-2:, :] = -1\n",
    "        self.position[:, -2:] = -1\n",
    "        self.board[self.x,self.y] = 0\n",
    "        self.t = 0\n",
    "\n",
    "        state = np.concatenate((\n",
    "                               self.board.reshape(self.grid_size, self.grid_size,1),\n",
    "                        self.position.reshape(self.grid_size, self.grid_size,1)),axis=2)\n",
    "\n",
    "        state = state[self.x - 2:self.x + 3, self.y - 2:self.y + 3, :]\n",
    "        return state"
   ]
  },
  {
   "cell_type": "markdown",
   "metadata": {},
   "source": [
    "The following elements are important because they correspond to the hyper parameters for this project:"
   ]
  },
  {
   "cell_type": "code",
   "execution_count": 5,
   "metadata": {},
   "outputs": [],
   "source": [
    "# parameters\n",
    "size = 13\n",
    "T=200\n",
    "temperature=0.3\n",
    "epochs_train=21 # set small when debugging\n",
    "epochs_test=11 # set small when debugging\n",
    "\n",
    "# display videos\n",
    "def display_videos(name):\n",
    "    video = io.open(name, 'r+b').read()\n",
    "    encoded = base64.b64encode(video)\n",
    "    return '''<video alt=\"test\" controls>\n",
    "                <source src=\"data:video/mp4;base64,{}\" type=\"video/mp4\" />\n",
    "             </video>'''.format(encoded.decode('ascii'))"
   ]
  },
  {
   "cell_type": "markdown",
   "metadata": {},
   "source": [
    "__Question 2__ Explain the use of the arrays ```position``` and ```board```."
   ]
  },
  {
   "cell_type": "markdown",
   "metadata": {},
   "source": [
    "1) Array __position__ is used to store the positions and the boundary of playing field: the value of a cell is $-1$ if it is not in the playing field, $1$ if it is the current position of the rat and $0$ otherwise.\n",
    "\n",
    "2) Array __board__ is used to store the the positions of the cheese (of value $0.5$) and poisonous cells (of value $-1$). Once those cells are visited, the value will be set $0$ (which means they become normal cells)."
   ]
  },
  {
   "cell_type": "markdown",
   "metadata": {},
   "source": [
    "## Random Agent"
   ]
  },
  {
   "cell_type": "markdown",
   "metadata": {},
   "source": [
    "***\n",
    "__Question 3__ Implement a random Agent (only ```learned_act``` needs to be implemented):"
   ]
  },
  {
   "cell_type": "code",
   "execution_count": 6,
   "metadata": {},
   "outputs": [],
   "source": [
    "class RandomAgent(Agent):\n",
    "    def __init__(self):\n",
    "        super(RandomAgent, self).__init__()\n",
    "        pass\n",
    "\n",
    "    def learned_act(self, s):\n",
    "        #return uniformly 4 possible actions\n",
    "        return np.random.randint(0, self.n_action, size=1)[0]"
   ]
  },
  {
   "cell_type": "markdown",
   "metadata": {},
   "source": [
    "***\n",
    "***\n",
    "__Question 4__ Visualize the game moves. You need to fill in the following function for the evaluation:"
   ]
  },
  {
   "cell_type": "code",
   "execution_count": 7,
   "metadata": {},
   "outputs": [],
   "source": [
    "def test(agent,env,epochs,prefix=''):\n",
    "    # Number of won games\n",
    "    score = 0\n",
    "        \n",
    "    for e in range(epochs):\n",
    "        \n",
    "        ##### FILL IN HERE\n",
    "        state = env.reset()\n",
    "        # This assumes that the games will end\n",
    "        game_over = False\n",
    "\n",
    "        win = 0\n",
    "        lose = 0\n",
    "        while not game_over:\n",
    "            # The agent performs an action\n",
    "            action = agent.act(state) #I still keep small epsilon random action to have a better performance\n",
    "\n",
    "            # Apply an action to the environment, get the next state, the reward\n",
    "            # and if the games end\n",
    "            prev_state = state\n",
    "            state, reward, game_over = env.act(action)\n",
    "\n",
    "            # Update the counters\n",
    "            if reward > 0:\n",
    "                win = win + reward\n",
    "            if reward < 0:\n",
    "                lose = lose -reward\n",
    "\n",
    "        # Save as a mp4\n",
    "        if e == epochs - 1:\n",
    "            env.draw(prefix+str(e))\n",
    "\n",
    "        # Update stats\n",
    "        score = score + win-lose\n",
    "\n",
    "        print(\"Win/lose count {}/{}. Average score ({})\"\n",
    "              .format(win, lose, score/(1+e)))\n",
    "    print('Final score: '+str(score/epochs))"
   ]
  },
  {
   "cell_type": "code",
   "execution_count": 8,
   "metadata": {},
   "outputs": [
    {
     "name": "stdout",
     "output_type": "stream",
     "text": [
      "Win/lose count 10.0/14.0. Average score (-4.0)\n",
      "Win/lose count 11.0/18.0. Average score (-5.5)\n",
      "Win/lose count 7.5/11.0. Average score (-4.833333333333333)\n",
      "Win/lose count 10.5/12.0. Average score (-4.0)\n",
      "Win/lose count 15.5/17.0. Average score (-3.5)\n",
      "Win/lose count 7.5/13.0. Average score (-3.8333333333333335)\n",
      "Win/lose count 11.5/13.0. Average score (-3.5)\n",
      "Win/lose count 5.0/6.0. Average score (-3.1875)\n",
      "Win/lose count 8.0/14.0. Average score (-3.5)\n",
      "Win/lose count 11.5/11.0. Average score (-3.1)\n",
      "Win/lose count 5.5/13.0. Average score (-3.5)\n",
      "Final score: -3.5\n"
     ]
    },
    {
     "data": {
      "text/html": [
       "<video alt=\"test\" controls>\n",
       "                <source src=\"data:video/mp4;base64,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\" type=\"video/mp4\" />\n",
       "             </video>"
      ],
      "text/plain": [
       "<IPython.core.display.HTML object>"
      ]
     },
     "execution_count": 8,
     "metadata": {},
     "output_type": "execute_result"
    }
   ],
   "source": [
    "# Initialize the game\n",
    "env = Environment(grid_size=size, max_time=T,temperature=temperature)\n",
    "\n",
    "# Initialize the agent!\n",
    "agent = RandomAgent()\n",
    "\n",
    "test(agent,env,epochs_test,prefix='random')\n",
    "HTML(data = display_videos('random0.mp4'))"
   ]
  },
  {
   "cell_type": "markdown",
   "metadata": {},
   "source": [
    "***\n",
    "## DQN"
   ]
  },
  {
   "cell_type": "markdown",
   "metadata": {},
   "source": [
    "Let us assume here that $T=\\infty$.\n",
    "\n",
    "***\n",
    "__Question 5__ Let $\\pi$ be a policy, show that:\n",
    "\n",
    "\\begin{equation*}\n",
    "Q^{\\pi}(s,a)=E_{(s',a')\\sim p(.|s,a)}[r(s,a)+\\gamma Q^{\\pi}(s',a')]\n",
    "\\end{equation*}\n",
    "\n",
    "Then, show that for the optimal policy $\\pi^*$ (we assume its existence), the following holds: \n",
    "\n",
    "\\begin{equation*}\n",
    "Q^{*}(s,a)=E_{s'\\sim \\pi^*(.|s,a)}[r(s,a)+\\gamma\\max_{a'}Q^{*}(s',a')].\n",
    "\\end{equation*}\n",
    "Finally, deduce that a plausible objective is:\n",
    "\n",
    "\\begin{equation*}\n",
    "\\mathcal{L}(\\theta)=E_{s' \\sim \\pi^*(.|s,a)}\\Vert r+\\gamma\\max_{a'}Q(s',a',\\theta)-Q(s,a,\\theta)\\Vert^{2}.\n",
    "\\end{equation*}\n",
    "\n",
    "\n"
   ]
  },
  {
   "cell_type": "markdown",
   "metadata": {},
   "source": [
    "1) Proof of the first statement (Bellman equation)\n",
    "\n",
    "\\begin{equation*}\n",
    "\\begin{aligned}\n",
    "Q^\\pi(s,a) & = E_{p^{\\pi}}[\\sum_{t\\leq T}\\gamma^{t}r(s_{t},a_{t})|s_{0}=s,a_{0}=a] \\\\\n",
    "& = r(s,a) + \\sum_{s',a'} P(s',a'|s,a) E_{p^{\\pi}}[\\sum_{t\\leq T}\\gamma^{t}r(s_{t},a_{t})|s_{0}=s',a_{0}=a'] \\\\\n",
    "& = r(s,a) + \\sum_{s',a'} P(s',a'|s,a) Q(s',a') \\\\\n",
    "& = E_{(s',a')\\sim p(.|s,a)}[r(s,a)+\\gamma Q^{\\pi}(s',a')]\n",
    "\\end{aligned}\n",
    "\\end{equation*}\n",
    "\n",
    "2) Proof of the second statement (Bellman optimal equation): Suppose there exists $Q^*$ optimal. We have:\n",
    "\n",
    "We define $\\mathcal{T}^{\\pi}Q(s, a) = r(s,a) + \\gamma \\sum_{s',a'} P_{\\pi}(s',a'|s,a) Q(s',a')$. It is a vector operation. It is easy to see that $\\mathcal{T}$ is monotone, contraction to norm infinity ($\\|\\mathcal{T}^{\\pi}Q_1 - \\mathcal{T}^{\\pi}Q_2\\|_{\\infty} \\leq \\gamma \\|Q_1 - Q_2\\|_{\\infty} < \\|Q_1 - Q_2\\|_{\\infty}$) and thus, have only one fixed point $Q^{\\pi}$ (thanks to question $1$). That implies if we apply multiple times $\\mathcal{T}^{\\pi}$ to any $Q_0$, the value converges to $Q^{\\pi}$.  \n",
    "\n",
    "\\begin{equation*}\n",
    "\\lim_{k \\rightarrow \\infty}(\\mathcal{T}^{\\pi})^k(Q_0) = Q^{\\pi}\n",
    "\\end{equation*}\n",
    "\n",
    "From the first question:\n",
    "\n",
    "\\begin{equation*}\n",
    "\\begin{aligned}\n",
    "Q^{*}(s,a)=E_{(s',a')\\sim p(.|s,a)}[r(s,a)+\\gamma Q^{*}(s',a')] \\leq E_{(s',a')\\sim p(.|s,a)}[r(s,a)+\\gamma\\max_{a'} Q^{*}(s',a')]\n",
    "\\end{aligned}\n",
    "\\end{equation*}\n",
    "\n",
    "Moreover, if there exists $s,a$ such that $Q^{*}(s,a) < E_{(s',a')\\sim p(.|s,a)}[r(s,a)+\\gamma\\max_{a'} Q^{*}(s',a')]$, we could define a new policy $\\pi'(s) = \\underset{a'}{\\operatorname{argmax}} Q^{*}(s,a)$.\n",
    "\n",
    "Therefore, if $Q^{*}(s,a) < E_{(s',a')\\sim p(.|s,a)}[r(s,a)+\\gamma\\max_{a'} Q^{*}(s',a')]$, by the monotonicity, \n",
    "\n",
    "\\begin{equation*}\n",
    "Q^* < \\mathcal{T}^{\\pi'}(Q^*) < \\mathcal{T}^{\\pi'}(\\mathcal{T}^{\\pi'}(Q^*)) < \\ldots < \\lim_{k \\rightarrow \\infty}(\\mathcal{T}^{\\pi'})^k(Q_0) = Q^{\\pi'}\n",
    "\\end{equation*}\n",
    "\n",
    "which contradicts the assumption of the optimality of $Q^*$. Therefore,\n",
    "\n",
    "$$Q^{*}(s,a) = E_{(s',a')\\sim p(.|s,a)}[r(s,a)+\\gamma\\max_{a'} Q^{*}(s',a')]$$\n",
    "\n",
    "3) With the loss $E_{s' \\sim \\pi^*(.|s,a)}\\Vert r+\\gamma\\max_{a'}Q(s',a',\\theta)-Q(s,a,\\theta)\\Vert^{2}$, the close form of the solution is:\n",
    "\n",
    "$$Q^{*}(s,a) = E_{(s',a')\\sim p(.|s,a)}[r(s,a)+\\gamma\\max_{a'} Q^{*}(s',a')]$$\n",
    "\n",
    "which is exactly the optimal condition. "
   ]
  },
  {
   "cell_type": "markdown",
   "metadata": {},
   "source": [
    "***\n",
    "The DQN-learning algorithm relies on these derivations to train the parameters $\\theta$ of a Deep Neural Network:\n",
    "\n",
    "1. At the state $s_t$, select the action $a_t$ with best reward using $Q_t$ and store the results;\n",
    "\n",
    "2. Obtain the new state $s_{t+1}$ from the environment $p$;\n",
    "\n",
    "3. Store $(s_t,a_t,s_{t+1})$;\n",
    "\n",
    "4. Obtain $Q_{t+1}$ by minimizing  $\\mathcal{L}$ from a recovered batch from the previously stored results.\n",
    "\n",
    "***\n",
    "__Question 6__ Implement the class ```Memory``` that stores moves (in a replay buffer) via ```remember``` and provides a ```random_access``` to these. Specify a maximum memory size to avoid side effects. You can for example use a ```list()``` and set by default ```max_memory=100```."
   ]
  },
  {
   "cell_type": "code",
   "execution_count": 9,
   "metadata": {},
   "outputs": [],
   "source": [
    "class Memory(object):\n",
    "    def __init__(self, max_memory=100):\n",
    "        self.max_memory = max_memory\n",
    "        self.memory = list()\n",
    "\n",
    "    def remember(self, m):\n",
    "        if len(self.memory) >= self.max_memory:\n",
    "            del self.memory[0]\n",
    "        self.memory.append(m)\n",
    "\n",
    "    def random_access(self):\n",
    "        return self.memory[np.random.randint(len(self.memory))]"
   ]
  },
  {
   "cell_type": "markdown",
   "metadata": {},
   "source": [
    "***\n",
    "The pipeline we will use for training is given below:"
   ]
  },
  {
   "cell_type": "code",
   "execution_count": 10,
   "metadata": {},
   "outputs": [],
   "source": [
    "def train(agent,env,epoch,prefix=''):\n",
    "    # Number of won games\n",
    "    score = 0\n",
    "    loss = 0\n",
    "\n",
    "    for e in range(epoch):\n",
    "        # At each epoch, we restart to a fresh game and get the initial state\n",
    "        state = env.reset()\n",
    "        # This assumes that the games will terminate\n",
    "        game_over = False\n",
    "\n",
    "        win = 0\n",
    "        lose = 0\n",
    "\n",
    "        while not game_over:\n",
    "            # The agent performs an action\n",
    "            action = agent.act(state)\n",
    "            \n",
    "            # Apply an action to the environment, get the next state, the reward\n",
    "            # and if the games end\n",
    "            prev_state = state\n",
    "            state, reward, game_over = env.act(action)\n",
    "\n",
    "            # Update the counters\n",
    "            if reward > 0:\n",
    "                win = win + reward\n",
    "            if reward < 0:\n",
    "                lose = lose - reward\n",
    "\n",
    "            # Apply the reinforcement strategy\n",
    "            loss = agent.reinforce(prev_state, state,  action, reward, game_over)\n",
    "\n",
    "        # Save as a mp4\n",
    "        if e % 10 == 0:\n",
    "            env.draw(prefix+str(e))\n",
    "\n",
    "        # Update stats\n",
    "        score += win-lose\n",
    "\n",
    "        print(\"Epoch {:03d}/{:03d} | Loss {:.4f} | Win/lose count {}/{} ({})\"\n",
    "              .format(e, epoch, loss, win, lose, win-lose))\n",
    "        agent.save(name_weights=prefix+'model.h5',name_model=prefix+'model.json')"
   ]
  },
  {
   "cell_type": "markdown",
   "metadata": {},
   "source": [
    "***\n",
    "__Question 7__ Implement the DQN training algorithm using a cascade of fully connected layers. You can use different learning rate, batch size or memory size parameters. In particular, the loss might oscillate while the player will start to win the games. You have to find a good criterium."
   ]
  },
  {
   "cell_type": "code",
   "execution_count": 11,
   "metadata": {},
   "outputs": [],
   "source": [
    "class DQN(Agent):\n",
    "    def __init__(self, grid_size,  epsilon = 0.1, memory_size=100, batch_size = 16,n_state=2):\n",
    "        super(DQN, self).__init__(epsilon = epsilon)\n",
    "\n",
    "        # Discount for Q learning\n",
    "        self.discount = 0.99\n",
    "        \n",
    "        self.grid_size = grid_size\n",
    "        \n",
    "        # number of state\n",
    "        self.n_state = n_state\n",
    "\n",
    "        # Memory\n",
    "        self.memory = Memory(memory_size)\n",
    "        \n",
    "        # Batch size when learning\n",
    "        self.batch_size = batch_size\n",
    "\n",
    "    def learned_act(self, s):\n",
    "        return np.argmax(self.model(s[None,:])[0])\n",
    "\n",
    "    def reinforce(self, s_, n_s_, a_, r_, game_over_):\n",
    "        # Two steps: first memorize the states, second learn from the pool\n",
    "\n",
    "        self.memory.remember([s_, n_s_, a_, r_, game_over_])\n",
    "        \n",
    "        \"\"\"\n",
    "        input_states: (batch_size x 5 x 5 x state) The input of the network, configuration from the environment \n",
    "        target_q: (batch_size x 4) The expected target value corresponding to the input_states\n",
    "        \"\"\"\n",
    "        input_states = np.zeros((self.batch_size, 5,5,self.n_state))\n",
    "        target_q = np.zeros((self.batch_size, 4))\n",
    "        \n",
    "        for i in range(self.batch_size):\n",
    "            ######## FILL IN\n",
    "            s_, n_s_, a_, r_, game_over_ = self.memory.random_access() #randomly choose an instance in reply experience\n",
    "            input_states[i] = s_  #Saving the state\n",
    "            target_q[i] = self.model(s_[None,:])[0] #Evaluate for all actions\n",
    "            if game_over_:\n",
    "                next_Q = 0\n",
    "            else:\n",
    "                next_Q = np.max(target_q[i])\n",
    "\n",
    "            target_q[i][a_] = r_ + self.discount * next_Q #Change the used action\n",
    "            \n",
    "        ######## FILL IN\n",
    "        # HINT: Clip the target to avoid exploiding gradients.. -- clipping is a bit tighter\n",
    "        target_q = np.clip(target_q, -3, 3)\n",
    "        l = self.model.train_on_batch(input_states, target_q)\n",
    "\n",
    "\n",
    "        return l\n",
    "\n",
    "    def save(self,name_weights='model.h5',name_model='model.json'):\n",
    "        self.model.save_weights(name_weights, overwrite=True)\n",
    "        with open(name_model, \"w\") as outfile:\n",
    "            json.dump(self.model.to_json(), outfile)\n",
    "            \n",
    "    def load(self,name_weights='model.h5',name_model='model.json'):\n",
    "        with open(name_model, \"r\") as jfile:\n",
    "            model = model_from_json(json.load(jfile))\n",
    "        model.load_weights(name_weights)\n",
    "        model.compile(\"sgd\", \"mse\")\n",
    "        self.model = model\n",
    "            \n",
    "class DQN_FC(DQN):\n",
    "    def __init__(self, *args, lr=0.1,**kwargs):\n",
    "        super(DQN_FC, self).__init__( *args,**kwargs)\n",
    "        \n",
    "        # NN Model\n",
    "        \n",
    "        ####### FILL IN\n",
    "        model = Sequential()\n",
    "        model.add(Reshape((50,), input_shape = (5,5,2,)))\n",
    "        model.add(Dense(50, activation='relu'))\n",
    "        model.add(Dense(50, activation='relu'))\n",
    "        model.add(Dense(4))\n",
    "        \n",
    "        model.compile(SGD(lr=lr, decay=1e-4, momentum=0.0), \"mse\")\n",
    "        self.model = model\n",
    "        print(model.summary())"
   ]
  },
  {
   "cell_type": "code",
   "execution_count": 13,
   "metadata": {},
   "outputs": [
    {
     "name": "stdout",
     "output_type": "stream",
     "text": [
      "Model: \"sequential\"\n",
      "_________________________________________________________________\n",
      "Layer (type)                 Output Shape              Param #   \n",
      "=================================================================\n",
      "reshape (Reshape)            (None, 50)                0         \n",
      "_________________________________________________________________\n",
      "dense (Dense)                (None, 50)                2550      \n",
      "_________________________________________________________________\n",
      "dense_1 (Dense)              (None, 50)                2550      \n",
      "_________________________________________________________________\n",
      "dense_2 (Dense)              (None, 4)                 204       \n",
      "=================================================================\n",
      "Total params: 5,304\n",
      "Trainable params: 5,304\n",
      "Non-trainable params: 0\n",
      "_________________________________________________________________\n",
      "None\n",
      "WARNING:tensorflow:Layer reshape is casting an input tensor from dtype float64 to the layer's dtype of float32, which is new behavior in TensorFlow 2.  The layer has dtype float32 because it's dtype defaults to floatx.\n",
      "\n",
      "If you intended to run this layer in float32, you can safely ignore this warning. If in doubt, this warning is likely only an issue if you are porting a TensorFlow 1.X model to TensorFlow 2.\n",
      "\n",
      "To change all layers to have dtype float64 by default, call `tf.keras.backend.set_floatx('float64')`. To change just this layer, pass dtype='float64' to the layer constructor. If you are the author of this layer, you can disable autocasting by passing autocast=False to the base Layer constructor.\n",
      "\n",
      "Epoch 000/021 | Loss 0.0261 | Win/lose count 2.0/10.0 (-8.0)\n",
      "Epoch 001/021 | Loss 0.0138 | Win/lose count 3.5/3.0 (0.5)\n",
      "Epoch 002/021 | Loss 0.0109 | Win/lose count 3.0/3.0 (0.0)\n",
      "Epoch 003/021 | Loss 0.0234 | Win/lose count 3.5/8.0 (-4.5)\n",
      "Epoch 004/021 | Loss 0.0178 | Win/lose count 5.0/4.0 (1.0)\n",
      "Epoch 005/021 | Loss 0.0202 | Win/lose count 6.0/2.0 (4.0)\n",
      "Epoch 006/021 | Loss 0.0082 | Win/lose count 3.0/3.0 (0.0)\n",
      "Epoch 007/021 | Loss 0.0367 | Win/lose count 2.0/4.0 (-2.0)\n",
      "Epoch 008/021 | Loss 0.0161 | Win/lose count 7.5/16.0 (-8.5)\n",
      "Epoch 009/021 | Loss 0.0052 | Win/lose count 6.0/9.0 (-3.0)\n",
      "Epoch 010/021 | Loss 0.0140 | Win/lose count 4.0/2.0 (2.0)\n",
      "Epoch 011/021 | Loss 0.0119 | Win/lose count 4.5/8.0 (-3.5)\n",
      "Epoch 012/021 | Loss 0.0119 | Win/lose count 4.0/5.0 (-1.0)\n",
      "Epoch 013/021 | Loss 0.0103 | Win/lose count 4.0/8.0 (-4.0)\n",
      "Epoch 014/021 | Loss 0.0092 | Win/lose count 8.0/7.0 (1.0)\n",
      "Epoch 015/021 | Loss 0.0142 | Win/lose count 2.5/3.0 (-0.5)\n",
      "Epoch 016/021 | Loss 0.0350 | Win/lose count 5.5/4.0 (1.5)\n",
      "Epoch 017/021 | Loss 0.0287 | Win/lose count 8.0/6.0 (2.0)\n",
      "Epoch 018/021 | Loss 0.0045 | Win/lose count 7.0/10.0 (-3.0)\n",
      "Epoch 019/021 | Loss 0.0081 | Win/lose count 5.5/2.0 (3.5)\n",
      "Epoch 020/021 | Loss 0.0057 | Win/lose count 4.5/8.0 (-3.5)\n"
     ]
    },
    {
     "data": {
      "text/html": [
       "<video alt=\"test\" controls>\n",
       "                <source src=\"data:video/mp4;base64,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\" type=\"video/mp4\" />\n",
       "             </video>"
      ],
      "text/plain": [
       "<IPython.core.display.HTML object>"
      ]
     },
     "execution_count": 13,
     "metadata": {},
     "output_type": "execute_result"
    }
   ],
   "source": [
    "env = Environment(grid_size=size, max_time=T, temperature=0.3)\n",
    "agent = DQN_FC(size, lr=.001, epsilon = 0.2, memory_size=2000, batch_size = 32)\n",
    "train(agent, env, epochs_train, prefix='fc_train')\n",
    "HTML(display_videos('fc_train10.mp4'))"
   ]
  },
  {
   "cell_type": "markdown",
   "metadata": {},
   "source": [
    "***\n",
    "***\n",
    "__Question 8__ Implement the DQN training algorithm using a CNN (for example, 2 convolutional layers and one final fully connected layer)."
   ]
  },
  {
   "cell_type": "code",
   "execution_count": 12,
   "metadata": {},
   "outputs": [],
   "source": [
    "class DQN_CNN(DQN):\n",
    "    def __init__(self, *args,lr=0.1,**kwargs):\n",
    "        super(DQN_CNN, self).__init__(*args,**kwargs)\n",
    "        \n",
    "        ###### FILL IN\n",
    "        model = Sequential()\n",
    "        model.add(Conv2D(20, (3,3), activation = 'relu'))\n",
    "        model.add(Conv2D(20, (3,3), activation = 'relu'))\n",
    "        model.add(Flatten())\n",
    "        model.add(Dense(4))\n",
    "        model.compile(SGD(lr=lr, decay=1e-4, momentum=0.5), \"mse\")\n",
    "        self.model = model"
   ]
  },
  {
   "cell_type": "code",
   "execution_count": 15,
   "metadata": {},
   "outputs": [
    {
     "name": "stdout",
     "output_type": "stream",
     "text": [
      "WARNING:tensorflow:Layer conv2d is casting an input tensor from dtype float64 to the layer's dtype of float32, which is new behavior in TensorFlow 2.  The layer has dtype float32 because it's dtype defaults to floatx.\n",
      "\n",
      "If you intended to run this layer in float32, you can safely ignore this warning. If in doubt, this warning is likely only an issue if you are porting a TensorFlow 1.X model to TensorFlow 2.\n",
      "\n",
      "To change all layers to have dtype float64 by default, call `tf.keras.backend.set_floatx('float64')`. To change just this layer, pass dtype='float64' to the layer constructor. If you are the author of this layer, you can disable autocasting by passing autocast=False to the base Layer constructor.\n",
      "\n",
      "Epoch 000/021 | Loss 0.0089 | Win/lose count 4.0/5.0 (-1.0)\n",
      "Epoch 001/021 | Loss 0.0017 | Win/lose count 2.0/6.0 (-4.0)\n",
      "Epoch 002/021 | Loss 0.0020 | Win/lose count 3.5/4.0 (-0.5)\n",
      "Epoch 003/021 | Loss 0.0097 | Win/lose count 2.5/4.0 (-1.5)\n",
      "Epoch 004/021 | Loss 0.0001 | Win/lose count 3.0/3.0 (0.0)\n",
      "Epoch 005/021 | Loss 0.0056 | Win/lose count 3.5/6.0 (-2.5)\n",
      "Epoch 006/021 | Loss 0.0131 | Win/lose count 4.0/6.0 (-2.0)\n",
      "Epoch 007/021 | Loss 0.0081 | Win/lose count 8.5/9.0 (-0.5)\n",
      "Epoch 008/021 | Loss 0.0160 | Win/lose count 3.0/5.0 (-2.0)\n",
      "Epoch 009/021 | Loss 0.0081 | Win/lose count 1.0/10.0 (-9.0)\n",
      "Epoch 010/021 | Loss 0.0020 | Win/lose count 6.0/1.0 (5.0)\n",
      "Epoch 011/021 | Loss 0.0079 | Win/lose count 5.0/8.0 (-3.0)\n",
      "Epoch 012/021 | Loss 0.0114 | Win/lose count 3.0/4.0 (-1.0)\n",
      "Epoch 013/021 | Loss 0.0087 | Win/lose count 5.0/6.0 (-1.0)\n",
      "Epoch 014/021 | Loss 0.0173 | Win/lose count 7.0/13.0 (-6.0)\n",
      "Epoch 015/021 | Loss 0.0022 | Win/lose count 3.0/4.0 (-1.0)\n",
      "Epoch 016/021 | Loss 0.0121 | Win/lose count 5.5/8.0 (-2.5)\n",
      "Epoch 017/021 | Loss 0.0004 | Win/lose count 4.0/2.0 (2.0)\n",
      "Epoch 018/021 | Loss 0.0104 | Win/lose count 6.0/5.0 (1.0)\n",
      "Epoch 019/021 | Loss 0.0047 | Win/lose count 11.0/9.0 (2.0)\n",
      "Epoch 020/021 | Loss 0.0003 | Win/lose count 7.0/8.0 (-1.0)\n"
     ]
    },
    {
     "data": {
      "text/html": [
       "<video alt=\"test\" controls>\n",
       "                <source src=\"data:video/mp4;base64,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\" type=\"video/mp4\" />\n",
       "             </video>"
      ],
      "text/plain": [
       "<IPython.core.display.HTML object>"
      ]
     },
     "execution_count": 15,
     "metadata": {},
     "output_type": "execute_result"
    }
   ],
   "source": [
    "env = Environment(grid_size=size, max_time=T, temperature=0.3)\n",
    "agent = DQN_CNN(size, lr=.001, epsilon = 0.2, memory_size=2000, batch_size = 32)\n",
    "train(agent,env,epochs_train,prefix='cnn_train')\n",
    "HTML(display_videos('cnn_train10.mp4'))"
   ]
  },
  {
   "cell_type": "markdown",
   "metadata": {},
   "source": [
    "***\n",
    "***\n",
    "__Question 9__ Test both algorithms and compare their performances. Which issue(s) do you observe? Observe also different behaviors by changing the temperature."
   ]
  },
  {
   "cell_type": "code",
   "execution_count": 19,
   "metadata": {},
   "outputs": [
    {
     "name": "stdout",
     "output_type": "stream",
     "text": [
      "WARNING:tensorflow:Layer conv2d_4 is casting an input tensor from dtype float64 to the layer's dtype of float32, which is new behavior in TensorFlow 2.  The layer has dtype float32 because it's dtype defaults to floatx.\n",
      "\n",
      "If you intended to run this layer in float32, you can safely ignore this warning. If in doubt, this warning is likely only an issue if you are porting a TensorFlow 1.X model to TensorFlow 2.\n",
      "\n",
      "To change all layers to have dtype float64 by default, call `tf.keras.backend.set_floatx('float64')`. To change just this layer, pass dtype='float64' to the layer constructor. If you are the author of this layer, you can disable autocasting by passing autocast=False to the base Layer constructor.\n",
      "\n",
      "Model: \"sequential_5\"\n",
      "_________________________________________________________________\n",
      "Layer (type)                 Output Shape              Param #   \n",
      "=================================================================\n",
      "reshape_2 (Reshape)          (None, 50)                0         \n",
      "_________________________________________________________________\n",
      "dense_9 (Dense)              (None, 50)                2550      \n",
      "_________________________________________________________________\n",
      "dense_10 (Dense)             (None, 50)                2550      \n",
      "_________________________________________________________________\n",
      "dense_11 (Dense)             (None, 4)                 204       \n",
      "=================================================================\n",
      "Total params: 5,304\n",
      "Trainable params: 5,304\n",
      "Non-trainable params: 0\n",
      "_________________________________________________________________\n",
      "None\n",
      "Test of the CNN\n",
      "Win/lose count 3.5/5.0. Average score (-1.5)\n",
      "Win/lose count 6.5/5.0. Average score (0.0)\n",
      "Win/lose count 8.5/8.0. Average score (0.16666666666666666)\n",
      "Win/lose count 4.0/1.0. Average score (0.875)\n",
      "Win/lose count 5.5/6.0. Average score (0.6)\n",
      "Win/lose count 1.5/4.0. Average score (0.08333333333333333)\n",
      "Win/lose count 9.0/6.0. Average score (0.5)\n",
      "Win/lose count 7.0/4.0. Average score (0.8125)\n",
      "Win/lose count 3.0/4.0. Average score (0.6111111111111112)\n",
      "Win/lose count 4.0/6.0. Average score (0.35)\n",
      "Win/lose count 9.0/8.0. Average score (0.4090909090909091)\n",
      "Final score: 0.4090909090909091\n",
      "Test of the FC\n",
      "WARNING:tensorflow:Layer reshape_2 is casting an input tensor from dtype float64 to the layer's dtype of float32, which is new behavior in TensorFlow 2.  The layer has dtype float32 because it's dtype defaults to floatx.\n",
      "\n",
      "If you intended to run this layer in float32, you can safely ignore this warning. If in doubt, this warning is likely only an issue if you are porting a TensorFlow 1.X model to TensorFlow 2.\n",
      "\n",
      "To change all layers to have dtype float64 by default, call `tf.keras.backend.set_floatx('float64')`. To change just this layer, pass dtype='float64' to the layer constructor. If you are the author of this layer, you can disable autocasting by passing autocast=False to the base Layer constructor.\n",
      "\n",
      "Win/lose count 2.0/2.0. Average score (0.0)\n",
      "Win/lose count 3.0/1.0. Average score (1.0)\n",
      "Win/lose count 8.5/4.0. Average score (2.1666666666666665)\n",
      "Win/lose count 8.5/4.0. Average score (2.75)\n",
      "Win/lose count 4.0/11.0. Average score (0.8)\n",
      "Win/lose count 2.0/3.0. Average score (0.5)\n",
      "Win/lose count 2.0/3.0. Average score (0.2857142857142857)\n",
      "Win/lose count 4.5/3.0. Average score (0.4375)\n",
      "Win/lose count 6.5/10.0. Average score (0.0)\n",
      "Win/lose count 5.5/9.0. Average score (-0.35)\n",
      "Win/lose count 4.0/1.0. Average score (-0.045454545454545456)\n",
      "Final score: -0.045454545454545456\n"
     ]
    }
   ],
   "source": [
    "env = Environment(grid_size=size, max_time=T,temperature=0.5)\n",
    "agent_cnn = DQN_CNN(size, lr=.1, epsilon = 0.1, memory_size=2000, batch_size = 32)\n",
    "agent_cnn.model(np.zeros((1,5,5,2)))\n",
    "agent_cnn.model.load_weights('cnn_trainmodel.h5')\n",
    "#agent_cnn.load(name_weights='cnn_trainmodel.h5',name_model='cnn_trainmodel.json')\n",
    "\n",
    "agent_fc = DQN_FC(size, lr=.1, epsilon = 0.1, memory_size=2000, batch_size = 32)\n",
    "agent_cnn.load(name_weights='fc_trainmodel.h5',name_model='fc_trainmodel.json')\n",
    "print('Test of the CNN')\n",
    "test(agent_cnn,env,epochs_test,prefix='cnn_test')\n",
    "print('Test of the FC')\n",
    "test(agent_fc,env,epochs_test,prefix='fc_test')"
   ]
  },
  {
   "cell_type": "code",
   "execution_count": 20,
   "metadata": {},
   "outputs": [
    {
     "data": {
      "text/html": [
       "<video alt=\"test\" controls>\n",
       "                <source src=\"data:video/mp4;base64,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\" type=\"video/mp4\" />\n",
       "             </video>"
      ],
      "text/plain": [
       "<IPython.core.display.HTML object>"
      ]
     },
     "execution_count": 20,
     "metadata": {},
     "output_type": "execute_result"
    }
   ],
   "source": [
    "HTML(display_videos('cnn_test10.mp4'))"
   ]
  },
  {
   "cell_type": "code",
   "execution_count": 17,
   "metadata": {},
   "outputs": [
    {
     "data": {
      "text/html": [
       "<video alt=\"test\" controls>\n",
       "                <source src=\"data:video/mp4;base64,AAAAIGZ0eXBpc29tAAACAGlzb21pc28yYXZjMW1wNDEAAAAIZnJlZQAAFY9tZGF0AAACrQYF//+p3EXpvebZSLeWLNgg2SPu73gyNjQgLSBjb3JlIDE0OCByMjc0OCA5N2VhZWYyIC0gSC4yNjQvTVBFRy00IEFWQyBjb2RlYyAtIENvcHlsZWZ0IDIwMDMtMjAxNiAtIGh0dHA6Ly93d3cudmlkZW9sYW4ub3JnL3gyNjQuaHRtbCAtIG9wdGlvbnM6IGNhYmFjPTEgcmVmPTMgZGVibG9jaz0xOjA6MCBhbmFseXNlPTB4MzoweDExMyBtZT1oZXggc3VibWU9NyBwc3k9MSBwc3lfcmQ9MS4wMDowLjAwIG1peGVkX3JlZj0xIG1lX3JhbmdlPTE2IGNocm9tYV9tZT0xIHRyZWxsaXM9MSA4eDhkY3Q9MSBjcW09MCBkZWFkem9uZT0yMSwxMSBmYXN0X3Bza2lwPTEgY2hyb21hX3FwX29mZnNldD00IHRocmVhZHM9NiBsb29rYWhlYWRfdGhyZWFkcz0xIHNsaWNlZF90aHJlYWRzPTAgbnI9MCBkZWNpbWF0ZT0xIGludGVybGFjZWQ9MCBibHVyYXlfY29tcGF0PTAgY29uc3RyYWluZWRfaW50cmE9MCBiZnJhbWVzPTMgYl9weXJhbWlkPTIgYl9hZGFwdD0xIGJfYmlhcz0wIGRpcmVjdD0xIHdlaWdodGI9MSBvcGVuX2dvcD0wIHdlaWdodHA9MiBrZXlpbnQ9MjUwIGtleWludF9taW49MjUgc2NlbmVjdXQ9NDAgaW50cmFfcmVmcmVzaD0wIHJjX2xvb2thaGVhZD00MCByYz1jcmYgbWJ0cmVlPTEgY3JmPTIzLjAgcWNvbXA9MC42MCBxcG1pbj0wIHFwbWF4PTY5IHFwc3RlcD00IGlwX3JhdGlvPTEuNDAgYXE9MToxLjAwAIAAAAK9ZYiEADv//vb8/AptUwndP/9P+VxN2UIE1zAALTEAIgTYlI6+z4vwKZrZf8CiWgOunhgGOLEl07YT/ER+EMCMy6XvNeYnszJI+GqdHWy27kbFJE31qmjkCZTL/76dH/7pd1NZpHj+JMQATUmbK8xrXc1i1TjLvuWcTTvcM6sPygEq6Hmba2/uv43VqnQxTJj2ApGT1boBplZTL1NGirceLnhB1C1RsUPBRb7obHY/UaW3EsBmQnPUEFyQDynokRdtWDz6jIWv39XEQjHgFHO/7UwPZps6CaxIHeQXTDG0pkv9FOuSLC3MFtEvnTVE14ZMrvsimV0q9J5ou0/B72h8Ctp2HPFALBPLrZXLgKknL9JbtM90w/rO7R+7UqQREMHO/UVUrjnOkP11Vc3TpKUpQQw8CKn/7YnVRMH5dDrXuZYMteUSCsvTi/IWfwwSil66EqEXc34qoz7ksWYJ80BKlYuIYPhpYq0Q/wlLTiBLwLgr3vTD4GaTTUth0DBJHBbZP3CiuUJP9ogsAZ80BSUWT10UDZ/clWo6oROTQh7HSaMTtom56xEBF/DpH4aXpVxRd73pqLsyXnZnBvo9hSMK4f3JyOVdYJ9Bx4FbTokA72bRH8iXEFrCOq68jNGDu/v3otlsuzExpkm/bdRxbfcjE18ffIGdrNcMIuXOkfQs1HKCjHqFBxFRxedrdrvjUqoo5tTd1jmjx6DPOfqNF9hYPY1KPSbwA9eB75PS/SmrTt6agvH2mAQi7fwWt3RbYDMJxUHhTPHwCd1j+cmD1QBSkbIe4kIN4Lo03hY0VfABitLgR34PZMYnH3PVMKyyKwUABtTTb5prZ32WRXkoqm5BZZtm8HuChEYeZ7Fd4LMSwdKeAmjP2xeoy8IS9YWy0BgWM0N+D9sAc6qvCvu5+oBlSvgYf8vgJD7NHzgAAasAAAAcQZokbEO//qmWA5ueRzLLPn23Cpp0DbgcP1M5YAAAAA5BnkJ4hf8Boz/GtlknYQAAAA8BnmF0Qr8CMyV9A6YrcgMAAAAPAZ5jakK/AjNiusr+9WBBAAAAE0GaaEmoQWiZTAh3//6plgAAlYEAAAAMQZ6GRREsL/8AALKBAAAAEAGepXRCvwIpqJ5BFZy1YEEAAAAQAZ6nakK/AimonjnA+31gQAAAABNBmqxJqEFsmUwId//+qZYAAJWAAAAADEGeykUVLC//AACygQAAABABnul0Qr8CKaieQRWctWBAAAAAEAGe62pCvwIpqJ45wPt9YEAAAAATQZrwSahBbJlMCHf//qmWAACVgQAAAAxBnw5FFSwv/wAAsoEAAAAQAZ8tdEK/AimonkEVnLVgQQAAABABny9qQr8CKaieOcD7fWBAAAAAE0GbNEmoQWyZTAh3//6plgAAlYAAAAAMQZ9SRRUsL/8AALKBAAAAEAGfcXRCvwIpqJ5BFZy1YEAAAAAQAZ9zakK/AimonjnA+31gQAAAABNBm3hJqEFsmUwId//+qZYAAJWBAAAADEGflkUVLC//AACygAAAABABn7V0Qr8CKaieQRWctWBBAAAAEAGft2pCvwIpqJ45wPt9YEEAAAATQZu8SahBbJlMCHf//qmWAACVgAAAAAxBn9pFFSwv/wAAsoEAAAAQAZ/5dEK/AimonkEVnLVgQAAAABABn/tqQr8CKaieOcD7fWBBAAAAE0Gb4EmoQWyZTAh3//6plgAAlYEAAAAMQZ4eRRUsL/8AALKAAAAAEAGePXRCvwIpqJ5BFZy1YEAAAAAQAZ4/akK/AimonjnA+31gQQAAABNBmiRJqEFsmUwId//+qZYAAJWAAAAADEGeQkUVLC//AACygQAAABABnmF0Qr8CKaieQRWctWBAAAAAEAGeY2pCvwIpqJ45wPt9YEEAAAATQZpoSahBbJlMCHf//qmWAACVgQAAAAxBnoZFFSwv/wAAsoEAAAAQAZ6ldEK/AimonkEVnLVgQQAAABABnqdqQr8CKaieOcD7fWBAAAAAE0GarEmoQWyZTAh3//6plgAAlYAAAAAMQZ7KRRUsL/8AALKBAAAAEAGe6XRCvwIpqJ5BFZy1YEAAAAAQAZ7rakK/AimonjnA+31gQAAAABNBmvBJqEFsmUwId//+qZYAAJWBAAAADEGfDkUVLC//AACygQAAABABny10Qr8CKaieQRWctWBBAAAAEAGfL2pCvwIpqJ45wPt9YEAAAAATQZs0SahBbJlMCHf//qmWAACVgAAAAAxBn1JFFSwv/wAAsoEAAAAQAZ9xdEK/AimonkEVnLVgQAAAABABn3NqQr8CKaieOcD7fWBAAAAAE0GbeEmoQWyZTAh3//6plgAAlYEAAAAMQZ+WRRUsL/8AALKAAAAAEAGftXRCvwIpqJ5BFZy1YEEAAAAQAZ+3akK/AimonjnA+31gQQAAABNBm7xJqEFsmUwId//+qZYAAJWAAAAADEGf2kUVLC//AACygQAAABABn/l0Qr8CKaieQRWctWBAAAAAEAGf+2pCvwIpqJ45wPt9YEEAAAATQZvgSahBbJlMCHf//qmWAACVgQAAAAxBnh5FFSwv/wAAsoAAAAAQAZ49dEK/AimonkEVnLVgQAAAABABnj9qQr8CKaieOcD7fWBBAAAAE0GaJEmoQWyZTAh3//6plgAAlYAAAAAMQZ5CRRUsL/8AALKBAAAAEAGeYXRCvwIpqJ5BFZy1YEAAAAAQAZ5jakK/AimonjnA+31gQQAAABNBmmhJqEFsmUwId//+qZYAAJWBAAAADEGehkUVLC//AACygQAAABABnqV0Qr8CKaieQRWctWBBAAAAEAGep2pCvwIpqJ45wPt9YEAAAAATQZqsSahBbJlMCHf//qmWAACVgAAAAAxBnspFFSwv/wAAsoEAAAAQAZ7pdEK/AimonkEVnLVgQAAAABABnutqQr8CKaieOcD7fWBAAAAAE0Ga8EmoQWyZTAh3//6plgAAlYEAAAAMQZ8ORRUsL/8AALKBAAAAEAGfLXRCvwIpqJ5BFZy1YEEAAAAQAZ8vakK/AimonjnA+31gQAAAABNBmzRJqEFsmUwId//+qZYAAJWAAAAADEGfUkUVLC//AACygQAAABABn3F0Qr8CKaieQRWctWBAAAAAEAGfc2pCvwIpqJ45wPt9YEAAAAATQZt4SahBbJlMCHf//qmWAACVgQAAAAxBn5ZFFSwv/wAAsoAAAAAQAZ+1dEK/AimonkEVnLVgQQAAABABn7dqQr8CKaieOcD7fWBBAAAAE0GbvEmoQWyZTAh3//6plgAAlYAAAAAMQZ/aRRUsL/8AALKBAAAAEAGf+XRCvwIpqJ5BFZy1YEAAAAAQAZ/7akK/AimonjnA+31gQQAAABNBm+BJqEFsmUwId//+qZYAAJWBAAAADEGeHkUVLC//AACygAAAABABnj10Qr8CKaieQRWctWBAAAAAEAGeP2pCvwIpqJ45wPt9YEEAAAASQZokSahBbJlMCG///qeEAAEnAAAADEGeQkUVLC//AACygQAAABABnmF0Qr8CKaieQRWctWBAAAAAEAGeY2pCvwIpqJ45wPt9YEEAAAASQZpoSahBbJlMCGf//p4QAAR9AAAADEGehkUVLC//AACygQAAABABnqV0Qr8CKaieQRWctWBBAAAAEAGep2pCvwIpqJ45wPt9YEAAAAAZQZqpSahBbJlMCG///qeEBx9HPrOgtz5RdwAAABhBmspJ4QpSZTAhv/6nhAHxtNxLYLekxJ0AAAAdQZrtSeEOiZTAhv/+p4QBHfjp7vN1jNIRQkSOekAAAAATQZ8LRRE8K/8A56uDXHiqcsL8gAAAAA8BnyxqQr8A54P6pFAlUccAAAAYQZsvSahBaJlMFPDf/qeEAHPB4muNUJmLAAAAEAGfTmpCvwCRKkd7PH2624EAAAAZQZtQSeEKUmUwId/+qZYAjCLDdGIRz6/i4AAAACNBm3RJ4Q6JlMCHf/6plgOZ4Tj4hBt/+EqoZv//DI3fY41w8AAAABBBn5JFETwv/wGjQBnAGidhAAAADwGfsXRCvwIzJX0DpityAwAAAA8Bn7NqQr8CM2K6yv71YEAAAAATQZu4SahBaJlMCHf//qmWAACVgQAAAAxBn9ZFESwv/wAAsoAAAAAQAZ/1dEK/AimonkEVnLVgQQAAABABn/dqQr8CKaieOcD7fWBBAAAAE0Gb/EmoQWyZTAh3//6plgAAlYAAAAAMQZ4aRRUsL/8AALKBAAAAEAGeOXRCvwIpqJ5BFZy1YEAAAAAQAZ47akK/AimonjnA+31gQQAAABNBmiBJqEFsmUwId//+qZYAAJWBAAAADEGeXkUVLC//AACygAAAABABnn10Qr8CKaieQRWctWBAAAAAEAGef2pCvwIpqJ45wPt9YEEAAAASQZpkSahBbJlMCG///qeEAAEnAAAADEGegkUVLC//AACygQAAABABnqF0Qr8CKaieQRWctWBAAAAAEAGeo2pCvwIpqJ45wPt9YEEAAAASQZqoSahBbJlMCG///qeEAAEnAAAADEGexkUVLC//AACygQAAABABnuV0Qr8CKaieQRWctWBBAAAAEAGe52pCvwIpqJ45wPt9YEAAAAAcQZrpSahBbJlMCG///qeEBx9LoEJ/b9Bbnyi7gAAAABlBmwpJ4QpSZTAh3/6plgEFUc60PV9thKSBAAAAGEGbLknhDomUwId//qmWA4H7oM6MfmWIOAAAABBBn0xFETwv/wGjn6L7AveEAAAADwGfa3RCvwJJYrGC/tBzQQAAABABn21qQr8CR84a95XCfGLBAAAAE0GbckmoQWiZTAh3//6plgAAlYEAAAAMQZ+QRREsL/8AALKAAAAAEAGfr3RCvwIpqJ5BFZy1YEAAAAAQAZ+xakK/AimonjnA+31gQQAAABNBm7ZJqEFsmUwId//+qZYAAJWAAAAADEGf1EUVLC//AACygAAAABABn/N0Qr8CKaieQRWctWBBAAAAEAGf9WpCvwIpqJ45wPt9YEAAAAATQZv6SahBbJlMCHf//qmWAACVgQAAAAxBnhhFFSwv/wAAsoEAAAAQAZ43dEK/AimonkEVnLVgQAAAABABnjlqQr8CKaieOcD7fWBBAAAAEkGaPkmoQWyZTAhv//6nhAABJwAAAAxBnlxFFSwv/wAAsoEAAAAQAZ57dEK/AimonkEVnLVgQQAAABABnn1qQr8CKaieOcD7fWBAAAAAGUGaf0moQWyZTAh3//6plgObo5pZ0dPfkTMAAAAWQZqDSeEKUmUwId/+qZYA8PhR9mBSQQAAAA5BnqFFNEwv/wD3/t6z4AAAABABnsB0Qr8CFaieQRWctWLBAAAAEAGewmpCvwIVqJ45wPt9YsAAAAATQZrHSahBaJlMCHf//qmWAACVgQAAAAxBnuVFESwv/wAAsoEAAAAQAZ8EdEK/AhWonkEVnLViwQAAABABnwZqQr8CFaieOcD7fWLBAAAAE0GbC0moQWyZTAh3//6plgAAlYAAAAAMQZ8pRRUsL/8AALKAAAAAEAGfSHRCvwIVqJ5BFZy1YsEAAAAQAZ9KakK/AhWonjnA+31iwAAAABJBm09JqEFsmUwIb//+p4QAAScAAAAMQZ9tRRUsL/8AALKBAAAAEAGfjHRCvwIVqJ5BFZy1YsEAAAAQAZ+OakK/AhWonjnA+31iwQAAABxBm5BJqEFsmUwId//+qZYDN8QgH9/GJIUwCjAgAAAAHEGbtEnhClJlMCHf/qmWA4EE/KqPu+rvt82B5eAAAAARQZ/SRTRML/8Bo5+c8DiAFpEAAAAPAZ/xdEK/AVqMYuA/LPfgAAAADwGf82pCvwIy6p5MCp67LwAAABNBm/hJqEFomUwId//+qZYAAJWBAAAADEGeFkURLC//AACygAAAABABnjV0Qr8CKaieQRWctWBBAAAAEAGeN2pCvwIpqJ45wPt9YEEAAAATQZo8SahBbJlMCHf//qmWAACVgAAAAAxBnlpFFSwv/wAAsoEAAAAQAZ55dEK/AimonkEVnLVgQAAAABABnntqQr8CKaieOcD7fWBBAAAAEkGaYEmoQWyZTAhv//6nhAABJwAAAAxBnp5FFSwv/wAAsoAAAAAQAZ69dEK/AimonkEVnLVgQAAAABABnr9qQr8CKaieOcD7fWBBAAAAEkGapEmoQWyZTAhv//6nhAABJwAAAAxBnsJFFSwv/wAAsoEAAAAQAZ7hdEK/AimonkEVnLVgQAAAABABnuNqQr8CKaieOcD7fWBBAAAAEkGa6EmoQWyZTAhf//6MsAAEjQAAAAxBnwZFFSwv/wAAsoEAAAAQAZ8ldEK/AimonkEVnLVgQQAAABABnydqQr8CKaieOcD7fWBAAAAAGkGbKUuoQhBbJEYIKAfyAf2HgCFf/jhAABFwAAAMcW1vb3YAAABsbXZoZAAAAAAAAAAAAAAAAAAAA+gAAB+QAAEAAAEAAAAAAAAAAAAAAAABAAAAAAAAAAAAAAAAAAAAAQAAAAAAAAAAAAAAAAAAQAAAAAAAAAAAAAAAAAAAAAAAAAAAAAAAAAAAAAAAAAIAAAubdHJhawAAAFx0a2hkAAAAAwAAAAAAAAAAAAAAAQAAAAAAAB+QAAAAAAAAAAAAAAAAAAAAAAABAAAAAAAAAAAAAAAAAAAAAQAAAAAAAAAAAAAAAAAAQAAAAAEQAAABEAAAAAAAJGVkdHMAAAAcZWxzdAAAAAAAAAABAAAfkAAABAAAAQAAAAALE21kaWEAAAAgbWRoZAAAAAAAAAAAAAAAAAAAMgAAAZQAVcQAAAAAAC1oZGxyAAAAAAAAAAB2aWRlAAAAAAAAAAAAAAAAVmlkZW9IYW5kbGVyAAAACr5taW5mAAAAFHZtaGQAAAABAAAAAAAAAAAAAAAkZGluZgAAABxkcmVmAAAAAAAAAAEAAAAMdXJsIAAAAAEAAAp+c3RibAAAAJZzdHNkAAAAAAAAAAEAAACGYXZjMQAAAAAAAAABAAAAAAAAAAAAAAAAAAAAAAEQARAASAAAAEgAAAAAAAAAAQAAAAAAAAAAAAAAAAAAAAAAAAAAAAAAAAAAAAAAAAAAABj//wAAADBhdmNDAfQADf/hABdn9AANkZsoIhHQgAAAAwCAAAAZB4oUywEABmjr48RIRAAAABhzdHRzAAAAAAAAAAEAAADKAAACAAAAABRzdHNzAAAAAAAAAAEAAAABAAAGSGN0dHMAAAAAAAAAxwAAAAEAAAQAAAAAAQAACgAAAAABAAAEAAAAAAEAAAAAAAAAAQAAAgAAAAABAAAKAAAAAAEAAAQAAAAAAQAAAAAAAAABAAACAAAAAAEAAAoAAAAAAQAABAAAAAABAAAAAAAAAAEAAAIAAAAAAQAACgAAAAABAAAEAAAAAAEAAAAAAAAAAQAAAgAAAAABAAAKAAAAAAEAAAQAAAAAAQAAAAAAAAABAAACAAAAAAEAAAoAAAAAAQAABAAAAAABAAAAAAAAAAEAAAIAAAAAAQAACgAAAAABAAAEAAAAAAEAAAAAAAAAAQAAAgAAAAABAAAKAAAAAAEAAAQAAAAAAQAAAAAAAAABAAACAAAAAAEAAAoAAAAAAQAABAAAAAABAAAAAAAAAAEAAAIAAAAAAQAACgAAAAABAAAEAAAAAAEAAAAAAAAAAQAAAgAAAAABAAAKAAAAAAEAAAQAAAAAAQAAAAAAAAABAAACAAAAAAEAAAoAAAAAAQAABAAAAAABAAAAAAAAAAEAAAIAAAAAAQAACgAAAAABAAAEAAAAAAEAAAAAAAAAAQAAAgAAAAABAAAKAAAAAAEAAAQAAAAAAQAAAAAAAAABAAACAAAAAAEAAAoAAAAAAQAABAAAAAABAAAAAAAAAAEAAAIAAAAAAQAACgAAAAABAAAEAAAAAAEAAAAAAAAAAQAAAgAAAAABAAAKAAAAAAEAAAQAAAAAAQAAAAAAAAABAAACAAAAAAEAAAoAAAAAAQAABAAAAAABAAAAAAAAAAEAAAIAAAAAAQAACgAAAAABAAAEAAAAAAEAAAAAAAAAAQAAAgAAAAABAAAKAAAAAAEAAAQAAAAAAQAAAAAAAAABAAACAAAAAAEAAAoAAAAAAQAABAAAAAABAAAAAAAAAAEAAAIAAAAAAQAACgAAAAABAAAEAAAAAAEAAAAAAAAAAQAAAgAAAAABAAAKAAAAAAEAAAQAAAAAAQAAAAAAAAABAAACAAAAAAEAAAoAAAAAAQAABAAAAAABAAAAAAAAAAEAAAIAAAAAAQAACgAAAAABAAAEAAAAAAEAAAAAAAAAAQAAAgAAAAABAAAKAAAAAAEAAAQAAAAAAQAAAAAAAAABAAACAAAAAAIAAAQAAAAAAQAACAAAAAACAAACAAAAAAEAAAYAAAAAAQAAAgAAAAABAAAEAAAAAAEAAAoAAAAAAQAABAAAAAABAAAAAAAAAAEAAAIAAAAAAQAACgAAAAABAAAEAAAAAAEAAAAAAAAAAQAAAgAAAAABAAAKAAAAAAEAAAQAAAAAAQAAAAAAAAABAAACAAAAAAEAAAoAAAAAAQAABAAAAAABAAAAAAAAAAEAAAIAAAAAAQAACgAAAAABAAAEAAAAAAEAAAAAAAAAAQAAAgAAAAABAAAKAAAAAAEAAAQAAAAAAQAAAAAAAAABAAACAAAAAAIAAAQAAAAAAQAACgAAAAABAAAEAAAAAAEAAAAAAAAAAQAAAgAAAAABAAAKAAAAAAEAAAQAAAAAAQAAAAAAAAABAAACAAAAAAEAAAoAAAAAAQAABAAAAAABAAAAAAAAAAEAAAIAAAAAAQAACgAAAAABAAAEAAAAAAEAAAAAAAAAAQAAAgAAAAABAAAKAAAAAAEAAAQAAAAAAQAAAAAAAAABAAACAAAAAAEAAAQAAAAAAQAACgAAAAABAAAEAAAAAAEAAAAAAAAAAQAAAgAAAAABAAAKAAAAAAEAAAQAAAAAAQAAAAAAAAABAAACAAAAAAEAAAoAAAAAAQAABAAAAAABAAAAAAAAAAEAAAIAAAAAAQAACgAAAAABAAAEAAAAAAEAAAAAAAAAAQAAAgAAAAABAAAEAAAAAAEAAAoAAAAAAQAABAAAAAABAAAAAAAAAAEAAAIAAAAAAQAACgAAAAABAAAEAAAAAAEAAAAAAAAAAQAAAgAAAAABAAAKAAAAAAEAAAQAAAAAAQAAAAAAAAABAAACAAAAAAEAAAoAAAAAAQAABAAAAAABAAAAAAAAAAEAAAIAAAAAAQAACgAAAAABAAAEAAAAAAEAAAAAAAAAAQAAAgAAAAABAAAKAAAAAAEAAAQAAAAAAQAAAAAAAAABAAACAAAAAAEAAAQAAAAAHHN0c2MAAAAAAAAAAQAAAAEAAADKAAAAAQAAAzxzdHN6AAAAAAAAAAAAAADKAAAFcgAAACAAAAASAAAAEwAAABMAAAAXAAAAEAAAABQAAAAUAAAAFwAAABAAAAAUAAAAFAAAABcAAAAQAAAAFAAAABQAAAAXAAAAEAAAABQAAAAUAAAAFwAAABAAAAAUAAAAFAAAABcAAAAQAAAAFAAAABQAAAAXAAAAEAAAABQAAAAUAAAAFwAAABAAAAAUAAAAFAAAABcAAAAQAAAAFAAAABQAAAAXAAAAEAAAABQAAAAUAAAAFwAAABAAAAAUAAAAFAAAABcAAAAQAAAAFAAAABQAAAAXAAAAEAAAABQAAAAUAAAAFwAAABAAAAAUAAAAFAAAABcAAAAQAAAAFAAAABQAAAAXAAAAEAAAABQAAAAUAAAAFwAAABAAAAAUAAAAFAAAABcAAAAQAAAAFAAAABQAAAAXAAAAEAAAABQAAAAUAAAAFwAAABAAAAAUAAAAFAAAABcAAAAQAAAAFAAAABQAAAAXAAAAEAAAABQAAAAUAAAAFwAAABAAAAAUAAAAFAAAABYAAAAQAAAAFAAAABQAAAAWAAAAEAAAABQAAAAUAAAAHQAAABwAAAAhAAAAFwAAABMAAAAcAAAAFAAAAB0AAAAnAAAAFAAAABMAAAATAAAAFwAAABAAAAAUAAAAFAAAABcAAAAQAAAAFAAAABQAAAAXAAAAEAAAABQAAAAUAAAAFgAAABAAAAAUAAAAFAAAABYAAAAQAAAAFAAAABQAAAAgAAAAHQAAABwAAAAUAAAAEwAAABQAAAAXAAAAEAAAABQAAAAUAAAAFwAAABAAAAAUAAAAFAAAABcAAAAQAAAAFAAAABQAAAAWAAAAEAAAABQAAAAUAAAAHQAAABoAAAASAAAAFAAAABQAAAAXAAAAEAAAABQAAAAUAAAAFwAAABAAAAAUAAAAFAAAABYAAAAQAAAAFAAAABQAAAAgAAAAIAAAABUAAAATAAAAEwAAABcAAAAQAAAAFAAAABQAAAAXAAAAEAAAABQAAAAUAAAAFgAAABAAAAAUAAAAFAAAABYAAAAQAAAAFAAAABQAAAAWAAAAEAAAABQAAAAUAAAAHgAAABRzdGNvAAAAAAAAAAEAAAAwAAAAYnVkdGEAAABabWV0YQAAAAAAAAAhaGRscgAAAAAAAAAAbWRpcmFwcGwAAAAAAAAAAAAAAAAtaWxzdAAAACWpdG9vAAAAHWRhdGEAAAABAAAAAExhdmY1Ny41Ni4xMDE=\" type=\"video/mp4\" />\n",
       "             </video>"
      ],
      "text/plain": [
       "<IPython.core.display.HTML object>"
      ]
     },
     "execution_count": 17,
     "metadata": {},
     "output_type": "execute_result"
    }
   ],
   "source": [
    "HTML(display_videos('fc_test10.mp4'))"
   ]
  },
  {
   "cell_type": "markdown",
   "metadata": {},
   "source": [
    "1) DQN_CNN's performance is better than FC's. However, both of them face the same challenge: the rat tends to stay in place rather than explore the map.\n",
    "\n",
    "2) Changing the temperature makes the algorithm work worse in general: Since the environment transition probability is changed (compared to the train one). Nevertheless, since I applied an $\\epsilon$ probability of choosing uniformly random action (to avoid the rat oscillates forever), the FC works better if we increase the temperature (since we have more cheese now)."
   ]
  },
  {
   "cell_type": "markdown",
   "metadata": {},
   "source": [
    "***\n",
    "\n",
    "The algorithm tends to not explore the map which can be an issue. We propose two ideas in order to encourage exploration:\n",
    "1. Incorporating a decreasing $\\epsilon$-greedy exploration. You can use the method ```set_epsilon```\n",
    "2. Append via the environment a new state that describes if a cell has been visited or not\n",
    "\n",
    "***\n",
    "__Question 10__ Design a new ```train_explore``` function and environment class ```EnvironmentExploring``` to tackle the issue of exploration.\n",
    "\n"
   ]
  },
  {
   "cell_type": "code",
   "execution_count": 13,
   "metadata": {},
   "outputs": [],
   "source": [
    "def train_explore(agent,env,epoch,prefix=''):\n",
    "    # Number of won games\n",
    "    score = 0\n",
    "    loss = 0\n",
    "\n",
    "    for e in range(epoch):\n",
    "        # At each epoch, we restart to a fresh game and get the initial state\n",
    "        state = env.reset()\n",
    "        #Set the epsilon linearly decreasing to reduce the exploration\n",
    "        agent.set_epsilon(1 - e * 1.0 / epoch)\n",
    "        # This assumes that the games will terminate\n",
    "        game_over = False\n",
    "\n",
    "        win = 0\n",
    "        lose = 0\n",
    "\n",
    "        while not game_over:\n",
    "            # The agent performs an action\n",
    "            action = agent.act(state)\n",
    "            \n",
    "            # Apply an action to the environment, get the next state, the reward\n",
    "            # and if the games end\n",
    "            prev_state = state\n",
    "            state, reward, game_over = env.act(action, train = True)\n",
    "\n",
    "            # Update the counters\n",
    "            if reward > 0:\n",
    "                win = win + reward\n",
    "            if reward < 0:\n",
    "                lose = lose - reward\n",
    "\n",
    "            # Apply the reinforcement strategy\n",
    "            loss = agent.reinforce(prev_state, state,  action, reward, game_over)\n",
    "\n",
    "        # Save as a mp4\n",
    "        if e % 10 == 0:\n",
    "            env.draw(prefix+str(e))\n",
    "\n",
    "        # Update stats\n",
    "        score += win-lose\n",
    "        \n",
    "        print(\"Epoch {:03d}/{:03d} | Loss {:.4f} | Win/lose count {}/{} ({})\"\n",
    "              .format(e, epoch, loss, win, lose, win-lose))\n",
    "        agent.save(name_weights=prefix+'model.h5',name_model=prefix+'model.json')\n",
    "        \n",
    "class EnvironmentExploring(object):\n",
    "    def __init__(self, grid_size=10, max_time=500, temperature=0.1):\n",
    "        grid_size = grid_size+4\n",
    "        self.grid_size = grid_size\n",
    "        self.max_time = max_time\n",
    "        self.temperature = temperature\n",
    "\n",
    "        #board on which one plays\n",
    "        self.board = np.zeros((grid_size,grid_size))\n",
    "        self.position = np.zeros((grid_size,grid_size))\n",
    "\n",
    "        # coordinate of the cat\n",
    "        self.x = 0\n",
    "        self.y = 1\n",
    "\n",
    "        # self time\n",
    "        self.t = 0\n",
    "\n",
    "        self.scale=16\n",
    "\n",
    "        self.to_draw = np.zeros((max_time+2, grid_size*self.scale, grid_size*self.scale, 3))\n",
    "\n",
    "\n",
    "    def draw(self,e):\n",
    "        skvideo.io.vwrite(str(e) + '.mp4', self.to_draw)\n",
    "\n",
    "    def get_frame(self,t):\n",
    "        b = np.zeros((self.grid_size,self.grid_size,3))+128\n",
    "        b[self.board>0,0] = 256\n",
    "        b[self.board < 0, 2] = 256\n",
    "        b[self.x,self.y,:]=256\n",
    "        b[-2:,:,:]=0\n",
    "        b[:,-2:,:]=0\n",
    "        b[:2,:,:]=0\n",
    "        b[:,:2,:]=0\n",
    "        \n",
    "        b =  cv2.resize(b, None, fx=self.scale, fy=self.scale, interpolation=cv2.INTER_NEAREST)\n",
    "\n",
    "        self.to_draw[t,:,:,:]=b\n",
    "\n",
    "\n",
    "    def act(self, action, train = False):\n",
    "        \"\"\"This function returns the new state, reward and decides if the\n",
    "        game ends.\"\"\"\n",
    "\n",
    "        self.get_frame(int(self.t))\n",
    "\n",
    "        self.position = np.zeros((self.grid_size, self.grid_size))\n",
    "\n",
    "        self.position[0:2,:]= -1\n",
    "        self.position[:,0:2] = -1\n",
    "        self.position[-2:, :] = -1\n",
    "        self.position[:, -2:] = -1\n",
    "\n",
    "        self.position[self.x, self.y] = 1\n",
    "        if action == 0:\n",
    "            if self.x == self.grid_size-3:\n",
    "                self.x = self.x-1\n",
    "            else:\n",
    "                self.x = self.x + 1\n",
    "        elif action == 1:\n",
    "            if self.x == 2:\n",
    "                self.x = self.x+1\n",
    "            else:\n",
    "                self.x = self.x-1\n",
    "        elif action == 2:\n",
    "            if self.y == self.grid_size - 3:\n",
    "                self.y = self.y - 1\n",
    "            else:\n",
    "                self.y = self.y + 1\n",
    "        elif action == 3:\n",
    "            if self.y == 2:\n",
    "                self.y = self.y + 1\n",
    "            else:\n",
    "                self.y = self.y - 1\n",
    "        else:\n",
    "            RuntimeError('Error: action not recognized')\n",
    "\n",
    "        self.t = self.t + 1\n",
    "        reward = 0\n",
    "        #Update the board when training to get desired feedback from the environment\n",
    "        if train:\n",
    "            reward = -self.malus_position[self.x, self.y]\n",
    "        self.malus_position[self.x, self.y] = 0.1\n",
    "\n",
    "        reward = reward + self.board[self.x, self.y]\n",
    "        self.board[self.x, self.y] = 0\n",
    "        game_over = self.t > self.max_time\n",
    "        state = np.concatenate((self.malus_position.reshape(self.grid_size, self.grid_size,1),\n",
    "                                self.board.reshape(self.grid_size, self.grid_size,1),\n",
    "                                self.position.reshape(self.grid_size, self.grid_size,1)),axis=2)\n",
    "        state = state[self.x-2:self.x+3,self.y-2:self.y+3,:]\n",
    "\n",
    "        return state, reward, game_over\n",
    "\n",
    "    def reset(self):\n",
    "        \"\"\"This function resets the game and returns the initial state\"\"\"\n",
    "\n",
    "        self.x = np.random.randint(3, self.grid_size-3, size=1)[0]\n",
    "        self.y = np.random.randint(3, self.grid_size-3, size=1)[0]\n",
    "\n",
    "\n",
    "        bonus = 0.5*np.random.binomial(1,self.temperature,size=self.grid_size**2)\n",
    "        bonus = bonus.reshape(self.grid_size,self.grid_size)\n",
    "\n",
    "        malus = -1.0*np.random.binomial(1,self.temperature,size=self.grid_size**2)\n",
    "        malus = malus.reshape(self.grid_size, self.grid_size)\n",
    "\n",
    "        self.to_draw = np.zeros((self.max_time+2, self.grid_size*self.scale, self.grid_size*self.scale, 3))\n",
    "\n",
    "\n",
    "        malus[bonus>0]=0\n",
    "\n",
    "        self.board = bonus + malus\n",
    "\n",
    "        self.position = np.zeros((self.grid_size, self.grid_size))\n",
    "        self.position[0:2,:]= -1\n",
    "        self.position[:,0:2] = -1\n",
    "        self.position[-2:, :] = -1\n",
    "        self.position[:, -2:] = -1\n",
    "        self.board[self.x,self.y] = 0\n",
    "        self.malus_position = np.zeros((self.grid_size, self.grid_size))\n",
    "        self.t = 0\n",
    "\n",
    "        state = np.concatenate((self.malus_position.reshape(self.grid_size, self.grid_size,1),\n",
    "                                self.board.reshape(self.grid_size, self.grid_size,1),\n",
    "                                self.position.reshape(self.grid_size, self.grid_size,1)),axis=2)\n",
    "\n",
    "        state = state[self.x - 2:self.x + 3, self.y - 2:self.y + 3, :]\n",
    "        return state\n",
    "    \n",
    "## use those samples of code:\n",
    "#In train explore:"
   ]
  },
  {
   "cell_type": "code",
   "execution_count": 20,
   "metadata": {},
   "outputs": [
    {
     "name": "stdout",
     "output_type": "stream",
     "text": [
      "WARNING:tensorflow:Layer conv2d_2 is casting an input tensor from dtype float64 to the layer's dtype of float32, which is new behavior in TensorFlow 2.  The layer has dtype float32 because it's dtype defaults to floatx.\n",
      "\n",
      "If you intended to run this layer in float32, you can safely ignore this warning. If in doubt, this warning is likely only an issue if you are porting a TensorFlow 1.X model to TensorFlow 2.\n",
      "\n",
      "To change all layers to have dtype float64 by default, call `tf.keras.backend.set_floatx('float64')`. To change just this layer, pass dtype='float64' to the layer constructor. If you are the author of this layer, you can disable autocasting by passing autocast=False to the base Layer constructor.\n",
      "\n",
      "Epoch 000/021 | Loss 0.0381 | Win/lose count 10.0/23.40000000000002 (-13.40000000000002)\n",
      "Epoch 001/021 | Loss 0.0139 | Win/lose count 9.0/24.100000000000065 (-15.100000000000065)\n",
      "Epoch 002/021 | Loss 0.0052 | Win/lose count 9.0/21.500000000000053 (-12.500000000000053)\n",
      "Epoch 003/021 | Loss 0.0103 | Win/lose count 9.5/31.600000000000122 (-22.100000000000122)\n",
      "Epoch 004/021 | Loss 0.0056 | Win/lose count 14.0/23.700000000000063 (-9.700000000000063)\n",
      "Epoch 005/021 | Loss 0.0069 | Win/lose count 14.0/22.200000000000045 (-8.200000000000045)\n",
      "Epoch 006/021 | Loss 0.0046 | Win/lose count 9.5/28.100000000000062 (-18.600000000000062)\n",
      "Epoch 007/021 | Loss 0.0150 | Win/lose count 12.5/22.20000000000003 (-9.700000000000031)\n",
      "Epoch 008/021 | Loss 0.0114 | Win/lose count 12.0/26.40000000000004 (-14.400000000000041)\n",
      "Epoch 009/021 | Loss 0.0061 | Win/lose count 13.5/22.800000000000033 (-9.300000000000033)\n",
      "Epoch 010/021 | Loss 0.0034 | Win/lose count 9.0/23.100000000000062 (-14.100000000000062)\n",
      "Epoch 011/021 | Loss 0.0035 | Win/lose count 18.0/20.90000000000002 (-2.90000000000002)\n",
      "Epoch 012/021 | Loss 0.0112 | Win/lose count 21.0/23.800000000000033 (-2.8000000000000327)\n",
      "Epoch 013/021 | Loss 0.0051 | Win/lose count 20.0/25.60000000000005 (-5.600000000000051)\n",
      "Epoch 014/021 | Loss 0.0072 | Win/lose count 12.0/18.199999999999992 (-6.199999999999992)\n",
      "Epoch 015/021 | Loss 0.0104 | Win/lose count 14.5/24.30000000000007 (-9.800000000000072)\n",
      "Epoch 016/021 | Loss 0.0053 | Win/lose count 17.5/15.099999999999975 (2.4000000000000252)\n",
      "Epoch 017/021 | Loss 0.0075 | Win/lose count 10.5/17.59999999999999 (-7.099999999999991)\n",
      "Epoch 018/021 | Loss 0.0019 | Win/lose count 23.0/19.19999999999999 (3.8000000000000114)\n",
      "Epoch 019/021 | Loss 0.0096 | Win/lose count 22.5/15.799999999999972 (6.700000000000028)\n",
      "Epoch 020/021 | Loss 0.0098 | Win/lose count 11.5/20.399999999999988 (-8.899999999999988)\n"
     ]
    },
    {
     "data": {
      "text/html": [
       "<video alt=\"test\" controls>\n",
       "                <source src=\"data:video/mp4;base64,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\" type=\"video/mp4\" />\n",
       "             </video>"
      ],
      "text/plain": [
       "<IPython.core.display.HTML object>"
      ]
     },
     "execution_count": 20,
     "metadata": {},
     "output_type": "execute_result"
    }
   ],
   "source": [
    "# Training\n",
    "env = EnvironmentExploring(grid_size=size, max_time=T, temperature=0.3)\n",
    "agent = DQN_CNN(size, lr=.1, epsilon = 0.1, memory_size=2000, batch_size = 32,n_state=3)\n",
    "train_explore(agent, env, epochs_train, prefix='cnn_train_explore')\n",
    "HTML(display_videos('cnn_train_explore20.mp4'))"
   ]
  },
  {
   "cell_type": "code",
   "execution_count": 22,
   "metadata": {},
   "outputs": [
    {
     "name": "stdout",
     "output_type": "stream",
     "text": [
      "Win/lose count 14.5/4.0. Average score (10.5)\n",
      "Win/lose count 11.0/2.0. Average score (9.75)\n",
      "Win/lose count 12.5/3.0. Average score (9.666666666666666)\n",
      "Win/lose count 12.0/5.0. Average score (9.0)\n",
      "Win/lose count 11.5/5.0. Average score (8.5)\n",
      "Win/lose count 7.0/3.0. Average score (7.75)\n",
      "Win/lose count 12.5/3.0. Average score (8.0)\n",
      "Win/lose count 15.0/5.0. Average score (8.25)\n",
      "Win/lose count 8.5/5.0. Average score (7.722222222222222)\n",
      "Win/lose count 13.5/1.0. Average score (8.2)\n",
      "Win/lose count 14.5/0. Average score (8.772727272727273)\n",
      "Final score: 8.772727272727273\n"
     ]
    },
    {
     "data": {
      "text/html": [
       "<video alt=\"test\" controls>\n",
       "                <source src=\"data:video/mp4;base64,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\" type=\"video/mp4\" />\n",
       "             </video>"
      ],
      "text/plain": [
       "<IPython.core.display.HTML object>"
      ]
     },
     "execution_count": 22,
     "metadata": {},
     "output_type": "execute_result"
    }
   ],
   "source": [
    "# Evaluation\n",
    "agent.set_epsilon(0.1)\n",
    "test(agent,env,epochs_test,prefix='cnn_test_explore')\n",
    "HTML(display_videos('cnn_test_explore10.mp4'))"
   ]
  },
  {
   "cell_type": "markdown",
   "metadata": {},
   "source": [
    "***\n",
    "***\n",
    "__BONUS question__ Use the expert DQN from the previous question to generate some winning games. Train a model that mimicks its behavior. Compare the performances."
   ]
  },
  {
   "cell_type": "code",
   "execution_count": 23,
   "metadata": {},
   "outputs": [],
   "source": [
    "class MimicDQN(DQN):\n",
    "    def __init__(self, *args, link, lr=0.1,**kwargs):\n",
    "        super(MimicDQN, self).__init__(*args,**kwargs)\n",
    "        \n",
    "        #Initialize and load the expert network\n",
    "        self.role_CNN = DQN_CNN(size, lr=.1, epsilon = 0.1, memory_size=2000, batch_size = 32,n_state=3)\n",
    "        self.role_CNN.model(np.zeros((32,5,5,3)))\n",
    "        self.role_CNN.model.load_weights(link[0])\n",
    "        \n",
    "        #Build our network to mimic the behavior. It looks like a classifier rather than estimator of Q function\n",
    "        model = Sequential()\n",
    "        model.add(Conv2D(20, (3,3), activation = 'relu'))\n",
    "        model.add(Conv2D(20, (3,3), activation = 'relu'))\n",
    "        model.add(Flatten())\n",
    "        model.add(Dense(4, activation = 'softmax'))\n",
    "        model.compile(SGD(lr=lr, decay=1e-4, momentum=0.5), 'categorical_crossentropy')\n",
    "        self.model = model\n",
    "        \n",
    "    def reinforce(self, s_, n_s_, a_, r_, game_over_):\n",
    "        # Two steps: first memorize the states, second learn from the pool\n",
    "        \n",
    "        #Reload instances in the experience replay \n",
    "        self.memory.remember([s_, n_s_, a_, r_, game_over_])\n",
    "        \n",
    "        \"\"\"\n",
    "        input_states: (batch_size x 5 x 5 x state) The input of the network, configuration from the environment \n",
    "        target_q: (batch_size x 4) The expected target value corresponding to the input_states\n",
    "        \"\"\"\n",
    "        input_states = np.zeros((self.batch_size, 5, 5,self.n_state))\n",
    "        target_q = np.zeros((self.batch_size, 4))\n",
    "        \n",
    "        for i in range(self.batch_size):\n",
    "            ######## FILL IN\n",
    "            s_, n_s_, a_, r_, game_over_ = self.memory.random_access()\n",
    "            input_states[i] = s_\n",
    "            #mask[a_] = 1\n",
    "            target_q[i][self.role_CNN.act(s_)] = 1.0 #Desired output = the choice of expert network\n",
    "            \n",
    "        ######## FILL IN\n",
    "        # HINT: Clip the target to avoid exploiding gradients.. -- clipping is a bit tighter\n",
    "        #print(input_states.shape)\n",
    "        #print(self.model(input_states).shape)\n",
    "        #target_q = self.model(input_states) * (1 - mask) + mask * target_q\n",
    "        #target_q = np.clip(target_q, -3, 3)\n",
    "        l = self.model.train_on_batch(input_states, target_q)\n",
    "\n",
    "        return l"
   ]
  },
  {
   "cell_type": "code",
   "execution_count": 24,
   "metadata": {},
   "outputs": [
    {
     "name": "stdout",
     "output_type": "stream",
     "text": [
      "WARNING:tensorflow:Layer conv2d_4 is casting an input tensor from dtype float64 to the layer's dtype of float32, which is new behavior in TensorFlow 2.  The layer has dtype float32 because it's dtype defaults to floatx.\n",
      "\n",
      "If you intended to run this layer in float32, you can safely ignore this warning. If in doubt, this warning is likely only an issue if you are porting a TensorFlow 1.X model to TensorFlow 2.\n",
      "\n",
      "To change all layers to have dtype float64 by default, call `tf.keras.backend.set_floatx('float64')`. To change just this layer, pass dtype='float64' to the layer constructor. If you are the author of this layer, you can disable autocasting by passing autocast=False to the base Layer constructor.\n",
      "\n",
      "Epoch 000/026 | Loss 0.2769 | Win/lose count 13.5/25.400000000000038 (-11.900000000000038)\n",
      "WARNING:tensorflow:Layer conv2d_6 is casting an input tensor from dtype float64 to the layer's dtype of float32, which is new behavior in TensorFlow 2.  The layer has dtype float32 because it's dtype defaults to floatx.\n",
      "\n",
      "If you intended to run this layer in float32, you can safely ignore this warning. If in doubt, this warning is likely only an issue if you are porting a TensorFlow 1.X model to TensorFlow 2.\n",
      "\n",
      "To change all layers to have dtype float64 by default, call `tf.keras.backend.set_floatx('float64')`. To change just this layer, pass dtype='float64' to the layer constructor. If you are the author of this layer, you can disable autocasting by passing autocast=False to the base Layer constructor.\n",
      "\n",
      "Epoch 001/026 | Loss 0.5215 | Win/lose count 13.0/36.40000000000008 (-23.400000000000077)\n",
      "Epoch 002/026 | Loss 0.6424 | Win/lose count 7.5/25.000000000000092 (-17.500000000000092)\n",
      "Epoch 003/026 | Loss 0.4133 | Win/lose count 8.0/25.400000000000105 (-17.400000000000105)\n",
      "Epoch 004/026 | Loss 0.5856 | Win/lose count 6.5/22.800000000000026 (-16.300000000000026)\n",
      "Epoch 005/026 | Loss 0.8341 | Win/lose count 15.5/24.100000000000055 (-8.600000000000055)\n",
      "Epoch 006/026 | Loss 0.4645 | Win/lose count 10.5/22.000000000000043 (-11.500000000000043)\n",
      "Epoch 007/026 | Loss 0.6115 | Win/lose count 14.0/23.40000000000007 (-9.40000000000007)\n",
      "Epoch 008/026 | Loss 0.5772 | Win/lose count 10.5/26.500000000000078 (-16.000000000000078)\n",
      "Epoch 009/026 | Loss 0.4691 | Win/lose count 14.0/23.70000000000004 (-9.700000000000038)\n",
      "Epoch 010/026 | Loss 0.4701 | Win/lose count 12.0/28.500000000000092 (-16.500000000000092)\n",
      "Epoch 011/026 | Loss 0.4382 | Win/lose count 13.0/21.400000000000027 (-8.400000000000027)\n",
      "Epoch 012/026 | Loss 0.8201 | Win/lose count 1.5/20.700000000000024 (-19.200000000000024)\n",
      "Epoch 013/026 | Loss 0.5452 | Win/lose count 9.0/25.700000000000074 (-16.700000000000074)\n",
      "Epoch 014/026 | Loss 0.2679 | Win/lose count 11.5/25.900000000000098 (-14.400000000000098)\n",
      "Epoch 015/026 | Loss 0.3480 | Win/lose count 8.0/17.89999999999999 (-9.899999999999991)\n",
      "Epoch 016/026 | Loss 0.5541 | Win/lose count 13.0/20.600000000000044 (-7.600000000000044)\n",
      "Epoch 017/026 | Loss 0.6558 | Win/lose count 15.5/20.200000000000035 (-4.700000000000035)\n",
      "Epoch 018/026 | Loss 0.6639 | Win/lose count 18.0/19.50000000000002 (-1.5000000000000213)\n",
      "Epoch 019/026 | Loss 0.6170 | Win/lose count 6.5/24.700000000000085 (-18.200000000000085)\n",
      "Epoch 020/026 | Loss 0.4906 | Win/lose count 7.0/19.500000000000014 (-12.500000000000014)\n",
      "Epoch 021/026 | Loss 0.7684 | Win/lose count 16.0/19.200000000000014 (-3.2000000000000135)\n",
      "Epoch 022/026 | Loss 0.3860 | Win/lose count 7.5/17.59999999999998 (-10.09999999999998)\n",
      "Epoch 023/026 | Loss 0.2133 | Win/lose count 15.5/18.4 (-2.8999999999999986)\n",
      "Epoch 024/026 | Loss 0.1937 | Win/lose count 6.5/18.7 (-12.2)\n",
      "Epoch 025/026 | Loss 0.8763 | Win/lose count 9.5/18.09999999999998 (-8.59999999999998)\n"
     ]
    }
   ],
   "source": [
    "env = EnvironmentExploring(grid_size=size, max_time=T, temperature=0.3)\n",
    "agent = MimicDQN(size, link = ['cnn_train_exploremodel.h5', 'cnn_train_exploremodel.json'], lr=.1, epsilon = 0.1, memory_size=2000, batch_size = 32,n_state=3)\n",
    "train_explore(agent, env, epochs_train + 5, prefix='mimic_cnn_train_explore')"
   ]
  },
  {
   "cell_type": "code",
   "execution_count": 28,
   "metadata": {},
   "outputs": [
    {
     "name": "stdout",
     "output_type": "stream",
     "text": [
      "Win/lose count 6.5/4.0. Average score (2.5)\n",
      "Win/lose count 13.5/4.0. Average score (6.0)\n",
      "Win/lose count 14.5/6.0. Average score (6.833333333333333)\n",
      "Win/lose count 8.0/3.0. Average score (6.375)\n",
      "Win/lose count 10.5/3.0. Average score (6.6)\n",
      "Win/lose count 7.0/3.0. Average score (6.166666666666667)\n",
      "Win/lose count 5.0/2.0. Average score (5.714285714285714)\n",
      "Win/lose count 10.5/4.0. Average score (5.8125)\n",
      "Win/lose count 7.0/5.0. Average score (5.388888888888889)\n",
      "Win/lose count 7.5/1.0. Average score (5.5)\n",
      "Win/lose count 10.0/2.0. Average score (5.7272727272727275)\n",
      "Final score: 5.7272727272727275\n"
     ]
    },
    {
     "data": {
      "text/html": [
       "<video alt=\"test\" controls>\n",
       "                <source src=\"data:video/mp4;base64,AAAAIGZ0eXBpc29tAAACAGlzb21pc28yYXZjMW1wNDEAAAAIZnJlZQAAFoFtZGF0AAACrQYF//+p3EXpvebZSLeWLNgg2SPu73gyNjQgLSBjb3JlIDE0OCByMjc0OCA5N2VhZWYyIC0gSC4yNjQvTVBFRy00IEFWQyBjb2RlYyAtIENvcHlsZWZ0IDIwMDMtMjAxNiAtIGh0dHA6Ly93d3cudmlkZW9sYW4ub3JnL3gyNjQuaHRtbCAtIG9wdGlvbnM6IGNhYmFjPTEgcmVmPTMgZGVibG9jaz0xOjA6MCBhbmFseXNlPTB4MzoweDExMyBtZT1oZXggc3VibWU9NyBwc3k9MSBwc3lfcmQ9MS4wMDowLjAwIG1peGVkX3JlZj0xIG1lX3JhbmdlPTE2IGNocm9tYV9tZT0xIHRyZWxsaXM9MSA4eDhkY3Q9MSBjcW09MCBkZWFkem9uZT0yMSwxMSBmYXN0X3Bza2lwPTEgY2hyb21hX3FwX29mZnNldD00IHRocmVhZHM9NiBsb29rYWhlYWRfdGhyZWFkcz0xIHNsaWNlZF90aHJlYWRzPTAgbnI9MCBkZWNpbWF0ZT0xIGludGVybGFjZWQ9MCBibHVyYXlfY29tcGF0PTAgY29uc3RyYWluZWRfaW50cmE9MCBiZnJhbWVzPTMgYl9weXJhbWlkPTIgYl9hZGFwdD0xIGJfYmlhcz0wIGRpcmVjdD0xIHdlaWdodGI9MSBvcGVuX2dvcD0wIHdlaWdodHA9MiBrZXlpbnQ9MjUwIGtleWludF9taW49MjUgc2NlbmVjdXQ9NDAgaW50cmFfcmVmcmVzaD0wIHJjX2xvb2thaGVhZD00MCByYz1jcmYgbWJ0cmVlPTEgY3JmPTIzLjAgcWNvbXA9MC42MCBxcG1pbj0wIHFwbWF4PTY5IHFwc3RlcD00IGlwX3JhdGlvPTEuNDAgYXE9MToxLjAwAIAAAAK7ZYiEADP//vaG+BTYUyOv//y/0mG6lCv4sAAGFIAWLumO4auOar/hH/7mv7Qfle/ybzZz5llUW2PmWDuF0/3R8oTnzWKSx0fxksZhyk4sz2aGDQqmdtc6ag10bEGdA1+W6chwPsPmbiCqr/U2W+h3Hth5HidbIjw2wRBB/m6N8VIbSSOi708KttXV4By+uToJkYeAbzlVZRCqnRpdEssBTpxXGGj4kxX6MFO7UCplaSJ6sHnKJ6c4Xjnmo0nTaurGlQOVvWl1Qcq7VK++jt6YkAN8WgfT/ITU918Ar8QNWVx+RahWdRmO2yDFOLYnE4FdWm6bGfj4Rr5QgwI4ZsjP5xZNx8CkL/a8ZGATZ/wQRkZgRL3IzY8vT4hBGu55M0RNLLVp1kMV2K8NbgLjLRIBx/Nip4ag9nzrB56xGfQMZsm1O9waFb81HyzlSu5dCCiIlktNSiwVILr+NvV55mteLhvd+D9UWe/cv9yXd5Pq4CNGpXcK2C6HY7jg0YVN/iWDJQfOTpIt2yQ0cCR22GIzfzzux9tVBjk67pSV1rPCqQIcNxA2DozUF64mI5hNWiRlPejj8SZavWhZGUGcV/E3S8LMTQ3bb9OitKXb/LxUqgUA+/FFyKRgkKfKGzSnKXnssFFs7lgj67IpOc2Jl1VGqv3XveQ6zm/zIXUDsNl0gRAAU+xf1CSyXvdCEusBzUnzOkevjBFUFrKsgvmE6n83feM9fMlmkC7pJ/1ZEa+rmjNSgFRZXsXIJprOvBkBOh4b6r3XlmA8zyaGzvm4rCeudHNGR+PDM5rFSJqHNvBwDXua0GnmIINbiwmesP5ekBTR30wycVSM1tMpCqd9LL1LTAcFlGtXXP2TTsdP3ABAOO/5owmLpaxUM1AEn3RPNCyzI5apnivqe617SH/uqEeDE7tdd63oA2EfQwN3AAAAE0GaIWxDP/6eEAAeUSDb3pvuvZwAAAAaQZpCPCGTKYQz//6eEAAvshjn8OfEBTP190EAAAAYQZpjSeEPJlMCGf/+nhAASU4Rz9GA7NJuAAAAGEGahEnhDyZTAhn//p4QAHEKcc/hzm+t2wAAABtBmqVJ4Q8mUwIb//6nhAAtXon+q31UCE/uvKEAAAAZQZrGSeEPJlMCG//+p4QARVAFm2IA0hqxwQAAACBBmulJ4Q8mUwIb//6nhABr6RP9XSjqoRTQAwD+/WBXoQAAABJBnwdFETwr/wBYrIhdhvpecTgAAAAPAZ8oakK/AFisiE4IHG2gAAAAGkGbKkmoQWiZTAhv//6nhACneif6kdGkNOBBAAAAGUGbS0nhClJlMCHf/qmWAIAiw3RSZ33aXpAAAAAfQZttSeEOiZTBTRMO//6plgDjnUC0SbcdJefbeGtqwAAAABABn4xqQr8BUbHluGzamOqBAAAAF0GbkUnhDyZTAh3//qmWAtKWcoMz4wFTAAAADkGfr0URPC//AYeP+zZhAAAAEAGfznRCvwIL0A5/FgceVUAAAAAQAZ/QakK/AgsbXdWrnoaVgAAAABNBm9VJqEFomUwId//+qZYAAJWBAAAADEGf80URLC//AACygAAAABABnhJ0Qr8CC9AOfxYHHlVAAAAAEAGeFGpCvwILG13Vq56GlYEAAAASQZoZSahBbJlMCG///qeEAAEnAAAADEGeN0UVLC//AACygQAAABABnlZ0Qr8CC9AOfxYHHlVBAAAAEAGeWGpCvwILG13Vq56GlYAAAAASQZpdSahBbJlMCG///qeEAAEnAAAADEGee0UVLC//AACygAAAABABnpp0Qr8CC9AOfxYHHlVBAAAAEAGenGpCvwILG13Vq56GlYEAAAAbQZqASahBbJlMCGf//p4QBwOuNvfASv9J9PmAAAAAEkGevkUVLCv/AguDrvJIO1OGLAAAAA8Bnt9qQr8CCtxSI0p8MWEAAAAYQZrBSahBbJlMCG///qeEAdaFkaihPYkvAAAAHkGa40nhClJlMFFSwz/+nhAEN+c3xV3ggcq3FXRHpQAAABABnwJqQr8A4iuDXHiraPGgAAAAGEGbBEnhDomUwIZ//p4QAtNe40Lpvuts3QAAABlBmyVJ4Q8mUwIb//6nhAC6e6n6jjQkOEfBAAAAGEGbRknhDyZTAhv//qeEAHc4TMrkFvTUDwAAABhBm2lJ4Q8mUwIb//6nhABPcVpBCJ/ltzsAAAARQZ+HRRE8K/8AP4zFgkJW/BsAAAAOAZ+oakK/AD+M1iuBKGwAAAAZQZuqSahBaJlMCG///qeEAHlOM/1KQCp/wQAAAB1Bm85J4QpSZTAhn/6eEALTXuuI5/W+/vs9buG13AAAABFBn+xFNEwv/wBulXpNEbePjAAAAA8Bngt0Qr8AZx5N55xaxYEAAAAQAZ4NakK/AJq80TImlZtqQQAAABpBmg9JqEFomUwIb//+p4QBHEAWbbZ9nzRQQQAAAB1BmjFJ4QpSZTBREsN//qeEAiGMzU2bZ1vdT4bNmAAAABABnlBqQr8BdbCPJgevbN6AAAAAHUGaU0nhDomUwUTDf/6nhAJJ3U+7zcpq1TISNjPnAAAAEAGecmpCvwF/Zua48VbRuqAAAAAYQZp0SeEPJlMCG//+p4QBNB8x5GJ/ltlDAAAAGUGalUnhDyZTAh3//qmWATPyDM/J5j7lN6EAAAAYQZq5SeEPJlMCHf/+qZYBTO2oB/fzpj/AAAAADkGe10URPC//ASagAqyhAAAAEAGe9nRCvwGTeTdHbfCo6YEAAAAQAZ74akK/ApDWu6qvPRLWgAAAABNBmv1JqEFomUwId//+qZYAAJWBAAAAFEGfG0URLC//AgDedM4rVuLXUVUwAAAADwGfOnRCvwKvzVA6bl+RBwAAABABnzxqQr8Crk+c6zPwTriBAAAAE0GbIUmoQWyZTAh3//6plgAAlYAAAAAQQZ9fRRUsL/8CAnAnM2NsXAAAAA8Bn350Qr8Cr9HZBsl14+8AAAAQAZ9gakK/Aq5PnOsz8E64gAAAABNBm2VJqEFsmUwId//+qZYAAJWBAAAADEGfg0UVLC//AACygAAAABABn6J0Qr8CkkAc/XQOLJGBAAAAEAGfpGpCvwKQ1ruqrz0S1oEAAAATQZupSahBbJlMCHf//qmWAACVgQAAAAxBn8dFFSwv/wAAsoEAAAAQAZ/mdEK/ApJAHP10DiyRgAAAABABn+hqQr8CkNa7qq89EtaAAAAAE0Gb7UmoQWyZTAh3//6plgAAlYEAAAAMQZ4LRRUsL/8AALKAAAAAEAGeKnRCvwKSQBz9dA4skYAAAAAQAZ4sakK/ApDWu6qvPRLWgQAAABNBmjFJqEFsmUwId//+qZYAAJWBAAAADEGeT0UVLC//AACygQAAABABnm50Qr8CkkAc/XQOLJGAAAAAEAGecGpCvwKQ1ruqrz0S1oAAAAATQZp1SahBbJlMCHf//qmWAACVgQAAAAxBnpNFFSwv/wAAsoAAAAAQAZ6ydEK/ApJAHP10DiyRgAAAABABnrRqQr8CkNa7qq89EtaBAAAAE0GauUmoQWyZTAh3//6plgAAlYAAAAAMQZ7XRRUsL/8AALKBAAAAEAGe9nRCvwKSQBz9dA4skYEAAAAQAZ74akK/ApDWu6qvPRLWgAAAABJBmv1JqEFsmUwIb//+p4QAAScAAAAMQZ8bRRUsL/8AALKAAAAAEAGfOnRCvwKSQBz9dA4skYEAAAAQAZ88akK/ApDWu6qvPRLWgQAAABlBmz5JqEFsmUwId//+qZYBN88wmWZ8twGVAAAAG0GbQknhClJlMCHf/qmWBHgs5QZnwrtL+kUWUAAAABBBn2BFNEwv/wHDIzruNFXBAAAAEAGfn3RCvwJfGTyNizE0FbAAAAAPAZ+BakK/Al9gOMD8sHBBAAAAE0GbhkmoQWiZTAh3//6plgAAlYAAAAATQZ+kRREsL/8Bw+Q8aZllyGh13QAAABABn8N0Qr8CXcUAqzlzCDmhAAAAEAGfxWpCvwJezvAr9YoQc0EAAAATQZvKSahBbJlMCHf//qmWAACVgQAAAAxBn+hFFSwv/wAAsoAAAAAQAZ4HdEK/AlSwDdIA+3dbQAAAABABnglqQr8CVLANyPX795mBAAAAEkGaDkmoQWyZTAhv//6nhAABJwAAAAxBnixFFSwv/wAAsoAAAAAQAZ5LdEK/AlSwDdIA+3dbQQAAABABnk1qQr8CVLANyPX795mBAAAAGkGaT0moQWyZTAh3//6plgSfhR9ABh0e0nXBAAAAH0Gac0nhClJlMCHf/qmWARfx5/FLLh4FNpbtTiNL6qYAAAAQQZ6RRTRML/8BDqA5dmSJWwAAABABnrB0Qr8BdU6k8r8lNlFxAAAADwGesmpCvwF/StjCs2nlwAAAABxBmrVJqEFomUwU8O/+qZYBM6WYtMz9nvRj1KRcAAAAEAGe1GpCvwGJdqW4bNqYy4EAAAASQZrZSeEKUmUwId/+qZYAAJWAAAAADEGe90U0TC//AACygQAAABABnxZ0Qr8CkkAc/XQOLJGBAAAAEAGfGGpCvwKQ1ruqrz0S1oAAAAATQZsdSahBaJlMCHf//qmWAACVgQAAAAxBnztFESwv/wAAsoAAAAAQAZ9adEK/ApJAHP10DiyRgQAAABABn1xqQr8CkNa7qq89EtaBAAAAE0GbQUmoQWyZTAh3//6plgAAlYAAAAAMQZ9/RRUsL/8AALKAAAAAEAGfnnRCvwKSQBz9dA4skYEAAAAQAZ+AakK/ApDWu6qvPRLWgAAAABNBm4VJqEFsmUwId//+qZYAAJWBAAAADEGfo0UVLC//AACygAAAABABn8J0Qr8CkkAc/XQOLJGBAAAAEAGfxGpCvwKQ1ruqrz0S1oEAAAATQZvJSahBbJlMCHf//qmWAACVgQAAABRBn+dFFSwv/wEb0e7al8e3x6RNSQAAABABngZ0Qr8BiQFM8r8lNlBwAAAAEAGeCGpCvwGJduE3GfXpqDgAAAATQZoNSahBbJlMCHf//qmWAACVgQAAAAxBnitFFSwv/wAAsoAAAAAQAZ5KdEK/ApJAHP10DiyRgAAAABABnkxqQr8CkNa7qq89EtaBAAAAE0GaUUmoQWyZTAh3//6plgAAlYEAAAAMQZ5vRRUsL/8AALKBAAAADwGejnRCvwGFK+BbAflnjQAAABABnpBqQr8CkNa7qq89EtaAAAAAE0GalUmoQWyZTAh3//6plgAAlYEAAAAMQZ6zRRUsL/8AALKAAAAAEAGe0nRCvwKSQBz9dA4skYAAAAAQAZ7UakK/ApDWu6qvPRLWgQAAABNBmtlJqEFsmUwId//+qZYAAJWAAAAADEGe90UVLC//AACygQAAABABnxZ0Qr8CkkAc/XQOLJGBAAAAEAGfGGpCvwKQ1ruqrz0S1oAAAAATQZsdSahBbJlMCHf//qmWAACVgQAAAAxBnztFFSwv/wAAsoAAAAAQAZ9adEK/ApJAHP10DiyRgQAAABABn1xqQr8CkNa7qq89EtaBAAAAE0GbQUmoQWyZTAh3//6plgAAlYAAAAAMQZ9/RRUsL/8AALKAAAAAEAGfnnRCvwKSQBz9dA4skYEAAAAQAZ+AakK/ApDWu6qvPRLWgAAAABNBm4VJqEFsmUwId//+qZYAAJWBAAAADEGfo0UVLC//AACygAAAABABn8J0Qr8CkkAc/XQOLJGBAAAADwGfxGpCvwGFK+BG6/v2DwAAABNBm8lJqEFsmUwId//+qZYAAJWBAAAADEGf50UVLC//AACygQAAABABngZ0Qr8CkkAc/XQOLJGAAAAAEAGeCGpCvwKQ1ruqrz0S1oAAAAATQZoNSahBbJlMCHf//qmWAACVgQAAAAxBnitFFSwv/wAAsoAAAAAQAZ5KdEK/ApJAHP10DiyRgAAAABABnkxqQr8CkNa7qq89EtaBAAAAE0GaUUmoQWyZTAh3//6plgAAlYEAAAAMQZ5vRRUsL/8AALKBAAAAEAGejnRCvwKSQBz9dA4skYAAAAAQAZ6QakK/ApDWu6qvPRLWgAAAABNBmpVJqEFsmUwId//+qZYAAJWBAAAADEGes0UVLC//AACygAAAABABntJ0Qr8CkkAc/XQOLJGAAAAAEAGe1GpCvwKQ1ruqrz0S1oEAAAATQZrZSahBbJlMCHf//qmWAACVgAAAAAxBnvdFFSwv/wAAsoEAAAAQAZ8WdEK/ApJAHP10DiyRgQAAABABnxhqQr8CkNa7qq89EtaAAAAAE0GbHUmoQWyZTAh3//6plgAAlYEAAAAMQZ87RRUsL/8AALKAAAAAEAGfWnRCvwKSQBz9dA4skYEAAAAQAZ9cakK/ApDWu6qvPRLWgQAAABJBm0FJqEFsmUwIb//+p4QAAScAAAAMQZ9/RRUsL/8AALKAAAAAEAGfnnRCvwKSQBz9dA4skYEAAAAQAZ+AakK/ApDWu6qvPRLWgAAAABJBm4VJqEFsmUwIZ//+nhAABH0AAAAMQZ+jRRUsL/8AALKAAAAAEAGfwnRCvwKSQBz9dA4skYEAAAAQAZ/EakK/ApDWu6qvPRLWgQAAABpBm8lLqEIQWyRGCCgH8gH9h4AhX/44QAARcQAAAClBn+dFFSwv/wIBvjpnFJBqIAW3TRa4/JQUF60Clk0M97hEAI2L/fb6sQAAAA8BngZ0Qr8Cr81QOm5fkQcAAAAjAZ4IakK/ApE0dSLUwTKq/DIUdpNqdTceJKQG3cjVUo+iPiAAAAwhbW9vdgAAAGxtdmhkAAAAAAAAAAAAAAAAAAAD6AAAH5AAAQAAAQAAAAAAAAAAAAAAAAEAAAAAAAAAAAAAAAAAAAABAAAAAAAAAAAAAAAAAABAAAAAAAAAAAAAAAAAAAAAAAAAAAAAAAAAAAAAAAAAAgAAC0t0cmFrAAAAXHRraGQAAAADAAAAAAAAAAAAAAABAAAAAAAAH5AAAAAAAAAAAAAAAAAAAAAAAAEAAAAAAAAAAAAAAAAAAAABAAAAAAAAAAAAAAAAAABAAAAAARAAAAEQAAAAAAAkZWR0cwAAABxlbHN0AAAAAAAAAAEAAB+QAAAEAAABAAAAAArDbWRpYQAAACBtZGhkAAAAAAAAAAAAAAAAAAAyAAABlABVxAAAAAAALWhkbHIAAAAAAAAAAHZpZGUAAAAAAAAAAAAAAABWaWRlb0hhbmRsZXIAAAAKbm1pbmYAAAAUdm1oZAAAAAEAAAAAAAAAAAAAACRkaW5mAAAAHGRyZWYAAAAAAAAAAQAAAAx1cmwgAAAAAQAACi5zdGJsAAAAlnN0c2QAAAAAAAAAAQAAAIZhdmMxAAAAAAAAAAEAAAAAAAAAAAAAAAAAAAAAARABEABIAAAASAAAAAAAAAABAAAAAAAAAAAAAAAAAAAAAAAAAAAAAAAAAAAAAAAAAAAAGP//AAAAMGF2Y0MB9AAN/+EAF2f0AA2RmygiEdCAAAADAIAAABkHihTLAQAGaOvjxEhEAAAAGHN0dHMAAAAAAAAAAQAAAMoAAAIAAAAAFHN0c3MAAAAAAAAAAQAAAAEAAAX4Y3R0cwAAAAAAAAC9AAAABwAABAAAAAABAAAIAAAAAAIAAAIAAAAAAgAABAAAAAABAAAGAAAAAAEAAAIAAAAAAQAACgAAAAABAAAEAAAAAAEAAAAAAAAAAQAAAgAAAAABAAAKAAAAAAEAAAQAAAAAAQAAAAAAAAABAAACAAAAAAEAAAoAAAAAAQAABAAAAAABAAAAAAAAAAEAAAIAAAAAAQAACgAAAAABAAAEAAAAAAEAAAAAAAAAAQAAAgAAAAABAAAIAAAAAAIAAAIAAAAAAQAABAAAAAABAAAGAAAAAAEAAAIAAAAAAwAABAAAAAABAAAIAAAAAAIAAAIAAAAAAQAABAAAAAABAAAKAAAAAAEAAAQAAAAAAQAAAAAAAAABAAACAAAAAAEAAAQAAAAAAQAABgAAAAABAAACAAAAAAEAAAYAAAAAAQAAAgAAAAACAAAEAAAAAAEAAAoAAAAAAQAABAAAAAABAAAAAAAAAAEAAAIAAAAAAQAACgAAAAABAAAEAAAAAAEAAAAAAAAAAQAAAgAAAAABAAAKAAAAAAEAAAQAAAAAAQAAAAAAAAABAAACAAAAAAEAAAoAAAAAAQAABAAAAAABAAAAAAAAAAEAAAIAAAAAAQAACgAAAAABAAAEAAAAAAEAAAAAAAAAAQAAAgAAAAABAAAKAAAAAAEAAAQAAAAAAQAAAAAAAAABAAACAAAAAAEAAAoAAAAAAQAABAAAAAABAAAAAAAAAAEAAAIAAAAAAQAACgAAAAABAAAEAAAAAAEAAAAAAAAAAQAAAgAAAAABAAAKAAAAAAEAAAQAAAAAAQAAAAAAAAABAAACAAAAAAEAAAoAAAAAAQAABAAAAAABAAAAAAAAAAEAAAIAAAAAAQAABAAAAAABAAAKAAAAAAEAAAQAAAAAAQAAAAAAAAABAAACAAAAAAEAAAoAAAAAAQAABAAAAAABAAAAAAAAAAEAAAIAAAAAAQAACgAAAAABAAAEAAAAAAEAAAAAAAAAAQAAAgAAAAABAAAKAAAAAAEAAAQAAAAAAQAAAAAAAAABAAACAAAAAAEAAAQAAAAAAQAACgAAAAABAAAEAAAAAAEAAAAAAAAAAQAAAgAAAAABAAAGAAAAAAEAAAIAAAAAAQAACgAAAAABAAAEAAAAAAEAAAAAAAAAAQAAAgAAAAABAAAKAAAAAAEAAAQAAAAAAQAAAAAAAAABAAACAAAAAAEAAAoAAAAAAQAABAAAAAABAAAAAAAAAAEAAAIAAAAAAQAACgAAAAABAAAEAAAAAAEAAAAAAAAAAQAAAgAAAAABAAAKAAAAAAEAAAQAAAAAAQAAAAAAAAABAAACAAAAAAEAAAoAAAAAAQAABAAAAAABAAAAAAAAAAEAAAIAAAAAAQAACgAAAAABAAAEAAAAAAEAAAAAAAAAAQAAAgAAAAABAAAKAAAAAAEAAAQAAAAAAQAAAAAAAAABAAACAAAAAAEAAAoAAAAAAQAABAAAAAABAAAAAAAAAAEAAAIAAAAAAQAACgAAAAABAAAEAAAAAAEAAAAAAAAAAQAAAgAAAAABAAAKAAAAAAEAAAQAAAAAAQAAAAAAAAABAAACAAAAAAEAAAoAAAAAAQAABAAAAAABAAAAAAAAAAEAAAIAAAAAAQAACgAAAAABAAAEAAAAAAEAAAAAAAAAAQAAAgAAAAABAAAKAAAAAAEAAAQAAAAAAQAAAAAAAAABAAACAAAAAAEAAAoAAAAAAQAABAAAAAABAAAAAAAAAAEAAAIAAAAAAQAACgAAAAABAAAEAAAAAAEAAAAAAAAAAQAAAgAAAAABAAAKAAAAAAEAAAQAAAAAAQAAAAAAAAABAAACAAAAAAEAAAoAAAAAAQAABAAAAAABAAAAAAAAAAEAAAIAAAAAAQAACgAAAAABAAAEAAAAAAEAAAAAAAAAAQAAAgAAAAABAAAKAAAAAAEAAAQAAAAAAQAAAAAAAAABAAACAAAAAAEAAAoAAAAAAQAABAAAAAABAAAAAAAAAAEAAAIAAAAAHHN0c2MAAAAAAAAAAQAAAAEAAADKAAAAAQAAAzxzdHN6AAAAAAAAAAAAAADKAAAFcAAAABcAAAAeAAAAHAAAABwAAAAfAAAAHQAAACQAAAAWAAAAEwAAAB4AAAAdAAAAIwAAABQAAAAbAAAAEgAAABQAAAAUAAAAFwAAABAAAAAUAAAAFAAAABYAAAAQAAAAFAAAABQAAAAWAAAAEAAAABQAAAAUAAAAHwAAABYAAAATAAAAHAAAACIAAAAUAAAAHAAAAB0AAAAcAAAAHAAAABUAAAASAAAAHQAAACEAAAAVAAAAEwAAABQAAAAeAAAAIQAAABQAAAAhAAAAFAAAABwAAAAdAAAAHAAAABIAAAAUAAAAFAAAABcAAAAYAAAAEwAAABQAAAAXAAAAFAAAABMAAAAUAAAAFwAAABAAAAAUAAAAFAAAABcAAAAQAAAAFAAAABQAAAAXAAAAEAAAABQAAAAUAAAAFwAAABAAAAAUAAAAFAAAABcAAAAQAAAAFAAAABQAAAAXAAAAEAAAABQAAAAUAAAAFgAAABAAAAAUAAAAFAAAAB0AAAAfAAAAFAAAABQAAAATAAAAFwAAABcAAAAUAAAAFAAAABcAAAAQAAAAFAAAABQAAAAWAAAAEAAAABQAAAAUAAAAHgAAACMAAAAUAAAAFAAAABMAAAAgAAAAFAAAABYAAAAQAAAAFAAAABQAAAAXAAAAEAAAABQAAAAUAAAAFwAAABAAAAAUAAAAFAAAABcAAAAQAAAAFAAAABQAAAAXAAAAGAAAABQAAAAUAAAAFwAAABAAAAAUAAAAFAAAABcAAAAQAAAAEwAAABQAAAAXAAAAEAAAABQAAAAUAAAAFwAAABAAAAAUAAAAFAAAABcAAAAQAAAAFAAAABQAAAAXAAAAEAAAABQAAAAUAAAAFwAAABAAAAAUAAAAEwAAABcAAAAQAAAAFAAAABQAAAAXAAAAEAAAABQAAAAUAAAAFwAAABAAAAAUAAAAFAAAABcAAAAQAAAAFAAAABQAAAAXAAAAEAAAABQAAAAUAAAAFwAAABAAAAAUAAAAFAAAABYAAAAQAAAAFAAAABQAAAAWAAAAEAAAABQAAAAUAAAAHgAAAC0AAAATAAAAJwAAABRzdGNvAAAAAAAAAAEAAAAwAAAAYnVkdGEAAABabWV0YQAAAAAAAAAhaGRscgAAAAAAAAAAbWRpcmFwcGwAAAAAAAAAAAAAAAAtaWxzdAAAACWpdG9vAAAAHWRhdGEAAAABAAAAAExhdmY1Ny41Ni4xMDE=\" type=\"video/mp4\" />\n",
       "             </video>"
      ],
      "text/plain": [
       "<IPython.core.display.HTML object>"
      ]
     },
     "execution_count": 28,
     "metadata": {},
     "output_type": "execute_result"
    }
   ],
   "source": [
    "agent.set_epsilon(0.1)\n",
    "test(agent,env,epochs_test,prefix='mimic_cnn_test_explore')\n",
    "HTML(display_videos('mimic_cnn_test_explore10.mp4'))"
   ]
  },
  {
   "cell_type": "markdown",
   "metadata": {},
   "source": [
    "***"
   ]
  }
 ],
 "metadata": {
  "kernelspec": {
   "display_name": "Python 3",
   "language": "python",
   "name": "python3"
  },
  "language_info": {
   "codemirror_mode": {
    "name": "ipython",
    "version": 3
   },
   "file_extension": ".py",
   "mimetype": "text/x-python",
   "name": "python",
   "nbconvert_exporter": "python",
   "pygments_lexer": "ipython3",
   "version": "3.5.3"
  }
 },
 "nbformat": 4,
 "nbformat_minor": 2
}
