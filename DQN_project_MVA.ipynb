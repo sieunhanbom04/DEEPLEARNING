{
 "cells": [
  {
   "cell_type": "markdown",
   "metadata": {},
   "source": [
    "**You may need to install [OpenCV](https://pypi.python.org/pypi/opencv-python) and [scikit-video](http://www.scikit-video.org/stable/).**"
   ]
  },
  {
   "cell_type": "code",
   "execution_count": 1,
   "metadata": {},
   "outputs": [
    {
     "data": {
      "text/plain": [
       "'\\nfrom tensorflow.keras.models import Sequential,model_from_json\\nfrom keras.layers.core import Dense\\nfrom keras.optimizers import sgd\\nfrom tensorflow.keras.layers import Conv2D, MaxPooling2D, Activation, AveragePooling2D,Reshape,BatchNormalization\\n'"
      ]
     },
     "execution_count": 1,
     "metadata": {},
     "output_type": "execute_result"
    }
   ],
   "source": [
    "#import keras\n",
    "import numpy as np\n",
    "import io\n",
    "import base64\n",
    "from IPython.display import HTML\n",
    "import skvideo.io\n",
    "import cv2\n",
    "import json\n",
    "import tensorflow as tf\n",
    "\n",
    "from tensorflow.keras.models import Sequential, model_from_json\n",
    "from tensorflow.keras.layers import Embedding, LSTM, Dense, Activation, Reshape, Conv2D, Flatten\n",
    "from tensorflow.keras.optimizers import SGD\n",
    "\"\"\"\n",
    "from tensorflow.keras.models import Sequential,model_from_json\n",
    "from keras.layers.core import Dense\n",
    "from keras.optimizers import sgd\n",
    "from tensorflow.keras.layers import Conv2D, MaxPooling2D, Activation, AveragePooling2D,Reshape,BatchNormalization\n",
    "\"\"\""
   ]
  },
  {
   "cell_type": "markdown",
   "metadata": {},
   "source": [
    "# MiniProject on Deep Reinforcement Learning"
   ]
  },
  {
   "cell_type": "markdown",
   "metadata": {},
   "source": [
    "__Notations__: $E_p$ is the expectation under probability $p$. Please justify each of your answer and widely comment your code."
   ]
  },
  {
   "cell_type": "markdown",
   "metadata": {},
   "source": [
    "# Context"
   ]
  },
  {
   "cell_type": "markdown",
   "metadata": {},
   "source": [
    "In a reinforcement learning algorithm, we modelize each step $t$ as an action $a_t$ obtained from a state $s_t$, i.e. $\\{(a_{t},s_{t})_{t\\leq T}\\}$ having the Markov property. We consider a discount factor $\\gamma \\in [0,1]$ that ensures convergence. The goal is to find among all the policies $\\pi$, one that maximizes the expected reward:\n",
    "\n",
    "\\begin{equation*}\n",
    "R(\\pi)=\\sum_{t\\leq T}E_{p^{\\pi}}[\\gamma^t r(s_{t},a_{t})] \\> ,\n",
    "\\end{equation*}\n",
    "\n",
    "where: \n",
    "\\begin{equation*}p^{\\pi}(a_{0},a_{1},s_{1},...,a_{T},s_{T})=p(a_{0})\\prod_{t=1}^{T}\\pi(a_{t}|s_{t})p(s_{t+1}|s_{t},a_{t}) \\> .\n",
    "\\end{equation*}\n",
    "\n",
    "We note the $Q$-function:\n",
    "\n",
    "\\begin{equation*}Q^\\pi(s,a)=E_{p^{\\pi}}[\\sum_{t\\leq T}\\gamma^{t}r(s_{t},a_{t})|s_{0}=s,a_{0}=a] \\> .\n",
    "\\end{equation*}\n",
    "\n",
    "Thus, the optimal Q function is:\n",
    "\\begin{equation*}\n",
    "Q^*(s,a)=\\max_{\\pi}Q^\\pi(s,a) \\> .\n",
    "\\end{equation*}\n",
    "\n",
    "In this project, we will apply the deep reinforcement learning techniques to a simple game: an agent will have to learn from scratch a policy that will permit it maximizing a reward."
   ]
  },
  {
   "cell_type": "markdown",
   "metadata": {},
   "source": [
    "## The environment, the agent and the game"
   ]
  },
  {
   "cell_type": "markdown",
   "metadata": {},
   "source": [
    "### The environment"
   ]
  },
  {
   "cell_type": "markdown",
   "metadata": {},
   "source": [
    "```Environment``` is an abstract class that represents the states, rewards, and actions to obtain the new state."
   ]
  },
  {
   "cell_type": "code",
   "execution_count": 2,
   "metadata": {},
   "outputs": [],
   "source": [
    "class Environment(object):\n",
    "    def __init__(self):\n",
    "        pass\n",
    "\n",
    "    def act(self, act):\n",
    "        \"\"\"\n",
    "        One can act on the environment and obtain its reaction:\n",
    "        - the new state\n",
    "        - the reward of the new state\n",
    "        - should we continue the game?\n",
    "\n",
    "        :return: state, reward, game_over\n",
    "        \"\"\"\n",
    "        pass\n",
    "\n",
    "\n",
    "    def reset(self):\n",
    "        \"\"\"\n",
    "        Reinitialize the environment to a random state and returns\n",
    "        the original state\n",
    "\n",
    "        :return: state\n",
    "        \"\"\"\n",
    "        pass\n",
    "    \n",
    "    def draw(self):\n",
    "        \"\"\"\n",
    "        Visualize in the console or graphically the current state\n",
    "        \"\"\"\n",
    "        pass"
   ]
  },
  {
   "cell_type": "markdown",
   "metadata": {},
   "source": [
    "The method ```act``` allows to act on the environment at a given state $s_t$ (stored internally), via action $a_t$. The method will return the new state $s_{t+1}$, the reward $r(s_{t},a_{t})$ and determines if $t\\leq T$ (*game_over*).\n",
    "\n",
    "The method ```reset``` simply reinitializes the environment to a random state $s_0$.\n",
    "\n",
    "The method ```draw``` displays the current state $s_t$ (this is useful to check the behavior of the Agent).\n",
    "\n",
    "We modelize $s_t$ as a tensor, while $a_t$ is an integer."
   ]
  },
  {
   "cell_type": "markdown",
   "metadata": {},
   "source": [
    "### The Agent"
   ]
  },
  {
   "cell_type": "markdown",
   "metadata": {},
   "source": [
    "The goal of the ```Agent``` is to interact with the ```Environment``` by proposing actions $a_t$ obtained from a given state $s_t$ to attempt to maximize its __reward__ $r(s_t,a_t)$. We propose the following abstract class:"
   ]
  },
  {
   "cell_type": "code",
   "execution_count": 3,
   "metadata": {},
   "outputs": [],
   "source": [
    "class Agent(object):\n",
    "    def __init__(self, epsilon=0.1, n_action=4):\n",
    "        self.epsilon = epsilon\n",
    "        self.n_action = n_action\n",
    "    \n",
    "    def set_epsilon(self,e):\n",
    "        self.epsilon = e\n",
    "\n",
    "    def act(self,s,train=True):\n",
    "        \"\"\" This function should return the next action to do:\n",
    "        an integer between 0 and 4 (not included) with a random exploration of epsilon\"\"\"\n",
    "        if train:\n",
    "            if np.random.rand() <= self.epsilon:\n",
    "                a = np.random.randint(0, self.n_action, size=1)[0]\n",
    "            else:\n",
    "                a = self.learned_act(s)\n",
    "        else: # in some cases, this can improve the performance.. remove it if poor performances\n",
    "            a = self.learned_act(s)\n",
    "\n",
    "        return a\n",
    "\n",
    "    def learned_act(self,s):\n",
    "        \"\"\" Act via the policy of the agent, from a given state s\n",
    "        it proposes an action a\"\"\"\n",
    "        pass\n",
    "\n",
    "    def reinforce(self, s, n_s, a, r, game_over_):\n",
    "        \"\"\" This function is the core of the learning algorithm. \n",
    "        It takes as an input the current state s_, the next state n_s_\n",
    "        the action a_ used to move from s_ to n_s_ and the reward r_.\n",
    "        \n",
    "        Its goal is to learn a policy.\n",
    "        \"\"\"\n",
    "        pass\n",
    "\n",
    "    def save(self):\n",
    "        \"\"\" This function returns basic stats if applicable: the\n",
    "        loss and/or the model\"\"\"\n",
    "        pass\n",
    "\n",
    "    def load(self):\n",
    "        \"\"\" This function allows to restore a model\"\"\"\n",
    "        pass"
   ]
  },
  {
   "cell_type": "markdown",
   "metadata": {},
   "source": [
    "***\n",
    "__Question 1__:\n",
    "Explain the function act. Why is ```epsilon``` essential?"
   ]
  },
  {
   "cell_type": "markdown",
   "metadata": {},
   "source": [
    "1) Function __act__ is to decide the action to take when receiving a configuration from the environment. Indeed, __act__ behaves differently according to the phase:\n",
    "\n",
    "- During the training process, __act__ returns a uniformly random action with probability $\\epsilon$ and the best action (with respect to the current $Q$ function) with probability $1 - \\epsilon$.\n",
    "\n",
    "- During the testing time, __act__ always returns the best action w.r.t its current $Q$ estimation.\n",
    "\n",
    "2) $\\epsilon$ is important since it controls the exploration-exploitation tradeoff. If $\\epsilon$ is too small, the algorithm will not explore enough and converge to suboptimal solution. On the other hand, it is be hard for the algorithm to converge with too large $\\epsilon$.   "
   ]
  },
  {
   "cell_type": "markdown",
   "metadata": {},
   "source": [
    "***\n",
    "### The Game"
   ]
  },
  {
   "cell_type": "markdown",
   "metadata": {},
   "source": [
    "The ```Agent``` and the ```Environment``` work in an interlaced way as in the following (take some time to understand this code as it is the core of the project)\n",
    "\n",
    "```python\n",
    "\n",
    "epoch = 300\n",
    "env = Environment()\n",
    "agent = Agent()\n",
    "\n",
    "\n",
    "# Number of won games\n",
    "score = 0\n",
    "loss = 0\n",
    "\n",
    "\n",
    "for e in range(epoch):\n",
    "    # At each epoch, we restart to a fresh game and get the initial state\n",
    "    state = env.reset()\n",
    "    # This assumes that the games will end\n",
    "    game_over = False\n",
    "\n",
    "    win = 0\n",
    "    lose = 0\n",
    "    \n",
    "    while not game_over:\n",
    "        # The agent performs an action\n",
    "        action = agent.act(state)\n",
    "\n",
    "        # Apply an action to the environment, get the next state, the reward\n",
    "        # and if the games end\n",
    "        prev_state = state\n",
    "        state, reward, game_over = env.act(action)\n",
    "\n",
    "        # Update the counters\n",
    "        if reward > 0:\n",
    "            win = win + reward\n",
    "        if reward < 0:\n",
    "            lose = lose -reward\n",
    "\n",
    "        # Apply the reinforcement strategy\n",
    "        loss = agent.reinforce(prev_state, state,  action, reward, game_over)\n",
    "\n",
    "    # Save as a mp4\n",
    "    if e % 10 == 0:\n",
    "        env.draw(e)\n",
    "\n",
    "    # Update stats\n",
    "    score += win-lose\n",
    "\n",
    "    print(\"Epoch {:03d}/{:03d} | Loss {:.4f} | Win/lose count {}/{} ({})\"\n",
    "          .format(e, epoch, loss, win, lose, win-lose))\n",
    "    agent.save()\n",
    "```"
   ]
  },
  {
   "cell_type": "markdown",
   "metadata": {},
   "source": [
    "# The game, *eat cheese*"
   ]
  },
  {
   "cell_type": "markdown",
   "metadata": {},
   "source": [
    "A rat runs on an island and tries to eat as much as possible. The island is subdivided into $N\\times N$ cells, in which there are cheese (+0.5) and poisonous cells (-1). The rat has a visibility of 2 cells (thus it can see $5^2$ cells). The rat is given a time $T$ to accumulate as much food as possible. It can perform 4 actions: going up, down, left, right. \n",
    "\n",
    "The goal is to code an agent to solve this task that will learn by trial and error. We propose the following environment:"
   ]
  },
  {
   "cell_type": "code",
   "execution_count": 4,
   "metadata": {},
   "outputs": [],
   "source": [
    "class Environment(object):\n",
    "    def __init__(self, grid_size=10, max_time=500, temperature=0.1):\n",
    "        grid_size = grid_size+4\n",
    "        self.grid_size = grid_size\n",
    "        self.max_time = max_time\n",
    "        self.temperature = temperature\n",
    "\n",
    "        #board on which one plays\n",
    "        self.board = np.zeros((grid_size,grid_size))\n",
    "        self.position = np.zeros((grid_size,grid_size))\n",
    "\n",
    "        # coordinate of the cat\n",
    "        self.x = 0\n",
    "        self.y = 1\n",
    "\n",
    "        # self time\n",
    "        self.t = 0\n",
    "\n",
    "        self.scale=16\n",
    "\n",
    "        self.to_draw = np.zeros((max_time+2, grid_size*self.scale, grid_size*self.scale, 3))\n",
    "\n",
    "\n",
    "    def draw(self,e):\n",
    "        skvideo.io.vwrite(str(e) + '.mp4', self.to_draw)\n",
    "\n",
    "    def get_frame(self,t):\n",
    "        b = np.zeros((self.grid_size,self.grid_size,3))+128\n",
    "        b[self.board>0,0] = 256\n",
    "        b[self.board < 0, 2] = 256\n",
    "        b[self.x,self.y,:]=256\n",
    "        b[-2:,:,:]=0\n",
    "        b[:,-2:,:]=0\n",
    "        b[:2,:,:]=0\n",
    "        b[:,:2,:]=0\n",
    "        \n",
    "        b =  cv2.resize(b, None, fx=self.scale, fy=self.scale, interpolation=cv2.INTER_NEAREST)\n",
    "\n",
    "        self.to_draw[t,:,:,:]=b\n",
    "\n",
    "\n",
    "    def act(self, action):\n",
    "        \"\"\"This function returns the new state, reward and decides if the\n",
    "        game ends.\"\"\"\n",
    "\n",
    "        self.get_frame(int(self.t))\n",
    "\n",
    "        self.position = np.zeros((self.grid_size, self.grid_size))\n",
    "\n",
    "        self.position[0:2,:]= -1\n",
    "        self.position[:,0:2] = -1\n",
    "        self.position[-2:, :] = -1\n",
    "        self.position[:, -2:] = -1\n",
    "\n",
    "        self.position[self.x, self.y] = 1\n",
    "        if action == 0:\n",
    "            if self.x == self.grid_size-3:\n",
    "                self.x = self.x-1\n",
    "            else:\n",
    "                self.x = self.x + 1\n",
    "        elif action == 1:\n",
    "            if self.x == 2:\n",
    "                self.x = self.x+1\n",
    "            else:\n",
    "                self.x = self.x-1\n",
    "        elif action == 2:\n",
    "            if self.y == self.grid_size - 3:\n",
    "                self.y = self.y - 1\n",
    "            else:\n",
    "                self.y = self.y + 1\n",
    "        elif action == 3:\n",
    "            if self.y == 2:\n",
    "                self.y = self.y + 1\n",
    "            else:\n",
    "                self.y = self.y - 1\n",
    "        else:\n",
    "            RuntimeError('Error: action not recognized')\n",
    "\n",
    "        self.t = self.t + 1\n",
    "        reward = self.board[self.x, self.y]\n",
    "        self.board[self.x, self.y] = 0\n",
    "        game_over = self.t > self.max_time\n",
    "        state = np.concatenate((self.board.reshape(self.grid_size, self.grid_size,1),\n",
    "                        self.position.reshape(self.grid_size, self.grid_size,1)),axis=2)\n",
    "        state = state[self.x-2:self.x+3,self.y-2:self.y+3,:]\n",
    "\n",
    "        return state, reward, game_over\n",
    "\n",
    "    def reset(self):\n",
    "        \"\"\"This function resets the game and returns the initial state\"\"\"\n",
    "\n",
    "        self.x = np.random.randint(3, self.grid_size-3, size=1)[0]\n",
    "        self.y = np.random.randint(3, self.grid_size-3, size=1)[0]\n",
    "\n",
    "\n",
    "        bonus = 0.5*np.random.binomial(1,self.temperature,size=self.grid_size**2)\n",
    "        bonus = bonus.reshape(self.grid_size,self.grid_size)\n",
    "\n",
    "        malus = -1.0*np.random.binomial(1,self.temperature,size=self.grid_size**2)\n",
    "        malus = malus.reshape(self.grid_size, self.grid_size)\n",
    "\n",
    "        self.to_draw = np.zeros((self.max_time+2, self.grid_size*self.scale, self.grid_size*self.scale, 3))\n",
    "\n",
    "\n",
    "        malus[bonus>0]=0\n",
    "\n",
    "        self.board = bonus + malus\n",
    "\n",
    "        self.position = np.zeros((self.grid_size, self.grid_size))\n",
    "        self.position[0:2,:]= -1\n",
    "        self.position[:,0:2] = -1\n",
    "        self.position[-2:, :] = -1\n",
    "        self.position[:, -2:] = -1\n",
    "        self.board[self.x,self.y] = 0\n",
    "        self.t = 0\n",
    "\n",
    "        state = np.concatenate((\n",
    "                               self.board.reshape(self.grid_size, self.grid_size,1),\n",
    "                        self.position.reshape(self.grid_size, self.grid_size,1)),axis=2)\n",
    "\n",
    "        state = state[self.x - 2:self.x + 3, self.y - 2:self.y + 3, :]\n",
    "        return state"
   ]
  },
  {
   "cell_type": "markdown",
   "metadata": {},
   "source": [
    "The following elements are important because they correspond to the hyper parameters for this project:"
   ]
  },
  {
   "cell_type": "code",
   "execution_count": 12,
   "metadata": {},
   "outputs": [],
   "source": [
    "# parameters\n",
    "size = 13\n",
    "T=200\n",
    "temperature=0.3\n",
    "epochs_train=21 # set small when debugging\n",
    "epochs_test=11 # set small when debugging\n",
    "\n",
    "# display videos\n",
    "def display_videos(name):\n",
    "    video = io.open(name, 'r+b').read()\n",
    "    encoded = base64.b64encode(video)\n",
    "    return '''<video alt=\"test\" controls>\n",
    "                <source src=\"data:video/mp4;base64,{}\" type=\"video/mp4\" />\n",
    "             </video>'''.format(encoded.decode('ascii'))"
   ]
  },
  {
   "cell_type": "markdown",
   "metadata": {},
   "source": [
    "__Question 2__ Explain the use of the arrays ```position``` and ```board```."
   ]
  },
  {
   "cell_type": "markdown",
   "metadata": {},
   "source": [
    "1) Array __position__ is used to store the positions and the boundary of playing field: the value of a cell is $-1$ if it is not in the playing field, $1$ if it is the current position of the rat and $0$ otherwise.\n",
    "\n",
    "2) Array __board__ is used to store the the positions of the cheese (of value $0.5$) and poisonous cells (of value $-1$). Once those cells are visited, the value will be set $0$ (which means they become normal cells)."
   ]
  },
  {
   "cell_type": "markdown",
   "metadata": {},
   "source": [
    "## Random Agent"
   ]
  },
  {
   "cell_type": "markdown",
   "metadata": {},
   "source": [
    "***\n",
    "__Question 3__ Implement a random Agent (only ```learned_act``` needs to be implemented):"
   ]
  },
  {
   "cell_type": "code",
   "execution_count": 6,
   "metadata": {},
   "outputs": [],
   "source": [
    "class RandomAgent(Agent):\n",
    "    def __init__(self):\n",
    "        super(RandomAgent, self).__init__()\n",
    "        pass\n",
    "\n",
    "    def learned_act(self, s):\n",
    "        #return uniformly 4 possible actions\n",
    "        return np.random.randint(0, self.n_action, size=1)[0]"
   ]
  },
  {
   "cell_type": "markdown",
   "metadata": {},
   "source": [
    "***\n",
    "***\n",
    "__Question 4__ Visualize the game moves. You need to fill in the following function for the evaluation:"
   ]
  },
  {
   "cell_type": "code",
   "execution_count": 7,
   "metadata": {},
   "outputs": [],
   "source": [
    "def test(agent,env,epochs,prefix=''):\n",
    "    # Number of won games\n",
    "    score = 0\n",
    "        \n",
    "    for e in range(epochs):\n",
    "        \n",
    "        ##### FILL IN HERE\n",
    "        state = env.reset()\n",
    "        # This assumes that the games will end\n",
    "        game_over = False\n",
    "\n",
    "        win = 0\n",
    "        lose = 0\n",
    "        while not game_over:\n",
    "            # The agent performs an action\n",
    "            action = agent.act(state) #I still keep small epsilon random action to have a better performance\n",
    "\n",
    "            # Apply an action to the environment, get the next state, the reward\n",
    "            # and if the games end\n",
    "            prev_state = state\n",
    "            state, reward, game_over = env.act(action)\n",
    "\n",
    "            # Update the counters\n",
    "            if reward > 0:\n",
    "                win = win + reward\n",
    "            if reward < 0:\n",
    "                lose = lose -reward\n",
    "\n",
    "        # Save as a mp4\n",
    "        if e == epochs - 1:\n",
    "            env.draw(prefix+str(e))\n",
    "\n",
    "        # Update stats\n",
    "        score = score + win-lose\n",
    "\n",
    "        print(\"Win/lose count {}/{}. Average score ({})\"\n",
    "              .format(win, lose, score/(1+e)))\n",
    "    print('Final score: '+str(score/epochs))"
   ]
  },
  {
   "cell_type": "code",
   "execution_count": 8,
   "metadata": {},
   "outputs": [
    {
     "name": "stdout",
     "output_type": "stream",
     "text": [
      "Win/lose count 12.5/11.0. Average score (1.5)\n",
      "Final score: 1.5\n"
     ]
    },
    {
     "data": {
      "text/html": [
       "<video alt=\"test\" controls>\n",
       "                <source src=\"data:video/mp4;base64,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\" type=\"video/mp4\" />\n",
       "             </video>"
      ],
      "text/plain": [
       "<IPython.core.display.HTML object>"
      ]
     },
     "execution_count": 8,
     "metadata": {},
     "output_type": "execute_result"
    }
   ],
   "source": [
    "# Initialize the game\n",
    "env = Environment(grid_size=size, max_time=T,temperature=temperature)\n",
    "\n",
    "# Initialize the agent!\n",
    "agent = RandomAgent()\n",
    "\n",
    "test(agent,env,epochs_test,prefix='random')\n",
    "HTML(data = display_videos('random0.mp4'))"
   ]
  },
  {
   "cell_type": "markdown",
   "metadata": {},
   "source": [
    "***\n",
    "## DQN"
   ]
  },
  {
   "cell_type": "markdown",
   "metadata": {},
   "source": [
    "Let us assume here that $T=\\infty$.\n",
    "\n",
    "***\n",
    "__Question 5__ Let $\\pi$ be a policy, show that:\n",
    "\n",
    "\\begin{equation*}\n",
    "Q^{\\pi}(s,a)=E_{(s',a')\\sim p(.|s,a)}[r(s,a)+\\gamma Q^{\\pi}(s',a')]\n",
    "\\end{equation*}\n",
    "\n",
    "Then, show that for the optimal policy $\\pi^*$ (we assume its existence), the following holds: \n",
    "\n",
    "\\begin{equation*}\n",
    "Q^{*}(s,a)=E_{s'\\sim \\pi^*(.|s,a)}[r(s,a)+\\gamma\\max_{a'}Q^{*}(s',a')].\n",
    "\\end{equation*}\n",
    "Finally, deduce that a plausible objective is:\n",
    "\n",
    "\\begin{equation*}\n",
    "\\mathcal{L}(\\theta)=E_{s' \\sim \\pi^*(.|s,a)}\\Vert r+\\gamma\\max_{a'}Q(s',a',\\theta)-Q(s,a,\\theta)\\Vert^{2}.\n",
    "\\end{equation*}\n",
    "\n",
    "\n"
   ]
  },
  {
   "cell_type": "markdown",
   "metadata": {},
   "source": [
    "1) Proof of the first statement (Bellman equation)\n",
    "\n",
    "\\begin{equation*}\n",
    "\\begin{aligned}\n",
    "Q^\\pi(s,a) & = E_{p^{\\pi}}[\\sum_{t\\leq T}\\gamma^{t}r(s_{t},a_{t})|s_{0}=s,a_{0}=a] \\\\\n",
    "& = r(s,a) + \\sum_{s',a'} P(s',a'|s,a) E_{p^{\\pi}}[\\sum_{t\\leq T}\\gamma^{t}r(s_{t},a_{t})|s_{0}=s',a_{0}=a'] \\\\\n",
    "& = r(s,a) + \\sum_{s',a'} P(s',a'|s,a) Q(s',a') \\\\\n",
    "& = E_{(s',a')\\sim p(.|s,a)}[r(s,a)+\\gamma Q^{\\pi}(s',a')]\n",
    "\\end{aligned}\n",
    "\\end{equation*}\n",
    "\n",
    "2) Proof of the second statement (Bellman optimal equation): Suppose there exists $Q^*$ optimal. We have:\n",
    "\n",
    "We define $\\mathcal{T}^{\\pi}Q(s, a) = r(s,a) + \\gamma \\sum_{s',a'} P_{\\pi}(s',a'|s,a) Q(s',a')$. It is a vector operation. It is easy to see that $\\mathcal{T}$ is monotone, contraction to norm infinity ($\\|\\mathcal{T}^{\\pi}Q_1 - \\mathcal{T}^{\\pi}Q_2\\|_{\\infty} \\leq \\gamma \\|Q_1 - Q_2\\|_{\\infty} < \\|Q_1 - Q_2\\|_{\\infty}$) and thus, have only one fixed point $Q^{\\pi}$ (thanks to question $1$). That implies if we apply multiple times $\\mathcal{T}^{\\pi}$ to any $Q_0$, the value converges to $Q^{\\pi}$.  \n",
    "\n",
    "\\begin{equation*}\n",
    "\\lim_{k \\rightarrow \\infty}(\\mathcal{T}^{\\pi})^k(Q_0) = Q^{\\pi}\n",
    "\\end{equation*}\n",
    "\n",
    "From the first question:\n",
    "\n",
    "\\begin{equation*}\n",
    "\\begin{aligned}\n",
    "Q^{*}(s,a)=E_{(s',a')\\sim p(.|s,a)}[r(s,a)+\\gamma Q^{*}(s',a')] \\leq E_{(s',a')\\sim p(.|s,a)}[r(s,a)+\\gamma\\max_{a'} Q^{*}(s',a')]\n",
    "\\end{aligned}\n",
    "\\end{equation*}\n",
    "\n",
    "Moreover, if there exists $s,a$ such that $Q^{*}(s,a) < E_{(s',a')\\sim p(.|s,a)}[r(s,a)+\\gamma\\max_{a'} Q^{*}(s',a')]$, we could define a new policy $\\pi'(s) = \\underset{a'}{\\operatorname{argmax}} Q^{*}(s,a)$.\n",
    "\n",
    "Therefore, if $Q^{*}(s,a) < E_{(s',a')\\sim p(.|s,a)}[r(s,a)+\\gamma\\max_{a'} Q^{*}(s',a')]$, by the monotonicity, \n",
    "\n",
    "\\begin{equation*}\n",
    "Q^* < \\mathcal{T}^{\\pi'}(Q^*) < \\mathcal{T}^{\\pi'}(\\mathcal{T}^{\\pi'}(Q^*)) < \\ldots < \\lim_{k \\rightarrow \\infty}(\\mathcal{T}^{\\pi'})^k(Q_0) = Q^{\\pi'}\n",
    "\\end{equation*}\n",
    "\n",
    "which contradicts the assumption of the optimality of $Q^*$. Therefore,\n",
    "\n",
    "$$Q^{*}(s,a) = E_{(s',a')\\sim p(.|s,a)}[r(s,a)+\\gamma\\max_{a'} Q^{*}(s',a')]$$\n",
    "\n",
    "3) With the loss $E_{s' \\sim \\pi^*(.|s,a)}\\Vert r+\\gamma\\max_{a'}Q(s',a',\\theta)-Q(s,a,\\theta)\\Vert^{2}$, the close form of the solution is:\n",
    "\n",
    "$$Q^{*}(s,a) = E_{(s',a')\\sim p(.|s,a)}[r(s,a)+\\gamma\\max_{a'} Q^{*}(s',a')]$$\n",
    "\n",
    "which is exactly the optimal condition. "
   ]
  },
  {
   "cell_type": "markdown",
   "metadata": {},
   "source": [
    "***\n",
    "The DQN-learning algorithm relies on these derivations to train the parameters $\\theta$ of a Deep Neural Network:\n",
    "\n",
    "1. At the state $s_t$, select the action $a_t$ with best reward using $Q_t$ and store the results;\n",
    "\n",
    "2. Obtain the new state $s_{t+1}$ from the environment $p$;\n",
    "\n",
    "3. Store $(s_t,a_t,s_{t+1})$;\n",
    "\n",
    "4. Obtain $Q_{t+1}$ by minimizing  $\\mathcal{L}$ from a recovered batch from the previously stored results.\n",
    "\n",
    "***\n",
    "__Question 6__ Implement the class ```Memory``` that stores moves (in a replay buffer) via ```remember``` and provides a ```random_access``` to these. Specify a maximum memory size to avoid side effects. You can for example use a ```list()``` and set by default ```max_memory=100```."
   ]
  },
  {
   "cell_type": "code",
   "execution_count": 9,
   "metadata": {},
   "outputs": [],
   "source": [
    "class Memory(object):\n",
    "    def __init__(self, max_memory=100):\n",
    "        self.max_memory = max_memory\n",
    "        self.memory = list()\n",
    "\n",
    "    def remember(self, m):\n",
    "        if len(self.memory) >= self.max_memory:\n",
    "            del self.memory[0]\n",
    "        self.memory.append(m)\n",
    "\n",
    "    def random_access(self):\n",
    "        return self.memory[np.random.randint(len(self.memory))]"
   ]
  },
  {
   "cell_type": "markdown",
   "metadata": {},
   "source": [
    "***\n",
    "The pipeline we will use for training is given below:"
   ]
  },
  {
   "cell_type": "code",
   "execution_count": 10,
   "metadata": {},
   "outputs": [],
   "source": [
    "def train(agent,env,epoch,prefix=''):\n",
    "    # Number of won games\n",
    "    score = 0\n",
    "    loss = 0\n",
    "\n",
    "    for e in range(epoch):\n",
    "        # At each epoch, we restart to a fresh game and get the initial state\n",
    "        state = env.reset()\n",
    "        # This assumes that the games will terminate\n",
    "        game_over = False\n",
    "\n",
    "        win = 0\n",
    "        lose = 0\n",
    "\n",
    "        while not game_over:\n",
    "            # The agent performs an action\n",
    "            action = agent.act(state)\n",
    "            \n",
    "            # Apply an action to the environment, get the next state, the reward\n",
    "            # and if the games end\n",
    "            prev_state = state\n",
    "            state, reward, game_over = env.act(action)\n",
    "\n",
    "            # Update the counters\n",
    "            if reward > 0:\n",
    "                win = win + reward\n",
    "            if reward < 0:\n",
    "                lose = lose - reward\n",
    "\n",
    "            # Apply the reinforcement strategy\n",
    "            loss = agent.reinforce(prev_state, state,  action, reward, game_over)\n",
    "\n",
    "        # Save as a mp4\n",
    "        if e % 10 == 0:\n",
    "            env.draw(prefix+str(e))\n",
    "\n",
    "        # Update stats\n",
    "        score += win-lose\n",
    "\n",
    "        print(\"Epoch {:03d}/{:03d} | Loss {:.4f} | Win/lose count {}/{} ({})\"\n",
    "              .format(e, epoch, loss, win, lose, win-lose))\n",
    "        agent.save(name_weights=prefix+'model.h5',name_model=prefix+'model.json')"
   ]
  },
  {
   "cell_type": "markdown",
   "metadata": {},
   "source": [
    "***\n",
    "__Question 7__ Implement the DQN training algorithm using a cascade of fully connected layers. You can use different learning rate, batch size or memory size parameters. In particular, the loss might oscillate while the player will start to win the games. You have to find a good criterium."
   ]
  },
  {
   "cell_type": "code",
   "execution_count": 11,
   "metadata": {},
   "outputs": [],
   "source": [
    "class DQN(Agent):\n",
    "    def __init__(self, grid_size,  epsilon = 0.1, memory_size=100, batch_size = 16,n_state=2):\n",
    "        super(DQN, self).__init__(epsilon = epsilon)\n",
    "\n",
    "        # Discount for Q learning\n",
    "        self.discount = 0.99\n",
    "        \n",
    "        self.grid_size = grid_size\n",
    "        \n",
    "        # number of state\n",
    "        self.n_state = n_state\n",
    "\n",
    "        # Memory\n",
    "        self.memory = Memory(memory_size)\n",
    "        \n",
    "        # Batch size when learning\n",
    "        self.batch_size = batch_size\n",
    "\n",
    "    def learned_act(self, s):\n",
    "        return np.argmax(self.model(s[None,:])[0])\n",
    "\n",
    "    def reinforce(self, s_, n_s_, a_, r_, game_over_):\n",
    "        # Two steps: first memorize the states, second learn from the pool\n",
    "\n",
    "        self.memory.remember([s_, n_s_, a_, r_, game_over_])\n",
    "        \n",
    "        \"\"\"\n",
    "        input_states: (batch_size x 5 x 5 x state) The input of the network, configuration from the environment \n",
    "        target_q: (batch_size x 4) The expected target value corresponding to the input_states\n",
    "        \"\"\"\n",
    "        input_states = np.zeros((self.batch_size, 5,5,self.n_state))\n",
    "        target_q = np.zeros((self.batch_size, 4))\n",
    "        \n",
    "        for i in range(self.batch_size):\n",
    "            ######## FILL IN\n",
    "            s_, n_s_, a_, r_, game_over_ = self.memory.random_access() #randomly choose an instance in reply experience\n",
    "            input_states[i] = s_  #Saving the state\n",
    "            target_q[i] = self.model(s_[None,:])[0] #Evaluate for all actions\n",
    "            if game_over_:\n",
    "                next_Q = 0\n",
    "            else:\n",
    "                next_Q = np.max(target_q[i])\n",
    "\n",
    "            target_q[i][a_] = r_ + self.discount * next_Q #Change the used action\n",
    "            \n",
    "        ######## FILL IN\n",
    "        # HINT: Clip the target to avoid exploiding gradients.. -- clipping is a bit tighter\n",
    "        target_q = np.clip(target_q, -3, 3)\n",
    "        l = self.model.train_on_batch(input_states, target_q)\n",
    "\n",
    "\n",
    "        return l\n",
    "\n",
    "    def save(self,name_weights='model.h5',name_model='model.json'):\n",
    "        self.model.save_weights(name_weights, overwrite=True)\n",
    "        with open(name_model, \"w\") as outfile:\n",
    "            json.dump(self.model.to_json(), outfile)\n",
    "            \n",
    "    def load(self,name_weights='model.h5',name_model='model.json'):\n",
    "        with open(name_model, \"r\") as jfile:\n",
    "            model = model_from_json(json.load(jfile))\n",
    "        model.load_weights(name_weights)\n",
    "        model.compile(\"sgd\", \"mse\")\n",
    "        self.model = model\n",
    "            \n",
    "class DQN_FC(DQN):\n",
    "    def __init__(self, *args, lr=0.1,**kwargs):\n",
    "        super(DQN_FC, self).__init__( *args,**kwargs)\n",
    "        \n",
    "        # NN Model\n",
    "        \n",
    "        ####### FILL IN\n",
    "        model = Sequential()\n",
    "        model.add(Reshape((50,), input_shape = (5,5,2,)))\n",
    "        model.add(Dense(50, activation='relu'))\n",
    "        model.add(Dense(50, activation='relu'))\n",
    "        model.add(Dense(4))\n",
    "        \n",
    "        model.compile(SGD(lr=lr, decay=1e-4, momentum=0.0), \"mse\")\n",
    "        self.model = model\n",
    "        print(model.summary())"
   ]
  },
  {
   "cell_type": "code",
   "execution_count": 13,
   "metadata": {},
   "outputs": [
    {
     "name": "stdout",
     "output_type": "stream",
     "text": [
      "Model: \"sequential\"\n",
      "_________________________________________________________________\n",
      "Layer (type)                 Output Shape              Param #   \n",
      "=================================================================\n",
      "reshape (Reshape)            (None, 50)                0         \n",
      "_________________________________________________________________\n",
      "dense (Dense)                (None, 50)                2550      \n",
      "_________________________________________________________________\n",
      "dense_1 (Dense)              (None, 50)                2550      \n",
      "_________________________________________________________________\n",
      "dense_2 (Dense)              (None, 4)                 204       \n",
      "=================================================================\n",
      "Total params: 5,304\n",
      "Trainable params: 5,304\n",
      "Non-trainable params: 0\n",
      "_________________________________________________________________\n",
      "None\n",
      "WARNING:tensorflow:Layer reshape is casting an input tensor from dtype float64 to the layer's dtype of float32, which is new behavior in TensorFlow 2.  The layer has dtype float32 because it's dtype defaults to floatx.\n",
      "\n",
      "If you intended to run this layer in float32, you can safely ignore this warning. If in doubt, this warning is likely only an issue if you are porting a TensorFlow 1.X model to TensorFlow 2.\n",
      "\n",
      "To change all layers to have dtype float64 by default, call `tf.keras.backend.set_floatx('float64')`. To change just this layer, pass dtype='float64' to the layer constructor. If you are the author of this layer, you can disable autocasting by passing autocast=False to the base Layer constructor.\n",
      "\n",
      "Epoch 000/021 | Loss 0.0261 | Win/lose count 2.0/10.0 (-8.0)\n",
      "Epoch 001/021 | Loss 0.0138 | Win/lose count 3.5/3.0 (0.5)\n",
      "Epoch 002/021 | Loss 0.0109 | Win/lose count 3.0/3.0 (0.0)\n",
      "Epoch 003/021 | Loss 0.0234 | Win/lose count 3.5/8.0 (-4.5)\n",
      "Epoch 004/021 | Loss 0.0178 | Win/lose count 5.0/4.0 (1.0)\n",
      "Epoch 005/021 | Loss 0.0202 | Win/lose count 6.0/2.0 (4.0)\n",
      "Epoch 006/021 | Loss 0.0082 | Win/lose count 3.0/3.0 (0.0)\n",
      "Epoch 007/021 | Loss 0.0367 | Win/lose count 2.0/4.0 (-2.0)\n",
      "Epoch 008/021 | Loss 0.0161 | Win/lose count 7.5/16.0 (-8.5)\n",
      "Epoch 009/021 | Loss 0.0052 | Win/lose count 6.0/9.0 (-3.0)\n",
      "Epoch 010/021 | Loss 0.0140 | Win/lose count 4.0/2.0 (2.0)\n",
      "Epoch 011/021 | Loss 0.0119 | Win/lose count 4.5/8.0 (-3.5)\n",
      "Epoch 012/021 | Loss 0.0119 | Win/lose count 4.0/5.0 (-1.0)\n",
      "Epoch 013/021 | Loss 0.0103 | Win/lose count 4.0/8.0 (-4.0)\n",
      "Epoch 014/021 | Loss 0.0092 | Win/lose count 8.0/7.0 (1.0)\n",
      "Epoch 015/021 | Loss 0.0142 | Win/lose count 2.5/3.0 (-0.5)\n",
      "Epoch 016/021 | Loss 0.0350 | Win/lose count 5.5/4.0 (1.5)\n",
      "Epoch 017/021 | Loss 0.0287 | Win/lose count 8.0/6.0 (2.0)\n",
      "Epoch 018/021 | Loss 0.0045 | Win/lose count 7.0/10.0 (-3.0)\n",
      "Epoch 019/021 | Loss 0.0081 | Win/lose count 5.5/2.0 (3.5)\n",
      "Epoch 020/021 | Loss 0.0057 | Win/lose count 4.5/8.0 (-3.5)\n"
     ]
    },
    {
     "data": {
      "text/html": [
       "<video alt=\"test\" controls>\n",
       "                <source src=\"data:video/mp4;base64,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\" type=\"video/mp4\" />\n",
       "             </video>"
      ],
      "text/plain": [
       "<IPython.core.display.HTML object>"
      ]
     },
     "execution_count": 13,
     "metadata": {},
     "output_type": "execute_result"
    }
   ],
   "source": [
    "env = Environment(grid_size=size, max_time=T, temperature=0.3)\n",
    "agent = DQN_FC(size, lr=.001, epsilon = 0.2, memory_size=2000, batch_size = 32)\n",
    "train(agent, env, epochs_train, prefix='fc_train')\n",
    "HTML(display_videos('fc_train10.mp4'))"
   ]
  },
  {
   "cell_type": "markdown",
   "metadata": {},
   "source": [
    "***\n",
    "***\n",
    "__Question 8__ Implement the DQN training algorithm using a CNN (for example, 2 convolutional layers and one final fully connected layer)."
   ]
  },
  {
   "cell_type": "code",
   "execution_count": 14,
   "metadata": {},
   "outputs": [],
   "source": [
    "class DQN_CNN(DQN):\n",
    "    def __init__(self, *args,lr=0.1,**kwargs):\n",
    "        super(DQN_CNN, self).__init__(*args,**kwargs)\n",
    "        \n",
    "        ###### FILL IN\n",
    "        model = Sequential()\n",
    "        model.add(Conv2D(20, (3,3), activation = 'relu'))\n",
    "        model.add(Conv2D(20, (3,3), activation = 'relu'))\n",
    "        model.add(Flatten())\n",
    "        model.add(Dense(4))\n",
    "        model.compile(SGD(lr=lr, decay=1e-4, momentum=0.5), \"mse\")\n",
    "        self.model = model"
   ]
  },
  {
   "cell_type": "code",
   "execution_count": 15,
   "metadata": {},
   "outputs": [
    {
     "name": "stdout",
     "output_type": "stream",
     "text": [
      "WARNING:tensorflow:Layer conv2d is casting an input tensor from dtype float64 to the layer's dtype of float32, which is new behavior in TensorFlow 2.  The layer has dtype float32 because it's dtype defaults to floatx.\n",
      "\n",
      "If you intended to run this layer in float32, you can safely ignore this warning. If in doubt, this warning is likely only an issue if you are porting a TensorFlow 1.X model to TensorFlow 2.\n",
      "\n",
      "To change all layers to have dtype float64 by default, call `tf.keras.backend.set_floatx('float64')`. To change just this layer, pass dtype='float64' to the layer constructor. If you are the author of this layer, you can disable autocasting by passing autocast=False to the base Layer constructor.\n",
      "\n",
      "Epoch 000/021 | Loss 0.0089 | Win/lose count 4.0/5.0 (-1.0)\n",
      "Epoch 001/021 | Loss 0.0017 | Win/lose count 2.0/6.0 (-4.0)\n",
      "Epoch 002/021 | Loss 0.0020 | Win/lose count 3.5/4.0 (-0.5)\n",
      "Epoch 003/021 | Loss 0.0097 | Win/lose count 2.5/4.0 (-1.5)\n",
      "Epoch 004/021 | Loss 0.0001 | Win/lose count 3.0/3.0 (0.0)\n",
      "Epoch 005/021 | Loss 0.0056 | Win/lose count 3.5/6.0 (-2.5)\n",
      "Epoch 006/021 | Loss 0.0131 | Win/lose count 4.0/6.0 (-2.0)\n",
      "Epoch 007/021 | Loss 0.0081 | Win/lose count 8.5/9.0 (-0.5)\n",
      "Epoch 008/021 | Loss 0.0160 | Win/lose count 3.0/5.0 (-2.0)\n",
      "Epoch 009/021 | Loss 0.0081 | Win/lose count 1.0/10.0 (-9.0)\n",
      "Epoch 010/021 | Loss 0.0020 | Win/lose count 6.0/1.0 (5.0)\n",
      "Epoch 011/021 | Loss 0.0079 | Win/lose count 5.0/8.0 (-3.0)\n",
      "Epoch 012/021 | Loss 0.0114 | Win/lose count 3.0/4.0 (-1.0)\n",
      "Epoch 013/021 | Loss 0.0087 | Win/lose count 5.0/6.0 (-1.0)\n",
      "Epoch 014/021 | Loss 0.0173 | Win/lose count 7.0/13.0 (-6.0)\n",
      "Epoch 015/021 | Loss 0.0022 | Win/lose count 3.0/4.0 (-1.0)\n",
      "Epoch 016/021 | Loss 0.0121 | Win/lose count 5.5/8.0 (-2.5)\n",
      "Epoch 017/021 | Loss 0.0004 | Win/lose count 4.0/2.0 (2.0)\n",
      "Epoch 018/021 | Loss 0.0104 | Win/lose count 6.0/5.0 (1.0)\n",
      "Epoch 019/021 | Loss 0.0047 | Win/lose count 11.0/9.0 (2.0)\n",
      "Epoch 020/021 | Loss 0.0003 | Win/lose count 7.0/8.0 (-1.0)\n"
     ]
    },
    {
     "data": {
      "text/html": [
       "<video alt=\"test\" controls>\n",
       "                <source src=\"data:video/mp4;base64,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\" type=\"video/mp4\" />\n",
       "             </video>"
      ],
      "text/plain": [
       "<IPython.core.display.HTML object>"
      ]
     },
     "execution_count": 15,
     "metadata": {},
     "output_type": "execute_result"
    }
   ],
   "source": [
    "env = Environment(grid_size=size, max_time=T, temperature=0.3)\n",
    "agent = DQN_CNN(size, lr=.001, epsilon = 0.2, memory_size=2000, batch_size = 32)\n",
    "train(agent,env,epochs_train,prefix='cnn_train')\n",
    "HTML(display_videos('cnn_train10.mp4'))"
   ]
  },
  {
   "cell_type": "markdown",
   "metadata": {},
   "source": [
    "***\n",
    "***\n",
    "__Question 9__ Test both algorithms and compare their performances. Which issue(s) do you observe? Observe also different behaviors by changing the temperature."
   ]
  },
  {
   "cell_type": "code",
   "execution_count": 19,
   "metadata": {},
   "outputs": [
    {
     "name": "stdout",
     "output_type": "stream",
     "text": [
      "WARNING:tensorflow:Layer conv2d_4 is casting an input tensor from dtype float64 to the layer's dtype of float32, which is new behavior in TensorFlow 2.  The layer has dtype float32 because it's dtype defaults to floatx.\n",
      "\n",
      "If you intended to run this layer in float32, you can safely ignore this warning. If in doubt, this warning is likely only an issue if you are porting a TensorFlow 1.X model to TensorFlow 2.\n",
      "\n",
      "To change all layers to have dtype float64 by default, call `tf.keras.backend.set_floatx('float64')`. To change just this layer, pass dtype='float64' to the layer constructor. If you are the author of this layer, you can disable autocasting by passing autocast=False to the base Layer constructor.\n",
      "\n",
      "Model: \"sequential_5\"\n",
      "_________________________________________________________________\n",
      "Layer (type)                 Output Shape              Param #   \n",
      "=================================================================\n",
      "reshape_2 (Reshape)          (None, 50)                0         \n",
      "_________________________________________________________________\n",
      "dense_9 (Dense)              (None, 50)                2550      \n",
      "_________________________________________________________________\n",
      "dense_10 (Dense)             (None, 50)                2550      \n",
      "_________________________________________________________________\n",
      "dense_11 (Dense)             (None, 4)                 204       \n",
      "=================================================================\n",
      "Total params: 5,304\n",
      "Trainable params: 5,304\n",
      "Non-trainable params: 0\n",
      "_________________________________________________________________\n",
      "None\n",
      "Test of the CNN\n",
      "Win/lose count 3.5/5.0. Average score (-1.5)\n",
      "Win/lose count 6.5/5.0. Average score (0.0)\n",
      "Win/lose count 8.5/8.0. Average score (0.16666666666666666)\n",
      "Win/lose count 4.0/1.0. Average score (0.875)\n",
      "Win/lose count 5.5/6.0. Average score (0.6)\n",
      "Win/lose count 1.5/4.0. Average score (0.08333333333333333)\n",
      "Win/lose count 9.0/6.0. Average score (0.5)\n",
      "Win/lose count 7.0/4.0. Average score (0.8125)\n",
      "Win/lose count 3.0/4.0. Average score (0.6111111111111112)\n",
      "Win/lose count 4.0/6.0. Average score (0.35)\n",
      "Win/lose count 9.0/8.0. Average score (0.4090909090909091)\n",
      "Final score: 0.4090909090909091\n",
      "Test of the FC\n",
      "WARNING:tensorflow:Layer reshape_2 is casting an input tensor from dtype float64 to the layer's dtype of float32, which is new behavior in TensorFlow 2.  The layer has dtype float32 because it's dtype defaults to floatx.\n",
      "\n",
      "If you intended to run this layer in float32, you can safely ignore this warning. If in doubt, this warning is likely only an issue if you are porting a TensorFlow 1.X model to TensorFlow 2.\n",
      "\n",
      "To change all layers to have dtype float64 by default, call `tf.keras.backend.set_floatx('float64')`. To change just this layer, pass dtype='float64' to the layer constructor. If you are the author of this layer, you can disable autocasting by passing autocast=False to the base Layer constructor.\n",
      "\n",
      "Win/lose count 2.0/2.0. Average score (0.0)\n",
      "Win/lose count 3.0/1.0. Average score (1.0)\n",
      "Win/lose count 8.5/4.0. Average score (2.1666666666666665)\n",
      "Win/lose count 8.5/4.0. Average score (2.75)\n",
      "Win/lose count 4.0/11.0. Average score (0.8)\n",
      "Win/lose count 2.0/3.0. Average score (0.5)\n",
      "Win/lose count 2.0/3.0. Average score (0.2857142857142857)\n",
      "Win/lose count 4.5/3.0. Average score (0.4375)\n",
      "Win/lose count 6.5/10.0. Average score (0.0)\n",
      "Win/lose count 5.5/9.0. Average score (-0.35)\n",
      "Win/lose count 4.0/1.0. Average score (-0.045454545454545456)\n",
      "Final score: -0.045454545454545456\n"
     ]
    }
   ],
   "source": [
    "env = Environment(grid_size=size, max_time=T,temperature=0.5)\n",
    "agent_cnn = DQN_CNN(size, lr=.1, epsilon = 0.1, memory_size=2000, batch_size = 32)\n",
    "agent_cnn.model(np.zeros((1,5,5,2)))\n",
    "agent_cnn.model.load_weights('cnn_trainmodel.h5')\n",
    "#agent_cnn.load(name_weights='cnn_trainmodel.h5',name_model='cnn_trainmodel.json')\n",
    "\n",
    "agent_fc = DQN_FC(size, lr=.1, epsilon = 0.1, memory_size=2000, batch_size = 32)\n",
    "agent_cnn.load(name_weights='fc_trainmodel.h5',name_model='fc_trainmodel.json')\n",
    "print('Test of the CNN')\n",
    "test(agent_cnn,env,epochs_test,prefix='cnn_test')\n",
    "print('Test of the FC')\n",
    "test(agent_fc,env,epochs_test,prefix='fc_test')"
   ]
  },
  {
   "cell_type": "code",
   "execution_count": 20,
   "metadata": {},
   "outputs": [
    {
     "data": {
      "text/html": [
       "<video alt=\"test\" controls>\n",
       "                <source src=\"data:video/mp4;base64,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\" type=\"video/mp4\" />\n",
       "             </video>"
      ],
      "text/plain": [
       "<IPython.core.display.HTML object>"
      ]
     },
     "execution_count": 20,
     "metadata": {},
     "output_type": "execute_result"
    }
   ],
   "source": [
    "HTML(display_videos('cnn_test10.mp4'))"
   ]
  },
  {
   "cell_type": "code",
   "execution_count": 17,
   "metadata": {},
   "outputs": [
    {
     "data": {
      "text/html": [
       "<video alt=\"test\" controls>\n",
       "                <source src=\"data:video/mp4;base64,AAAAIGZ0eXBpc29tAAACAGlzb21pc28yYXZjMW1wNDEAAAAIZnJlZQAAFY9tZGF0AAACrQYF//+p3EXpvebZSLeWLNgg2SPu73gyNjQgLSBjb3JlIDE0OCByMjc0OCA5N2VhZWYyIC0gSC4yNjQvTVBFRy00IEFWQyBjb2RlYyAtIENvcHlsZWZ0IDIwMDMtMjAxNiAtIGh0dHA6Ly93d3cudmlkZW9sYW4ub3JnL3gyNjQuaHRtbCAtIG9wdGlvbnM6IGNhYmFjPTEgcmVmPTMgZGVibG9jaz0xOjA6MCBhbmFseXNlPTB4MzoweDExMyBtZT1oZXggc3VibWU9NyBwc3k9MSBwc3lfcmQ9MS4wMDowLjAwIG1peGVkX3JlZj0xIG1lX3JhbmdlPTE2IGNocm9tYV9tZT0xIHRyZWxsaXM9MSA4eDhkY3Q9MSBjcW09MCBkZWFkem9uZT0yMSwxMSBmYXN0X3Bza2lwPTEgY2hyb21hX3FwX29mZnNldD00IHRocmVhZHM9NiBsb29rYWhlYWRfdGhyZWFkcz0xIHNsaWNlZF90aHJlYWRzPTAgbnI9MCBkZWNpbWF0ZT0xIGludGVybGFjZWQ9MCBibHVyYXlfY29tcGF0PTAgY29uc3RyYWluZWRfaW50cmE9MCBiZnJhbWVzPTMgYl9weXJhbWlkPTIgYl9hZGFwdD0xIGJfYmlhcz0wIGRpcmVjdD0xIHdlaWdodGI9MSBvcGVuX2dvcD0wIHdlaWdodHA9MiBrZXlpbnQ9MjUwIGtleWludF9taW49MjUgc2NlbmVjdXQ9NDAgaW50cmFfcmVmcmVzaD0wIHJjX2xvb2thaGVhZD00MCByYz1jcmYgbWJ0cmVlPTEgY3JmPTIzLjAgcWNvbXA9MC42MCBxcG1pbj0wIHFwbWF4PTY5IHFwc3RlcD00IGlwX3JhdGlvPTEuNDAgYXE9MToxLjAwAIAAAAK9ZYiEADv//vb8/AptUwndP/9P+VxN2UIE1zAALTEAIgTYlI6+z4vwKZrZf8CiWgOunhgGOLEl07YT/ER+EMCMy6XvNeYnszJI+GqdHWy27kbFJE31qmjkCZTL/76dH/7pd1NZpHj+JMQATUmbK8xrXc1i1TjLvuWcTTvcM6sPygEq6Hmba2/uv43VqnQxTJj2ApGT1boBplZTL1NGirceLnhB1C1RsUPBRb7obHY/UaW3EsBmQnPUEFyQDynokRdtWDz6jIWv39XEQjHgFHO/7UwPZps6CaxIHeQXTDG0pkv9FOuSLC3MFtEvnTVE14ZMrvsimV0q9J5ou0/B72h8Ctp2HPFALBPLrZXLgKknL9JbtM90w/rO7R+7UqQREMHO/UVUrjnOkP11Vc3TpKUpQQw8CKn/7YnVRMH5dDrXuZYMteUSCsvTi/IWfwwSil66EqEXc34qoz7ksWYJ80BKlYuIYPhpYq0Q/wlLTiBLwLgr3vTD4GaTTUth0DBJHBbZP3CiuUJP9ogsAZ80BSUWT10UDZ/clWo6oROTQh7HSaMTtom56xEBF/DpH4aXpVxRd73pqLsyXnZnBvo9hSMK4f3JyOVdYJ9Bx4FbTokA72bRH8iXEFrCOq68jNGDu/v3otlsuzExpkm/bdRxbfcjE18ffIGdrNcMIuXOkfQs1HKCjHqFBxFRxedrdrvjUqoo5tTd1jmjx6DPOfqNF9hYPY1KPSbwA9eB75PS/SmrTt6agvH2mAQi7fwWt3RbYDMJxUHhTPHwCd1j+cmD1QBSkbIe4kIN4Lo03hY0VfABitLgR34PZMYnH3PVMKyyKwUABtTTb5prZ32WRXkoqm5BZZtm8HuChEYeZ7Fd4LMSwdKeAmjP2xeoy8IS9YWy0BgWM0N+D9sAc6qvCvu5+oBlSvgYf8vgJD7NHzgAAasAAAAcQZokbEO//qmWA5ueRzLLPn23Cpp0DbgcP1M5YAAAAA5BnkJ4hf8Boz/GtlknYQAAAA8BnmF0Qr8CMyV9A6YrcgMAAAAPAZ5jakK/AjNiusr+9WBBAAAAE0GaaEmoQWiZTAh3//6plgAAlYEAAAAMQZ6GRREsL/8AALKBAAAAEAGepXRCvwIpqJ5BFZy1YEEAAAAQAZ6nakK/AimonjnA+31gQAAAABNBmqxJqEFsmUwId//+qZYAAJWAAAAADEGeykUVLC//AACygQAAABABnul0Qr8CKaieQRWctWBAAAAAEAGe62pCvwIpqJ45wPt9YEAAAAATQZrwSahBbJlMCHf//qmWAACVgQAAAAxBnw5FFSwv/wAAsoEAAAAQAZ8tdEK/AimonkEVnLVgQQAAABABny9qQr8CKaieOcD7fWBAAAAAE0GbNEmoQWyZTAh3//6plgAAlYAAAAAMQZ9SRRUsL/8AALKBAAAAEAGfcXRCvwIpqJ5BFZy1YEAAAAAQAZ9zakK/AimonjnA+31gQAAAABNBm3hJqEFsmUwId//+qZYAAJWBAAAADEGflkUVLC//AACygAAAABABn7V0Qr8CKaieQRWctWBBAAAAEAGft2pCvwIpqJ45wPt9YEEAAAATQZu8SahBbJlMCHf//qmWAACVgAAAAAxBn9pFFSwv/wAAsoEAAAAQAZ/5dEK/AimonkEVnLVgQAAAABABn/tqQr8CKaieOcD7fWBBAAAAE0Gb4EmoQWyZTAh3//6plgAAlYEAAAAMQZ4eRRUsL/8AALKAAAAAEAGePXRCvwIpqJ5BFZy1YEAAAAAQAZ4/akK/AimonjnA+31gQQAAABNBmiRJqEFsmUwId//+qZYAAJWAAAAADEGeQkUVLC//AACygQAAABABnmF0Qr8CKaieQRWctWBAAAAAEAGeY2pCvwIpqJ45wPt9YEEAAAATQZpoSahBbJlMCHf//qmWAACVgQAAAAxBnoZFFSwv/wAAsoEAAAAQAZ6ldEK/AimonkEVnLVgQQAAABABnqdqQr8CKaieOcD7fWBAAAAAE0GarEmoQWyZTAh3//6plgAAlYAAAAAMQZ7KRRUsL/8AALKBAAAAEAGe6XRCvwIpqJ5BFZy1YEAAAAAQAZ7rakK/AimonjnA+31gQAAAABNBmvBJqEFsmUwId//+qZYAAJWBAAAADEGfDkUVLC//AACygQAAABABny10Qr8CKaieQRWctWBBAAAAEAGfL2pCvwIpqJ45wPt9YEAAAAATQZs0SahBbJlMCHf//qmWAACVgAAAAAxBn1JFFSwv/wAAsoEAAAAQAZ9xdEK/AimonkEVnLVgQAAAABABn3NqQr8CKaieOcD7fWBAAAAAE0GbeEmoQWyZTAh3//6plgAAlYEAAAAMQZ+WRRUsL/8AALKAAAAAEAGftXRCvwIpqJ5BFZy1YEEAAAAQAZ+3akK/AimonjnA+31gQQAAABNBm7xJqEFsmUwId//+qZYAAJWAAAAADEGf2kUVLC//AACygQAAABABn/l0Qr8CKaieQRWctWBAAAAAEAGf+2pCvwIpqJ45wPt9YEEAAAATQZvgSahBbJlMCHf//qmWAACVgQAAAAxBnh5FFSwv/wAAsoAAAAAQAZ49dEK/AimonkEVnLVgQAAAABABnj9qQr8CKaieOcD7fWBBAAAAE0GaJEmoQWyZTAh3//6plgAAlYAAAAAMQZ5CRRUsL/8AALKBAAAAEAGeYXRCvwIpqJ5BFZy1YEAAAAAQAZ5jakK/AimonjnA+31gQQAAABNBmmhJqEFsmUwId//+qZYAAJWBAAAADEGehkUVLC//AACygQAAABABnqV0Qr8CKaieQRWctWBBAAAAEAGep2pCvwIpqJ45wPt9YEAAAAATQZqsSahBbJlMCHf//qmWAACVgAAAAAxBnspFFSwv/wAAsoEAAAAQAZ7pdEK/AimonkEVnLVgQAAAABABnutqQr8CKaieOcD7fWBAAAAAE0Ga8EmoQWyZTAh3//6plgAAlYEAAAAMQZ8ORRUsL/8AALKBAAAAEAGfLXRCvwIpqJ5BFZy1YEEAAAAQAZ8vakK/AimonjnA+31gQAAAABNBmzRJqEFsmUwId//+qZYAAJWAAAAADEGfUkUVLC//AACygQAAABABn3F0Qr8CKaieQRWctWBAAAAAEAGfc2pCvwIpqJ45wPt9YEAAAAATQZt4SahBbJlMCHf//qmWAACVgQAAAAxBn5ZFFSwv/wAAsoAAAAAQAZ+1dEK/AimonkEVnLVgQQAAABABn7dqQr8CKaieOcD7fWBBAAAAE0GbvEmoQWyZTAh3//6plgAAlYAAAAAMQZ/aRRUsL/8AALKBAAAAEAGf+XRCvwIpqJ5BFZy1YEAAAAAQAZ/7akK/AimonjnA+31gQQAAABNBm+BJqEFsmUwId//+qZYAAJWBAAAADEGeHkUVLC//AACygAAAABABnj10Qr8CKaieQRWctWBAAAAAEAGeP2pCvwIpqJ45wPt9YEEAAAASQZokSahBbJlMCG///qeEAAEnAAAADEGeQkUVLC//AACygQAAABABnmF0Qr8CKaieQRWctWBAAAAAEAGeY2pCvwIpqJ45wPt9YEEAAAASQZpoSahBbJlMCGf//p4QAAR9AAAADEGehkUVLC//AACygQAAABABnqV0Qr8CKaieQRWctWBBAAAAEAGep2pCvwIpqJ45wPt9YEAAAAAZQZqpSahBbJlMCG///qeEBx9HPrOgtz5RdwAAABhBmspJ4QpSZTAhv/6nhAHxtNxLYLekxJ0AAAAdQZrtSeEOiZTAhv/+p4QBHfjp7vN1jNIRQkSOekAAAAATQZ8LRRE8K/8A56uDXHiqcsL8gAAAAA8BnyxqQr8A54P6pFAlUccAAAAYQZsvSahBaJlMFPDf/qeEAHPB4muNUJmLAAAAEAGfTmpCvwCRKkd7PH2624EAAAAZQZtQSeEKUmUwId/+qZYAjCLDdGIRz6/i4AAAACNBm3RJ4Q6JlMCHf/6plgOZ4Tj4hBt/+EqoZv//DI3fY41w8AAAABBBn5JFETwv/wGjQBnAGidhAAAADwGfsXRCvwIzJX0DpityAwAAAA8Bn7NqQr8CM2K6yv71YEAAAAATQZu4SahBaJlMCHf//qmWAACVgQAAAAxBn9ZFESwv/wAAsoAAAAAQAZ/1dEK/AimonkEVnLVgQQAAABABn/dqQr8CKaieOcD7fWBBAAAAE0Gb/EmoQWyZTAh3//6plgAAlYAAAAAMQZ4aRRUsL/8AALKBAAAAEAGeOXRCvwIpqJ5BFZy1YEAAAAAQAZ47akK/AimonjnA+31gQQAAABNBmiBJqEFsmUwId//+qZYAAJWBAAAADEGeXkUVLC//AACygAAAABABnn10Qr8CKaieQRWctWBAAAAAEAGef2pCvwIpqJ45wPt9YEEAAAASQZpkSahBbJlMCG///qeEAAEnAAAADEGegkUVLC//AACygQAAABABnqF0Qr8CKaieQRWctWBAAAAAEAGeo2pCvwIpqJ45wPt9YEEAAAASQZqoSahBbJlMCG///qeEAAEnAAAADEGexkUVLC//AACygQAAABABnuV0Qr8CKaieQRWctWBBAAAAEAGe52pCvwIpqJ45wPt9YEAAAAAcQZrpSahBbJlMCG///qeEBx9LoEJ/b9Bbnyi7gAAAABlBmwpJ4QpSZTAh3/6plgEFUc60PV9thKSBAAAAGEGbLknhDomUwId//qmWA4H7oM6MfmWIOAAAABBBn0xFETwv/wGjn6L7AveEAAAADwGfa3RCvwJJYrGC/tBzQQAAABABn21qQr8CR84a95XCfGLBAAAAE0GbckmoQWiZTAh3//6plgAAlYEAAAAMQZ+QRREsL/8AALKAAAAAEAGfr3RCvwIpqJ5BFZy1YEAAAAAQAZ+xakK/AimonjnA+31gQQAAABNBm7ZJqEFsmUwId//+qZYAAJWAAAAADEGf1EUVLC//AACygAAAABABn/N0Qr8CKaieQRWctWBBAAAAEAGf9WpCvwIpqJ45wPt9YEAAAAATQZv6SahBbJlMCHf//qmWAACVgQAAAAxBnhhFFSwv/wAAsoEAAAAQAZ43dEK/AimonkEVnLVgQAAAABABnjlqQr8CKaieOcD7fWBBAAAAEkGaPkmoQWyZTAhv//6nhAABJwAAAAxBnlxFFSwv/wAAsoEAAAAQAZ57dEK/AimonkEVnLVgQQAAABABnn1qQr8CKaieOcD7fWBAAAAAGUGaf0moQWyZTAh3//6plgObo5pZ0dPfkTMAAAAWQZqDSeEKUmUwId/+qZYA8PhR9mBSQQAAAA5BnqFFNEwv/wD3/t6z4AAAABABnsB0Qr8CFaieQRWctWLBAAAAEAGewmpCvwIVqJ45wPt9YsAAAAATQZrHSahBaJlMCHf//qmWAACVgQAAAAxBnuVFESwv/wAAsoEAAAAQAZ8EdEK/AhWonkEVnLViwQAAABABnwZqQr8CFaieOcD7fWLBAAAAE0GbC0moQWyZTAh3//6plgAAlYAAAAAMQZ8pRRUsL/8AALKAAAAAEAGfSHRCvwIVqJ5BFZy1YsEAAAAQAZ9KakK/AhWonjnA+31iwAAAABJBm09JqEFsmUwIb//+p4QAAScAAAAMQZ9tRRUsL/8AALKBAAAAEAGfjHRCvwIVqJ5BFZy1YsEAAAAQAZ+OakK/AhWonjnA+31iwQAAABxBm5BJqEFsmUwId//+qZYDN8QgH9/GJIUwCjAgAAAAHEGbtEnhClJlMCHf/qmWA4EE/KqPu+rvt82B5eAAAAARQZ/SRTRML/8Bo5+c8DiAFpEAAAAPAZ/xdEK/AVqMYuA/LPfgAAAADwGf82pCvwIy6p5MCp67LwAAABNBm/hJqEFomUwId//+qZYAAJWBAAAADEGeFkURLC//AACygAAAABABnjV0Qr8CKaieQRWctWBBAAAAEAGeN2pCvwIpqJ45wPt9YEEAAAATQZo8SahBbJlMCHf//qmWAACVgAAAAAxBnlpFFSwv/wAAsoEAAAAQAZ55dEK/AimonkEVnLVgQAAAABABnntqQr8CKaieOcD7fWBBAAAAEkGaYEmoQWyZTAhv//6nhAABJwAAAAxBnp5FFSwv/wAAsoAAAAAQAZ69dEK/AimonkEVnLVgQAAAABABnr9qQr8CKaieOcD7fWBBAAAAEkGapEmoQWyZTAhv//6nhAABJwAAAAxBnsJFFSwv/wAAsoEAAAAQAZ7hdEK/AimonkEVnLVgQAAAABABnuNqQr8CKaieOcD7fWBBAAAAEkGa6EmoQWyZTAhf//6MsAAEjQAAAAxBnwZFFSwv/wAAsoEAAAAQAZ8ldEK/AimonkEVnLVgQQAAABABnydqQr8CKaieOcD7fWBAAAAAGkGbKUuoQhBbJEYIKAfyAf2HgCFf/jhAABFwAAAMcW1vb3YAAABsbXZoZAAAAAAAAAAAAAAAAAAAA+gAAB+QAAEAAAEAAAAAAAAAAAAAAAABAAAAAAAAAAAAAAAAAAAAAQAAAAAAAAAAAAAAAAAAQAAAAAAAAAAAAAAAAAAAAAAAAAAAAAAAAAAAAAAAAAIAAAubdHJhawAAAFx0a2hkAAAAAwAAAAAAAAAAAAAAAQAAAAAAAB+QAAAAAAAAAAAAAAAAAAAAAAABAAAAAAAAAAAAAAAAAAAAAQAAAAAAAAAAAAAAAAAAQAAAAAEQAAABEAAAAAAAJGVkdHMAAAAcZWxzdAAAAAAAAAABAAAfkAAABAAAAQAAAAALE21kaWEAAAAgbWRoZAAAAAAAAAAAAAAAAAAAMgAAAZQAVcQAAAAAAC1oZGxyAAAAAAAAAAB2aWRlAAAAAAAAAAAAAAAAVmlkZW9IYW5kbGVyAAAACr5taW5mAAAAFHZtaGQAAAABAAAAAAAAAAAAAAAkZGluZgAAABxkcmVmAAAAAAAAAAEAAAAMdXJsIAAAAAEAAAp+c3RibAAAAJZzdHNkAAAAAAAAAAEAAACGYXZjMQAAAAAAAAABAAAAAAAAAAAAAAAAAAAAAAEQARAASAAAAEgAAAAAAAAAAQAAAAAAAAAAAAAAAAAAAAAAAAAAAAAAAAAAAAAAAAAAABj//wAAADBhdmNDAfQADf/hABdn9AANkZsoIhHQgAAAAwCAAAAZB4oUywEABmjr48RIRAAAABhzdHRzAAAAAAAAAAEAAADKAAACAAAAABRzdHNzAAAAAAAAAAEAAAABAAAGSGN0dHMAAAAAAAAAxwAAAAEAAAQAAAAAAQAACgAAAAABAAAEAAAAAAEAAAAAAAAAAQAAAgAAAAABAAAKAAAAAAEAAAQAAAAAAQAAAAAAAAABAAACAAAAAAEAAAoAAAAAAQAABAAAAAABAAAAAAAAAAEAAAIAAAAAAQAACgAAAAABAAAEAAAAAAEAAAAAAAAAAQAAAgAAAAABAAAKAAAAAAEAAAQAAAAAAQAAAAAAAAABAAACAAAAAAEAAAoAAAAAAQAABAAAAAABAAAAAAAAAAEAAAIAAAAAAQAACgAAAAABAAAEAAAAAAEAAAAAAAAAAQAAAgAAAAABAAAKAAAAAAEAAAQAAAAAAQAAAAAAAAABAAACAAAAAAEAAAoAAAAAAQAABAAAAAABAAAAAAAAAAEAAAIAAAAAAQAACgAAAAABAAAEAAAAAAEAAAAAAAAAAQAAAgAAAAABAAAKAAAAAAEAAAQAAAAAAQAAAAAAAAABAAACAAAAAAEAAAoAAAAAAQAABAAAAAABAAAAAAAAAAEAAAIAAAAAAQAACgAAAAABAAAEAAAAAAEAAAAAAAAAAQAAAgAAAAABAAAKAAAAAAEAAAQAAAAAAQAAAAAAAAABAAACAAAAAAEAAAoAAAAAAQAABAAAAAABAAAAAAAAAAEAAAIAAAAAAQAACgAAAAABAAAEAAAAAAEAAAAAAAAAAQAAAgAAAAABAAAKAAAAAAEAAAQAAAAAAQAAAAAAAAABAAACAAAAAAEAAAoAAAAAAQAABAAAAAABAAAAAAAAAAEAAAIAAAAAAQAACgAAAAABAAAEAAAAAAEAAAAAAAAAAQAAAgAAAAABAAAKAAAAAAEAAAQAAAAAAQAAAAAAAAABAAACAAAAAAEAAAoAAAAAAQAABAAAAAABAAAAAAAAAAEAAAIAAAAAAQAACgAAAAABAAAEAAAAAAEAAAAAAAAAAQAAAgAAAAABAAAKAAAAAAEAAAQAAAAAAQAAAAAAAAABAAACAAAAAAEAAAoAAAAAAQAABAAAAAABAAAAAAAAAAEAAAIAAAAAAQAACgAAAAABAAAEAAAAAAEAAAAAAAAAAQAAAgAAAAABAAAKAAAAAAEAAAQAAAAAAQAAAAAAAAABAAACAAAAAAIAAAQAAAAAAQAACAAAAAACAAACAAAAAAEAAAYAAAAAAQAAAgAAAAABAAAEAAAAAAEAAAoAAAAAAQAABAAAAAABAAAAAAAAAAEAAAIAAAAAAQAACgAAAAABAAAEAAAAAAEAAAAAAAAAAQAAAgAAAAABAAAKAAAAAAEAAAQAAAAAAQAAAAAAAAABAAACAAAAAAEAAAoAAAAAAQAABAAAAAABAAAAAAAAAAEAAAIAAAAAAQAACgAAAAABAAAEAAAAAAEAAAAAAAAAAQAAAgAAAAABAAAKAAAAAAEAAAQAAAAAAQAAAAAAAAABAAACAAAAAAIAAAQAAAAAAQAACgAAAAABAAAEAAAAAAEAAAAAAAAAAQAAAgAAAAABAAAKAAAAAAEAAAQAAAAAAQAAAAAAAAABAAACAAAAAAEAAAoAAAAAAQAABAAAAAABAAAAAAAAAAEAAAIAAAAAAQAACgAAAAABAAAEAAAAAAEAAAAAAAAAAQAAAgAAAAABAAAKAAAAAAEAAAQAAAAAAQAAAAAAAAABAAACAAAAAAEAAAQAAAAAAQAACgAAAAABAAAEAAAAAAEAAAAAAAAAAQAAAgAAAAABAAAKAAAAAAEAAAQAAAAAAQAAAAAAAAABAAACAAAAAAEAAAoAAAAAAQAABAAAAAABAAAAAAAAAAEAAAIAAAAAAQAACgAAAAABAAAEAAAAAAEAAAAAAAAAAQAAAgAAAAABAAAEAAAAAAEAAAoAAAAAAQAABAAAAAABAAAAAAAAAAEAAAIAAAAAAQAACgAAAAABAAAEAAAAAAEAAAAAAAAAAQAAAgAAAAABAAAKAAAAAAEAAAQAAAAAAQAAAAAAAAABAAACAAAAAAEAAAoAAAAAAQAABAAAAAABAAAAAAAAAAEAAAIAAAAAAQAACgAAAAABAAAEAAAAAAEAAAAAAAAAAQAAAgAAAAABAAAKAAAAAAEAAAQAAAAAAQAAAAAAAAABAAACAAAAAAEAAAQAAAAAHHN0c2MAAAAAAAAAAQAAAAEAAADKAAAAAQAAAzxzdHN6AAAAAAAAAAAAAADKAAAFcgAAACAAAAASAAAAEwAAABMAAAAXAAAAEAAAABQAAAAUAAAAFwAAABAAAAAUAAAAFAAAABcAAAAQAAAAFAAAABQAAAAXAAAAEAAAABQAAAAUAAAAFwAAABAAAAAUAAAAFAAAABcAAAAQAAAAFAAAABQAAAAXAAAAEAAAABQAAAAUAAAAFwAAABAAAAAUAAAAFAAAABcAAAAQAAAAFAAAABQAAAAXAAAAEAAAABQAAAAUAAAAFwAAABAAAAAUAAAAFAAAABcAAAAQAAAAFAAAABQAAAAXAAAAEAAAABQAAAAUAAAAFwAAABAAAAAUAAAAFAAAABcAAAAQAAAAFAAAABQAAAAXAAAAEAAAABQAAAAUAAAAFwAAABAAAAAUAAAAFAAAABcAAAAQAAAAFAAAABQAAAAXAAAAEAAAABQAAAAUAAAAFwAAABAAAAAUAAAAFAAAABcAAAAQAAAAFAAAABQAAAAXAAAAEAAAABQAAAAUAAAAFwAAABAAAAAUAAAAFAAAABYAAAAQAAAAFAAAABQAAAAWAAAAEAAAABQAAAAUAAAAHQAAABwAAAAhAAAAFwAAABMAAAAcAAAAFAAAAB0AAAAnAAAAFAAAABMAAAATAAAAFwAAABAAAAAUAAAAFAAAABcAAAAQAAAAFAAAABQAAAAXAAAAEAAAABQAAAAUAAAAFgAAABAAAAAUAAAAFAAAABYAAAAQAAAAFAAAABQAAAAgAAAAHQAAABwAAAAUAAAAEwAAABQAAAAXAAAAEAAAABQAAAAUAAAAFwAAABAAAAAUAAAAFAAAABcAAAAQAAAAFAAAABQAAAAWAAAAEAAAABQAAAAUAAAAHQAAABoAAAASAAAAFAAAABQAAAAXAAAAEAAAABQAAAAUAAAAFwAAABAAAAAUAAAAFAAAABYAAAAQAAAAFAAAABQAAAAgAAAAIAAAABUAAAATAAAAEwAAABcAAAAQAAAAFAAAABQAAAAXAAAAEAAAABQAAAAUAAAAFgAAABAAAAAUAAAAFAAAABYAAAAQAAAAFAAAABQAAAAWAAAAEAAAABQAAAAUAAAAHgAAABRzdGNvAAAAAAAAAAEAAAAwAAAAYnVkdGEAAABabWV0YQAAAAAAAAAhaGRscgAAAAAAAAAAbWRpcmFwcGwAAAAAAAAAAAAAAAAtaWxzdAAAACWpdG9vAAAAHWRhdGEAAAABAAAAAExhdmY1Ny41Ni4xMDE=\" type=\"video/mp4\" />\n",
       "             </video>"
      ],
      "text/plain": [
       "<IPython.core.display.HTML object>"
      ]
     },
     "execution_count": 17,
     "metadata": {},
     "output_type": "execute_result"
    }
   ],
   "source": [
    "HTML(display_videos('fc_test10.mp4'))"
   ]
  },
  {
   "cell_type": "markdown",
   "metadata": {},
   "source": [
    "1) DQN_CNN's performance is better than FC's. However, both of them face the same challenge: the rat tends to stay in place rather than explore the map.\n",
    "\n",
    "2) Changing the temperature makes the algorithm work worse in general: Since the environment transition probability is changed (compared to the train one). Nevertheless, since I applied an $\\epsilon$ probability of choosing uniformly random action (to avoid the rat oscillates forever), the FC works better if we increase the temperature (since we have more cheese now)."
   ]
  },
  {
   "cell_type": "markdown",
   "metadata": {},
   "source": [
    "***\n",
    "\n",
    "The algorithm tends to not explore the map which can be an issue. We propose two ideas in order to encourage exploration:\n",
    "1. Incorporating a decreasing $\\epsilon$-greedy exploration. You can use the method ```set_epsilon```\n",
    "2. Append via the environment a new state that describes if a cell has been visited or not\n",
    "\n",
    "***\n",
    "__Question 10__ Design a new ```train_explore``` function and environment class ```EnvironmentExploring``` to tackle the issue of exploration.\n",
    "\n"
   ]
  },
  {
   "cell_type": "code",
   "execution_count": 25,
   "metadata": {},
   "outputs": [],
   "source": [
    "def train_explore(agent,env,epoch,prefix=''):\n",
    "    # Number of won games\n",
    "    score = 0\n",
    "    loss = 0\n",
    "\n",
    "    for e in range(epoch):\n",
    "        # At each epoch, we restart to a fresh game and get the initial state\n",
    "        state = env.reset()\n",
    "        #Set the epsilon linearly decreasing to reduce the exploration\n",
    "        agent.set_epsilon(1 - e * 1.0 / epoch)\n",
    "        # This assumes that the games will terminate\n",
    "        game_over = False\n",
    "\n",
    "        win = 0\n",
    "        lose = 0\n",
    "\n",
    "        while not game_over:\n",
    "            # The agent performs an action\n",
    "            action = agent.act(state)\n",
    "            \n",
    "            # Apply an action to the environment, get the next state, the reward\n",
    "            # and if the games end\n",
    "            prev_state = state\n",
    "            state, reward, game_over = env.act(action, train = True)\n",
    "\n",
    "            # Update the counters\n",
    "            if reward > 0:\n",
    "                win = win + reward\n",
    "            if reward < 0:\n",
    "                lose = lose - reward\n",
    "\n",
    "            # Apply the reinforcement strategy\n",
    "            loss = agent.reinforce(prev_state, state,  action, reward, game_over)\n",
    "\n",
    "        # Save as a mp4\n",
    "        if e % 10 == 0:\n",
    "            env.draw(prefix+str(e))\n",
    "\n",
    "        # Update stats\n",
    "        score += win-lose\n",
    "\n",
    "        print(\"Epoch {:03d}/{:03d} | Loss {:.4f} | Win/lose count {}/{} ({})\"\n",
    "              .format(e, epoch, loss, win, lose, win-lose))\n",
    "        agent.save(name_weights=prefix+'model.h5',name_model=prefix+'model.json')\n",
    "        \n",
    "class EnvironmentExploring(object):\n",
    "    def __init__(self, grid_size=10, max_time=500, temperature=0.1):\n",
    "        grid_size = grid_size+4\n",
    "        self.grid_size = grid_size\n",
    "        self.max_time = max_time\n",
    "        self.temperature = temperature\n",
    "\n",
    "        #board on which one plays\n",
    "        self.board = np.zeros((grid_size,grid_size))\n",
    "        self.position = np.zeros((grid_size,grid_size))\n",
    "\n",
    "        # coordinate of the cat\n",
    "        self.x = 0\n",
    "        self.y = 1\n",
    "\n",
    "        # self time\n",
    "        self.t = 0\n",
    "\n",
    "        self.scale=16\n",
    "\n",
    "        self.to_draw = np.zeros((max_time+2, grid_size*self.scale, grid_size*self.scale, 3))\n",
    "\n",
    "\n",
    "    def draw(self,e):\n",
    "        skvideo.io.vwrite(str(e) + '.mp4', self.to_draw)\n",
    "\n",
    "    def get_frame(self,t):\n",
    "        b = np.zeros((self.grid_size,self.grid_size,3))+128\n",
    "        b[self.board>0,0] = 256\n",
    "        b[self.board < 0, 2] = 256\n",
    "        b[self.x,self.y,:]=256\n",
    "        b[-2:,:,:]=0\n",
    "        b[:,-2:,:]=0\n",
    "        b[:2,:,:]=0\n",
    "        b[:,:2,:]=0\n",
    "        \n",
    "        b =  cv2.resize(b, None, fx=self.scale, fy=self.scale, interpolation=cv2.INTER_NEAREST)\n",
    "\n",
    "        self.to_draw[t,:,:,:]=b\n",
    "\n",
    "\n",
    "    def act(self, action, train = False):\n",
    "        \"\"\"This function returns the new state, reward and decides if the\n",
    "        game ends.\"\"\"\n",
    "\n",
    "        self.get_frame(int(self.t))\n",
    "\n",
    "        self.position = np.zeros((self.grid_size, self.grid_size))\n",
    "\n",
    "        self.position[0:2,:]= -1\n",
    "        self.position[:,0:2] = -1\n",
    "        self.position[-2:, :] = -1\n",
    "        self.position[:, -2:] = -1\n",
    "\n",
    "        self.position[self.x, self.y] = 1\n",
    "        if action == 0:\n",
    "            if self.x == self.grid_size-3:\n",
    "                self.x = self.x-1\n",
    "            else:\n",
    "                self.x = self.x + 1\n",
    "        elif action == 1:\n",
    "            if self.x == 2:\n",
    "                self.x = self.x+1\n",
    "            else:\n",
    "                self.x = self.x-1\n",
    "        elif action == 2:\n",
    "            if self.y == self.grid_size - 3:\n",
    "                self.y = self.y - 1\n",
    "            else:\n",
    "                self.y = self.y + 1\n",
    "        elif action == 3:\n",
    "            if self.y == 2:\n",
    "                self.y = self.y + 1\n",
    "            else:\n",
    "                self.y = self.y - 1\n",
    "        else:\n",
    "            RuntimeError('Error: action not recognized')\n",
    "\n",
    "        self.t = self.t + 1\n",
    "        reward = 0\n",
    "        #Update the board when training to get desired feedback from the environment\n",
    "        if train:\n",
    "            reward = -self.malus_position[self.x, self.y]\n",
    "        self.malus_position[self.x, self.y] = 0.1\n",
    "\n",
    "        reward = reward + self.board[self.x, self.y]\n",
    "        self.board[self.x, self.y] = 0\n",
    "        game_over = self.t > self.max_time\n",
    "        state = np.concatenate((self.malus_position.reshape(self.grid_size, self.grid_size,1),\n",
    "                                self.board.reshape(self.grid_size, self.grid_size,1),\n",
    "                                self.position.reshape(self.grid_size, self.grid_size,1)),axis=2)\n",
    "        state = state[self.x-2:self.x+3,self.y-2:self.y+3,:]\n",
    "\n",
    "        return state, reward, game_over\n",
    "\n",
    "    def reset(self):\n",
    "        \"\"\"This function resets the game and returns the initial state\"\"\"\n",
    "\n",
    "        self.x = np.random.randint(3, self.grid_size-3, size=1)[0]\n",
    "        self.y = np.random.randint(3, self.grid_size-3, size=1)[0]\n",
    "\n",
    "\n",
    "        bonus = 0.5*np.random.binomial(1,self.temperature,size=self.grid_size**2)\n",
    "        bonus = bonus.reshape(self.grid_size,self.grid_size)\n",
    "\n",
    "        malus = -1.0*np.random.binomial(1,self.temperature,size=self.grid_size**2)\n",
    "        malus = malus.reshape(self.grid_size, self.grid_size)\n",
    "\n",
    "        self.to_draw = np.zeros((self.max_time+2, self.grid_size*self.scale, self.grid_size*self.scale, 3))\n",
    "\n",
    "\n",
    "        malus[bonus>0]=0\n",
    "\n",
    "        self.board = bonus + malus\n",
    "\n",
    "        self.position = np.zeros((self.grid_size, self.grid_size))\n",
    "        self.position[0:2,:]= -1\n",
    "        self.position[:,0:2] = -1\n",
    "        self.position[-2:, :] = -1\n",
    "        self.position[:, -2:] = -1\n",
    "        self.board[self.x,self.y] = 0\n",
    "        self.malus_position = np.zeros((self.grid_size, self.grid_size))\n",
    "        self.t = 0\n",
    "\n",
    "        state = np.concatenate((self.malus_position.reshape(self.grid_size, self.grid_size,1),\n",
    "                                self.board.reshape(self.grid_size, self.grid_size,1),\n",
    "                                self.position.reshape(self.grid_size, self.grid_size,1)),axis=2)\n",
    "\n",
    "        state = state[self.x - 2:self.x + 3, self.y - 2:self.y + 3, :]\n",
    "        return state\n",
    "    \n",
    "## use those samples of code:\n",
    "#In train explore:"
   ]
  },
  {
   "cell_type": "code",
   "execution_count": 32,
   "metadata": {},
   "outputs": [
    {
     "name": "stdout",
     "output_type": "stream",
     "text": [
      "WARNING:tensorflow:Layer conv2d_18 is casting an input tensor from dtype float64 to the layer's dtype of float32, which is new behavior in TensorFlow 2.  The layer has dtype float32 because it's dtype defaults to floatx.\n",
      "\n",
      "If you intended to run this layer in float32, you can safely ignore this warning. If in doubt, this warning is likely only an issue if you are porting a TensorFlow 1.X model to TensorFlow 2.\n",
      "\n",
      "To change all layers to have dtype float64 by default, call `tf.keras.backend.set_floatx('float64')`. To change just this layer, pass dtype='float64' to the layer constructor. If you are the author of this layer, you can disable autocasting by passing autocast=False to the base Layer constructor.\n",
      "\n",
      "Epoch 000/031 | Loss 0.0063 | Win/lose count 11.0/29.400000000000055 (-18.400000000000055)\n",
      "Epoch 001/031 | Loss 0.0190 | Win/lose count 12.5/32.90000000000008 (-20.400000000000077)\n",
      "Epoch 002/031 | Loss 0.0042 | Win/lose count 9.5/31.100000000000065 (-21.600000000000065)\n",
      "Epoch 003/031 | Loss 0.0057 | Win/lose count 13.0/24.40000000000002 (-11.40000000000002)\n",
      "Epoch 004/031 | Loss 0.0044 | Win/lose count 7.5/29.1000000000001 (-21.6000000000001)\n",
      "Epoch 005/031 | Loss 0.0063 | Win/lose count 16.0/27.400000000000098 (-11.400000000000098)\n",
      "Epoch 006/031 | Loss 0.0041 | Win/lose count 14.0/20.099999999999984 (-6.099999999999984)\n",
      "Epoch 007/031 | Loss 0.0273 | Win/lose count 10.0/26.300000000000082 (-16.300000000000082)\n",
      "Epoch 008/031 | Loss 0.0112 | Win/lose count 15.0/24.00000000000005 (-9.00000000000005)\n",
      "Epoch 009/031 | Loss 0.0072 | Win/lose count 9.0/28.800000000000075 (-19.800000000000075)\n",
      "Epoch 010/031 | Loss 0.0075 | Win/lose count 13.5/20.700000000000024 (-7.200000000000024)\n",
      "Epoch 011/031 | Loss 0.0105 | Win/lose count 12.0/27.60000000000009 (-15.60000000000009)\n",
      "Epoch 012/031 | Loss 0.0065 | Win/lose count 10.0/25.900000000000084 (-15.900000000000084)\n",
      "Epoch 013/031 | Loss 0.0160 | Win/lose count 16.5/23.40000000000006 (-6.900000000000059)\n",
      "Epoch 014/031 | Loss 0.0081 | Win/lose count 15.5/22.40000000000005 (-6.900000000000048)\n",
      "Epoch 015/031 | Loss 0.0067 | Win/lose count 16.0/32.70000000000003 (-16.70000000000003)\n",
      "Epoch 016/031 | Loss 0.0044 | Win/lose count 12.0/24.000000000000032 (-12.000000000000032)\n",
      "Epoch 017/031 | Loss 0.0082 | Win/lose count 14.5/18.799999999999994 (-4.299999999999994)\n",
      "Epoch 018/031 | Loss 0.0044 | Win/lose count 22.5/22.200000000000017 (0.29999999999998295)\n",
      "Epoch 019/031 | Loss 0.0069 | Win/lose count 23.5/19.00000000000002 (4.499999999999979)\n",
      "Epoch 020/031 | Loss 0.0093 | Win/lose count 13.0/25.200000000000028 (-12.200000000000028)\n",
      "Epoch 021/031 | Loss 0.0105 | Win/lose count 20.5/23.800000000000054 (-3.300000000000054)\n",
      "Epoch 022/031 | Loss 0.0084 | Win/lose count 12.0/24.500000000000064 (-12.500000000000064)\n",
      "Epoch 023/031 | Loss 0.0045 | Win/lose count 10.5/21.200000000000042 (-10.700000000000042)\n",
      "Epoch 024/031 | Loss 0.0039 | Win/lose count 10.0/17.49999999999998 (-7.499999999999979)\n",
      "Epoch 025/031 | Loss 0.0066 | Win/lose count 10.5/20.099999999999994 (-9.599999999999994)\n",
      "Epoch 026/031 | Loss 0.0077 | Win/lose count 16.5/18.29999999999999 (-1.79999999999999)\n",
      "Epoch 027/031 | Loss 0.0065 | Win/lose count 15.0/18.900000000000002 (-3.900000000000002)\n",
      "Epoch 028/031 | Loss 0.0037 | Win/lose count 16.0/18.499999999999993 (-2.499999999999993)\n",
      "Epoch 029/031 | Loss 0.0033 | Win/lose count 27.0/17.199999999999985 (9.800000000000015)\n",
      "Epoch 030/031 | Loss 0.0026 | Win/lose count 23.0/12.099999999999973 (10.900000000000027)\n"
     ]
    },
    {
     "data": {
      "text/html": [
       "<video alt=\"test\" controls>\n",
       "                <source src=\"data:video/mp4;base64,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\" type=\"video/mp4\" />\n",
       "             </video>"
      ],
      "text/plain": [
       "<IPython.core.display.HTML object>"
      ]
     },
     "execution_count": 32,
     "metadata": {},
     "output_type": "execute_result"
    }
   ],
   "source": [
    "# Training\n",
    "env = EnvironmentExploring(grid_size=size, max_time=T, temperature=0.3)\n",
    "agent = DQN_CNN(size, lr=.1, epsilon = 0.1, memory_size=2000, batch_size = 32,n_state=3)\n",
    "train_explore(agent, env, epochs_train + 10, prefix='cnn_train_explore')\n",
    "HTML(display_videos('cnn_train_explore20.mp4'))"
   ]
  },
  {
   "cell_type": "code",
   "execution_count": 33,
   "metadata": {},
   "outputs": [
    {
     "name": "stdout",
     "output_type": "stream",
     "text": [
      "Win/lose count 19.5/1.0. Average score (18.5)\n",
      "Win/lose count 10.5/0. Average score (14.5)\n",
      "Win/lose count 16.5/2.0. Average score (14.5)\n",
      "Win/lose count 4.0/0. Average score (11.875)\n",
      "Win/lose count 10.0/3.0. Average score (10.9)\n",
      "Win/lose count 5.5/2.0. Average score (9.666666666666666)\n",
      "Win/lose count 8.5/2.0. Average score (9.214285714285714)\n",
      "Win/lose count 18.0/1.0. Average score (10.1875)\n",
      "Win/lose count 3.5/0. Average score (9.444444444444445)\n",
      "Win/lose count 19.0/0. Average score (10.4)\n",
      "Win/lose count 19.5/3.0. Average score (10.954545454545455)\n",
      "Final score: 10.954545454545455\n"
     ]
    },
    {
     "data": {
      "text/html": [
       "<video alt=\"test\" controls>\n",
       "                <source src=\"data:video/mp4;base64,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\" type=\"video/mp4\" />\n",
       "             </video>"
      ],
      "text/plain": [
       "<IPython.core.display.HTML object>"
      ]
     },
     "execution_count": 33,
     "metadata": {},
     "output_type": "execute_result"
    }
   ],
   "source": [
    "# Evaluation\n",
    "test(agent,env,epochs_test,prefix='cnn_test_explore')\n",
    "HTML(display_videos('cnn_test_explore10.mp4'))"
   ]
  },
  {
   "cell_type": "markdown",
   "metadata": {},
   "source": [
    "***\n",
    "***\n",
    "__BONUS question__ Use the expert DQN from the previous question to generate some winning games. Train a model that mimicks its behavior. Compare the performances."
   ]
  },
  {
   "cell_type": "code",
   "execution_count": 28,
   "metadata": {},
   "outputs": [],
   "source": [
    "class MimicDQN(DQN):\n",
    "    def __init__(self, *args, link, lr=0.1,**kwargs):\n",
    "        super(MimicDQN, self).__init__(*args,**kwargs)\n",
    "        \n",
    "        #Initialize and load the expert network\n",
    "        self.role_CNN = DQN_CNN(size, lr=.1, epsilon = 0.1, memory_size=2000, batch_size = 32,n_state=3)\n",
    "        self.role_CNN.model(np.zeros((32,5,5,3)))\n",
    "        self.role_CNN.model.load_weights(link[0])\n",
    "        \n",
    "        #Build our network to mimic the behavior. It looks like a classifier rather than estimator of Q function\n",
    "        model = Sequential()\n",
    "        model.add(Conv2D(20, (3,3), activation = 'relu'))\n",
    "        model.add(Conv2D(20, (3,3), activation = 'relu'))\n",
    "        model.add(Flatten())\n",
    "        model.add(Dense(4, activation = 'softmax'))\n",
    "        model.compile(SGD(lr=lr, decay=1e-4, momentum=0.5), 'categorical_crossentropy')\n",
    "        self.model = model\n",
    "        \n",
    "    def reinforce(self, s_, n_s_, a_, r_, game_over_):\n",
    "        # Two steps: first memorize the states, second learn from the pool\n",
    "        \n",
    "        #Reload instances in the experience replay \n",
    "        self.memory.remember([s_, n_s_, a_, r_, game_over_])\n",
    "        \n",
    "        \"\"\"\n",
    "        input_states: (batch_size x 5 x 5 x state) The input of the network, configuration from the environment \n",
    "        target_q: (batch_size x 4) The expected target value corresponding to the input_states\n",
    "        \"\"\"\n",
    "        input_states = np.zeros((self.batch_size, 5, 5,self.n_state))\n",
    "        target_q = np.zeros((self.batch_size, 4))\n",
    "        \n",
    "        for i in range(self.batch_size):\n",
    "            ######## FILL IN\n",
    "            s_, n_s_, a_, r_, game_over_ = self.memory.random_access()\n",
    "            input_states[i] = s_\n",
    "            #mask[a_] = 1\n",
    "            target_q[i][self.role_CNN.act(s_)] = 1.0 #Desired output = the choice of expert network\n",
    "            \n",
    "        ######## FILL IN\n",
    "        # HINT: Clip the target to avoid exploiding gradients.. -- clipping is a bit tighter\n",
    "        #print(input_states.shape)\n",
    "        #print(self.model(input_states).shape)\n",
    "        #target_q = self.model(input_states) * (1 - mask) + mask * target_q\n",
    "        #target_q = np.clip(target_q, -3, 3)\n",
    "        l = self.model.train_on_batch(input_states, target_q)\n",
    "\n",
    "        return l"
   ]
  },
  {
   "cell_type": "code",
   "execution_count": 34,
   "metadata": {},
   "outputs": [
    {
     "name": "stdout",
     "output_type": "stream",
     "text": [
      "WARNING:tensorflow:Layer conv2d_20 is casting an input tensor from dtype float64 to the layer's dtype of float32, which is new behavior in TensorFlow 2.  The layer has dtype float32 because it's dtype defaults to floatx.\n",
      "\n",
      "If you intended to run this layer in float32, you can safely ignore this warning. If in doubt, this warning is likely only an issue if you are porting a TensorFlow 1.X model to TensorFlow 2.\n",
      "\n",
      "To change all layers to have dtype float64 by default, call `tf.keras.backend.set_floatx('float64')`. To change just this layer, pass dtype='float64' to the layer constructor. If you are the author of this layer, you can disable autocasting by passing autocast=False to the base Layer constructor.\n",
      "\n",
      "Epoch 000/021 | Loss 1.0786 | Win/lose count 13.5/23.80000000000006 (-10.300000000000061)\n",
      "WARNING:tensorflow:Layer conv2d_22 is casting an input tensor from dtype float64 to the layer's dtype of float32, which is new behavior in TensorFlow 2.  The layer has dtype float32 because it's dtype defaults to floatx.\n",
      "\n",
      "If you intended to run this layer in float32, you can safely ignore this warning. If in doubt, this warning is likely only an issue if you are porting a TensorFlow 1.X model to TensorFlow 2.\n",
      "\n",
      "To change all layers to have dtype float64 by default, call `tf.keras.backend.set_floatx('float64')`. To change just this layer, pass dtype='float64' to the layer constructor. If you are the author of this layer, you can disable autocasting by passing autocast=False to the base Layer constructor.\n",
      "\n",
      "Epoch 001/021 | Loss 0.6428 | Win/lose count 12.5/30.900000000000087 (-18.400000000000087)\n",
      "Epoch 002/021 | Loss 0.7603 | Win/lose count 12.5/26.600000000000065 (-14.100000000000065)\n",
      "Epoch 003/021 | Loss 0.6413 | Win/lose count 9.0/24.70000000000011 (-15.70000000000011)\n",
      "Epoch 004/021 | Loss 0.8836 | Win/lose count 7.5/27.60000000000006 (-20.10000000000006)\n",
      "Epoch 005/021 | Loss 0.6066 | Win/lose count 14.5/24.000000000000068 (-9.500000000000068)\n",
      "Epoch 006/021 | Loss 0.4375 | Win/lose count 13.5/32.1000000000001 (-18.6000000000001)\n",
      "Epoch 007/021 | Loss 0.4520 | Win/lose count 18.5/27.80000000000002 (-9.300000000000018)\n",
      "Epoch 008/021 | Loss 0.4858 | Win/lose count 14.0/22.100000000000037 (-8.100000000000037)\n",
      "Epoch 009/021 | Loss 0.6094 | Win/lose count 14.0/23.000000000000043 (-9.000000000000043)\n",
      "Epoch 010/021 | Loss 0.5131 | Win/lose count 18.0/20.900000000000016 (-2.9000000000000163)\n",
      "Epoch 011/021 | Loss 0.7423 | Win/lose count 16.0/22.30000000000004 (-6.30000000000004)\n",
      "Epoch 012/021 | Loss 0.5018 | Win/lose count 17.5/22.700000000000006 (-5.200000000000006)\n",
      "Epoch 013/021 | Loss 0.3911 | Win/lose count 9.0/22.400000000000052 (-13.400000000000052)\n",
      "Epoch 014/021 | Loss 0.7006 | Win/lose count 12.5/21.200000000000045 (-8.700000000000045)\n",
      "Epoch 015/021 | Loss 0.4203 | Win/lose count 19.0/20.40000000000001 (-1.4000000000000092)\n",
      "Epoch 016/021 | Loss 0.5647 | Win/lose count 18.0/17.299999999999972 (0.7000000000000277)\n",
      "Epoch 017/021 | Loss 0.4708 | Win/lose count 11.5/18.70000000000001 (-7.20000000000001)\n",
      "Epoch 018/021 | Loss 0.3714 | Win/lose count 17.5/15.299999999999969 (2.2000000000000313)\n",
      "Epoch 019/021 | Loss 0.6606 | Win/lose count 14.0/15.499999999999968 (-1.499999999999968)\n",
      "Epoch 020/021 | Loss 0.6323 | Win/lose count 14.5/20.100000000000016 (-5.600000000000016)\n"
     ]
    }
   ],
   "source": [
    "env = EnvironmentExploring(grid_size=size, max_time=T, temperature=0.3)\n",
    "agent = MimicDQN(size, link = ['cnn_train_exploremodel.h5', 'cnn_train_exploremodel.json'], lr=.1, epsilon = 0.1, memory_size=2000, batch_size = 32,n_state=3)\n",
    "train_explore(agent, env, epochs_train, prefix='mimic_cnn_train_explore')"
   ]
  },
  {
   "cell_type": "code",
   "execution_count": 35,
   "metadata": {},
   "outputs": [
    {
     "name": "stdout",
     "output_type": "stream",
     "text": [
      "Win/lose count 12.5/3.0. Average score (9.5)\n",
      "Win/lose count 10.0/4.0. Average score (7.75)\n",
      "Win/lose count 17.0/2.0. Average score (10.166666666666666)\n",
      "Win/lose count 11.0/2.0. Average score (9.875)\n",
      "Win/lose count 3.5/3.0. Average score (8.0)\n",
      "Win/lose count 12.0/5.0. Average score (7.833333333333333)\n",
      "Win/lose count 19.0/5.0. Average score (8.714285714285714)\n",
      "Win/lose count 11.0/0. Average score (9.0)\n",
      "Win/lose count 13.5/2.0. Average score (9.277777777777779)\n",
      "Win/lose count 22.0/2.0. Average score (10.35)\n",
      "Win/lose count 3.5/2.0. Average score (9.545454545454545)\n",
      "Final score: 9.545454545454545\n"
     ]
    },
    {
     "data": {
      "text/html": [
       "<video alt=\"test\" controls>\n",
       "                <source src=\"data:video/mp4;base64,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\" type=\"video/mp4\" />\n",
       "             </video>"
      ],
      "text/plain": [
       "<IPython.core.display.HTML object>"
      ]
     },
     "execution_count": 35,
     "metadata": {},
     "output_type": "execute_result"
    }
   ],
   "source": [
    "test(agent,env,epochs_test,prefix='mimic_cnn_test_explore')\n",
    "HTML(display_videos('mimic_cnn_test_explore0.mp4'))"
   ]
  },
  {
   "cell_type": "markdown",
   "metadata": {},
   "source": [
    "***"
   ]
  }
 ],
 "metadata": {
  "kernelspec": {
   "display_name": "Python 3",
   "language": "python",
   "name": "python3"
  },
  "language_info": {
   "codemirror_mode": {
    "name": "ipython",
    "version": 3
   },
   "file_extension": ".py",
   "mimetype": "text/x-python",
   "name": "python",
   "nbconvert_exporter": "python",
   "pygments_lexer": "ipython3",
   "version": "3.5.3"
  }
 },
 "nbformat": 4,
 "nbformat_minor": 2
}
